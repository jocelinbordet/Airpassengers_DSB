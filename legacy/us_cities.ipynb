{
 "metadata": {
  "language_info": {
   "codemirror_mode": {
    "name": "ipython",
    "version": 3
   },
   "file_extension": ".py",
   "mimetype": "text/x-python",
   "name": "python",
   "nbconvert_exporter": "python",
   "pygments_lexer": "ipython3",
   "version": "3.8.3-final"
  },
  "orig_nbformat": 2,
  "kernelspec": {
   "name": "python3",
   "display_name": "Python 3"
  }
 },
 "nbformat": 4,
 "nbformat_minor": 2,
 "cells": [
  {
   "cell_type": "code",
   "execution_count": 1,
   "metadata": {},
   "outputs": [],
   "source": [
    "import pandas as pd\n",
    "import math"
   ]
  },
  {
   "cell_type": "code",
   "execution_count": 2,
   "metadata": {},
   "outputs": [],
   "source": [
    "def getDistanceFromLatLonInKm(lat1,lon1,lat2,lon2):\n",
    "  R = 6371 # Radius of the earth in km\n",
    "  dLat = deg2rad(lat2-lat1);  # deg2rad below\n",
    "  dLon = deg2rad(lon2-lon1); \n",
    "  a =  math.sin(dLat/2) * math.sin(dLat/2) + math.cos(deg2rad(lat1)) * math.cos(deg2rad(lat2)) * math.sin(dLon/2) * math.sin(dLon/2)\n",
    "  c = 2 * math.atan2(math.sqrt(a), math.sqrt(1-a))\n",
    "  d = R * c ## Distance in km\n",
    "  return d\n",
    "\n",
    "def deg2rad(deg):\n",
    "  return deg * (math.pi/180)"
   ]
  },
  {
   "cell_type": "code",
   "execution_count": 3,
   "metadata": {},
   "outputs": [
    {
     "output_type": "execute_result",
     "data": {
      "text/plain": [
       "1642.6907710110397"
      ]
     },
     "metadata": {},
     "execution_count": 3
    }
   ],
   "source": [
    "getDistanceFromLatLonInKm(40.6943,-73.9249,44.9635, -93.2678)"
   ]
  },
  {
   "cell_type": "code",
   "execution_count": 4,
   "metadata": {},
   "outputs": [],
   "source": [
    "data_cities = pd.read_csv('data/uscities.csv')"
   ]
  },
  {
   "cell_type": "code",
   "execution_count": 5,
   "metadata": {},
   "outputs": [],
   "source": [
    "cities = ['Atlanta', 'Boston', 'Chicago', 'Charlotte', 'Dallas-Fort Worth', 'Denver', 'Detroit', 'Houston', 'Las Vegas', 'Los Angeles', 'Miami', 'Minneapolis', 'Orlando', 'Philadelphia', 'Phoenix', 'San Francisco', 'New York', 'Seattle', 'Newark']"
   ]
  },
  {
   "cell_type": "code",
   "execution_count": 6,
   "metadata": {},
   "outputs": [],
   "source": [
    "data_cities.iloc[4,0] = 'Dallas-Fort Worth'"
   ]
  },
  {
   "cell_type": "code",
   "execution_count": 7,
   "metadata": {},
   "outputs": [],
   "source": [
    "data_cities = data_cities.drop(['city_ascii', 'state_id', 'state_name', 'county_fips', 'county_name', 'source', 'military', 'incorporated', 'zips', 'id', 'timezone', 'ranking'], axis=1)"
   ]
  },
  {
   "cell_type": "code",
   "execution_count": 8,
   "metadata": {
    "tags": []
   },
   "outputs": [],
   "source": [
    "data_filtered = data_cities[data_cities.city.isin(cities)]"
   ]
  },
  {
   "cell_type": "code",
   "execution_count": 9,
   "metadata": {},
   "outputs": [],
   "source": [
    "data_filtered = data_filtered[data_filtered.population > 100000]"
   ]
  },
  {
   "cell_type": "code",
   "execution_count": 10,
   "metadata": {},
   "outputs": [
    {
     "output_type": "execute_result",
     "data": {
      "text/plain": [
       "                  city      lat       lng  population  density\n",
       "0             New York  40.6943  -73.9249    18713220  10715.0\n",
       "1          Los Angeles  34.1139 -118.4068    12750807   3276.0\n",
       "2              Chicago  41.8373  -87.6862     8604203   4574.0\n",
       "3                Miami  25.7839  -80.2102     6445545   5019.0\n",
       "4    Dallas-Fort Worth  32.7936  -96.7662     5743938   1526.0\n",
       "5         Philadelphia  40.0077  -75.1339     5649300   4554.0\n",
       "6              Houston  29.7863  -95.3889     5464251   1399.0\n",
       "7              Atlanta  33.7627  -84.4224     5449398   1441.0\n",
       "9               Boston  42.3188  -71.0846     4688346   5532.0\n",
       "10             Phoenix  33.5722 -112.0891     4219697   1253.0\n",
       "11             Seattle  47.6211 -122.3244     3789215   3469.0\n",
       "12       San Francisco  37.7562 -122.4430     3592294   7256.0\n",
       "13             Detroit  42.3834  -83.1024     3506126   1864.0\n",
       "15         Minneapolis  44.9635  -93.2678     2977172   3071.0\n",
       "17              Denver  39.7621 -104.8759     2876625   1831.0\n",
       "22           Las Vegas  36.2333 -115.2654     2104198   1773.0\n",
       "27             Orlando  28.4772  -81.3369     1822394   1003.0\n",
       "37           Charlotte  35.2080  -80.8304     1512923   1113.0\n",
       "154             Newark  40.7245  -74.1725      282011   4509.0"
      ],
      "text/html": "<div>\n<style scoped>\n    .dataframe tbody tr th:only-of-type {\n        vertical-align: middle;\n    }\n\n    .dataframe tbody tr th {\n        vertical-align: top;\n    }\n\n    .dataframe thead th {\n        text-align: right;\n    }\n</style>\n<table border=\"1\" class=\"dataframe\">\n  <thead>\n    <tr style=\"text-align: right;\">\n      <th></th>\n      <th>city</th>\n      <th>lat</th>\n      <th>lng</th>\n      <th>population</th>\n      <th>density</th>\n    </tr>\n  </thead>\n  <tbody>\n    <tr>\n      <th>0</th>\n      <td>New York</td>\n      <td>40.6943</td>\n      <td>-73.9249</td>\n      <td>18713220</td>\n      <td>10715.0</td>\n    </tr>\n    <tr>\n      <th>1</th>\n      <td>Los Angeles</td>\n      <td>34.1139</td>\n      <td>-118.4068</td>\n      <td>12750807</td>\n      <td>3276.0</td>\n    </tr>\n    <tr>\n      <th>2</th>\n      <td>Chicago</td>\n      <td>41.8373</td>\n      <td>-87.6862</td>\n      <td>8604203</td>\n      <td>4574.0</td>\n    </tr>\n    <tr>\n      <th>3</th>\n      <td>Miami</td>\n      <td>25.7839</td>\n      <td>-80.2102</td>\n      <td>6445545</td>\n      <td>5019.0</td>\n    </tr>\n    <tr>\n      <th>4</th>\n      <td>Dallas-Fort Worth</td>\n      <td>32.7936</td>\n      <td>-96.7662</td>\n      <td>5743938</td>\n      <td>1526.0</td>\n    </tr>\n    <tr>\n      <th>5</th>\n      <td>Philadelphia</td>\n      <td>40.0077</td>\n      <td>-75.1339</td>\n      <td>5649300</td>\n      <td>4554.0</td>\n    </tr>\n    <tr>\n      <th>6</th>\n      <td>Houston</td>\n      <td>29.7863</td>\n      <td>-95.3889</td>\n      <td>5464251</td>\n      <td>1399.0</td>\n    </tr>\n    <tr>\n      <th>7</th>\n      <td>Atlanta</td>\n      <td>33.7627</td>\n      <td>-84.4224</td>\n      <td>5449398</td>\n      <td>1441.0</td>\n    </tr>\n    <tr>\n      <th>9</th>\n      <td>Boston</td>\n      <td>42.3188</td>\n      <td>-71.0846</td>\n      <td>4688346</td>\n      <td>5532.0</td>\n    </tr>\n    <tr>\n      <th>10</th>\n      <td>Phoenix</td>\n      <td>33.5722</td>\n      <td>-112.0891</td>\n      <td>4219697</td>\n      <td>1253.0</td>\n    </tr>\n    <tr>\n      <th>11</th>\n      <td>Seattle</td>\n      <td>47.6211</td>\n      <td>-122.3244</td>\n      <td>3789215</td>\n      <td>3469.0</td>\n    </tr>\n    <tr>\n      <th>12</th>\n      <td>San Francisco</td>\n      <td>37.7562</td>\n      <td>-122.4430</td>\n      <td>3592294</td>\n      <td>7256.0</td>\n    </tr>\n    <tr>\n      <th>13</th>\n      <td>Detroit</td>\n      <td>42.3834</td>\n      <td>-83.1024</td>\n      <td>3506126</td>\n      <td>1864.0</td>\n    </tr>\n    <tr>\n      <th>15</th>\n      <td>Minneapolis</td>\n      <td>44.9635</td>\n      <td>-93.2678</td>\n      <td>2977172</td>\n      <td>3071.0</td>\n    </tr>\n    <tr>\n      <th>17</th>\n      <td>Denver</td>\n      <td>39.7621</td>\n      <td>-104.8759</td>\n      <td>2876625</td>\n      <td>1831.0</td>\n    </tr>\n    <tr>\n      <th>22</th>\n      <td>Las Vegas</td>\n      <td>36.2333</td>\n      <td>-115.2654</td>\n      <td>2104198</td>\n      <td>1773.0</td>\n    </tr>\n    <tr>\n      <th>27</th>\n      <td>Orlando</td>\n      <td>28.4772</td>\n      <td>-81.3369</td>\n      <td>1822394</td>\n      <td>1003.0</td>\n    </tr>\n    <tr>\n      <th>37</th>\n      <td>Charlotte</td>\n      <td>35.2080</td>\n      <td>-80.8304</td>\n      <td>1512923</td>\n      <td>1113.0</td>\n    </tr>\n    <tr>\n      <th>154</th>\n      <td>Newark</td>\n      <td>40.7245</td>\n      <td>-74.1725</td>\n      <td>282011</td>\n      <td>4509.0</td>\n    </tr>\n  </tbody>\n</table>\n</div>"
     },
     "metadata": {},
     "execution_count": 10
    }
   ],
   "source": [
    "data_filtered"
   ]
  },
  {
   "cell_type": "code",
   "execution_count": 11,
   "metadata": {},
   "outputs": [],
   "source": [
    "data_filtered['key'] = 'xyz'"
   ]
  },
  {
   "cell_type": "code",
   "execution_count": 14,
   "metadata": {},
   "outputs": [],
   "source": [
    "cross_df = pd.merge(data_filtered[['city', 'lat', 'lng', 'population', 'density', 'key']], \n",
    "                    data_filtered[['city', 'lat', 'lng', 'population', 'density', 'key']], \n",
    "                    on='key', \n",
    "                    suffixes=('_departure', '_arrival')\n",
    "                    ).drop('key', axis=1)"
   ]
  },
  {
   "cell_type": "code",
   "execution_count": 15,
   "metadata": {},
   "outputs": [
    {
     "output_type": "execute_result",
     "data": {
      "text/plain": [
       "    city_departure  lat_departure  lng_departure  population_departure  \\\n",
       "0         New York        40.6943       -73.9249              18713220   \n",
       "1         New York        40.6943       -73.9249              18713220   \n",
       "2         New York        40.6943       -73.9249              18713220   \n",
       "3         New York        40.6943       -73.9249              18713220   \n",
       "4         New York        40.6943       -73.9249              18713220   \n",
       "..             ...            ...            ...                   ...   \n",
       "356         Newark        40.7245       -74.1725                282011   \n",
       "357         Newark        40.7245       -74.1725                282011   \n",
       "358         Newark        40.7245       -74.1725                282011   \n",
       "359         Newark        40.7245       -74.1725                282011   \n",
       "360         Newark        40.7245       -74.1725                282011   \n",
       "\n",
       "     density_departure       city_arrival  lat_arrival  lng_arrival  \\\n",
       "0              10715.0           New York      40.6943     -73.9249   \n",
       "1              10715.0        Los Angeles      34.1139    -118.4068   \n",
       "2              10715.0            Chicago      41.8373     -87.6862   \n",
       "3              10715.0              Miami      25.7839     -80.2102   \n",
       "4              10715.0  Dallas-Fort Worth      32.7936     -96.7662   \n",
       "..                 ...                ...          ...          ...   \n",
       "356             4509.0             Denver      39.7621    -104.8759   \n",
       "357             4509.0          Las Vegas      36.2333    -115.2654   \n",
       "358             4509.0            Orlando      28.4772     -81.3369   \n",
       "359             4509.0          Charlotte      35.2080     -80.8304   \n",
       "360             4509.0             Newark      40.7245     -74.1725   \n",
       "\n",
       "     population_arrival  density_arrival  \n",
       "0              18713220          10715.0  \n",
       "1              12750807           3276.0  \n",
       "2               8604203           4574.0  \n",
       "3               6445545           5019.0  \n",
       "4               5743938           1526.0  \n",
       "..                  ...              ...  \n",
       "356             2876625           1831.0  \n",
       "357             2104198           1773.0  \n",
       "358             1822394           1003.0  \n",
       "359             1512923           1113.0  \n",
       "360              282011           4509.0  \n",
       "\n",
       "[361 rows x 10 columns]"
      ],
      "text/html": "<div>\n<style scoped>\n    .dataframe tbody tr th:only-of-type {\n        vertical-align: middle;\n    }\n\n    .dataframe tbody tr th {\n        vertical-align: top;\n    }\n\n    .dataframe thead th {\n        text-align: right;\n    }\n</style>\n<table border=\"1\" class=\"dataframe\">\n  <thead>\n    <tr style=\"text-align: right;\">\n      <th></th>\n      <th>city_departure</th>\n      <th>lat_departure</th>\n      <th>lng_departure</th>\n      <th>population_departure</th>\n      <th>density_departure</th>\n      <th>city_arrival</th>\n      <th>lat_arrival</th>\n      <th>lng_arrival</th>\n      <th>population_arrival</th>\n      <th>density_arrival</th>\n    </tr>\n  </thead>\n  <tbody>\n    <tr>\n      <th>0</th>\n      <td>New York</td>\n      <td>40.6943</td>\n      <td>-73.9249</td>\n      <td>18713220</td>\n      <td>10715.0</td>\n      <td>New York</td>\n      <td>40.6943</td>\n      <td>-73.9249</td>\n      <td>18713220</td>\n      <td>10715.0</td>\n    </tr>\n    <tr>\n      <th>1</th>\n      <td>New York</td>\n      <td>40.6943</td>\n      <td>-73.9249</td>\n      <td>18713220</td>\n      <td>10715.0</td>\n      <td>Los Angeles</td>\n      <td>34.1139</td>\n      <td>-118.4068</td>\n      <td>12750807</td>\n      <td>3276.0</td>\n    </tr>\n    <tr>\n      <th>2</th>\n      <td>New York</td>\n      <td>40.6943</td>\n      <td>-73.9249</td>\n      <td>18713220</td>\n      <td>10715.0</td>\n      <td>Chicago</td>\n      <td>41.8373</td>\n      <td>-87.6862</td>\n      <td>8604203</td>\n      <td>4574.0</td>\n    </tr>\n    <tr>\n      <th>3</th>\n      <td>New York</td>\n      <td>40.6943</td>\n      <td>-73.9249</td>\n      <td>18713220</td>\n      <td>10715.0</td>\n      <td>Miami</td>\n      <td>25.7839</td>\n      <td>-80.2102</td>\n      <td>6445545</td>\n      <td>5019.0</td>\n    </tr>\n    <tr>\n      <th>4</th>\n      <td>New York</td>\n      <td>40.6943</td>\n      <td>-73.9249</td>\n      <td>18713220</td>\n      <td>10715.0</td>\n      <td>Dallas-Fort Worth</td>\n      <td>32.7936</td>\n      <td>-96.7662</td>\n      <td>5743938</td>\n      <td>1526.0</td>\n    </tr>\n    <tr>\n      <th>...</th>\n      <td>...</td>\n      <td>...</td>\n      <td>...</td>\n      <td>...</td>\n      <td>...</td>\n      <td>...</td>\n      <td>...</td>\n      <td>...</td>\n      <td>...</td>\n      <td>...</td>\n    </tr>\n    <tr>\n      <th>356</th>\n      <td>Newark</td>\n      <td>40.7245</td>\n      <td>-74.1725</td>\n      <td>282011</td>\n      <td>4509.0</td>\n      <td>Denver</td>\n      <td>39.7621</td>\n      <td>-104.8759</td>\n      <td>2876625</td>\n      <td>1831.0</td>\n    </tr>\n    <tr>\n      <th>357</th>\n      <td>Newark</td>\n      <td>40.7245</td>\n      <td>-74.1725</td>\n      <td>282011</td>\n      <td>4509.0</td>\n      <td>Las Vegas</td>\n      <td>36.2333</td>\n      <td>-115.2654</td>\n      <td>2104198</td>\n      <td>1773.0</td>\n    </tr>\n    <tr>\n      <th>358</th>\n      <td>Newark</td>\n      <td>40.7245</td>\n      <td>-74.1725</td>\n      <td>282011</td>\n      <td>4509.0</td>\n      <td>Orlando</td>\n      <td>28.4772</td>\n      <td>-81.3369</td>\n      <td>1822394</td>\n      <td>1003.0</td>\n    </tr>\n    <tr>\n      <th>359</th>\n      <td>Newark</td>\n      <td>40.7245</td>\n      <td>-74.1725</td>\n      <td>282011</td>\n      <td>4509.0</td>\n      <td>Charlotte</td>\n      <td>35.2080</td>\n      <td>-80.8304</td>\n      <td>1512923</td>\n      <td>1113.0</td>\n    </tr>\n    <tr>\n      <th>360</th>\n      <td>Newark</td>\n      <td>40.7245</td>\n      <td>-74.1725</td>\n      <td>282011</td>\n      <td>4509.0</td>\n      <td>Newark</td>\n      <td>40.7245</td>\n      <td>-74.1725</td>\n      <td>282011</td>\n      <td>4509.0</td>\n    </tr>\n  </tbody>\n</table>\n<p>361 rows × 10 columns</p>\n</div>"
     },
     "metadata": {},
     "execution_count": 15
    }
   ],
   "source": [
    "cross_df"
   ]
  },
  {
   "cell_type": "code",
   "execution_count": 18,
   "metadata": {},
   "outputs": [],
   "source": [
    "cross_df['distance'] = cross_df.apply(lambda row: getDistanceFromLatLonInKm(row.lat_departure, row.lng_departure, row.lat_arrival, row.lng_arrival), axis=1)"
   ]
  },
  {
   "cell_type": "code",
   "execution_count": 19,
   "metadata": {},
   "outputs": [
    {
     "output_type": "execute_result",
     "data": {
      "text/plain": [
       "    city_departure  lat_departure  lng_departure  population_departure  \\\n",
       "0         New York        40.6943       -73.9249              18713220   \n",
       "1         New York        40.6943       -73.9249              18713220   \n",
       "2         New York        40.6943       -73.9249              18713220   \n",
       "3         New York        40.6943       -73.9249              18713220   \n",
       "4         New York        40.6943       -73.9249              18713220   \n",
       "..             ...            ...            ...                   ...   \n",
       "356         Newark        40.7245       -74.1725                282011   \n",
       "357         Newark        40.7245       -74.1725                282011   \n",
       "358         Newark        40.7245       -74.1725                282011   \n",
       "359         Newark        40.7245       -74.1725                282011   \n",
       "360         Newark        40.7245       -74.1725                282011   \n",
       "\n",
       "     density_departure       city_arrival  lat_arrival  lng_arrival  \\\n",
       "0              10715.0           New York      40.6943     -73.9249   \n",
       "1              10715.0        Los Angeles      34.1139    -118.4068   \n",
       "2              10715.0            Chicago      41.8373     -87.6862   \n",
       "3              10715.0              Miami      25.7839     -80.2102   \n",
       "4              10715.0  Dallas-Fort Worth      32.7936     -96.7662   \n",
       "..                 ...                ...          ...          ...   \n",
       "356             4509.0             Denver      39.7621    -104.8759   \n",
       "357             4509.0          Las Vegas      36.2333    -115.2654   \n",
       "358             4509.0            Orlando      28.4772     -81.3369   \n",
       "359             4509.0          Charlotte      35.2080     -80.8304   \n",
       "360             4509.0             Newark      40.7245     -74.1725   \n",
       "\n",
       "     population_arrival  density_arrival     distance  \n",
       "0              18713220          10715.0     0.000000  \n",
       "1              12750807           3276.0  3953.628213  \n",
       "2               8604203           4574.0  1155.916177  \n",
       "3               6445545           5019.0  1756.700669  \n",
       "4               5743938           1526.0  2208.283446  \n",
       "..                  ...              ...          ...  \n",
       "356             2876625           1831.0  2594.877861  \n",
       "357             2104198           1773.0  3578.807900  \n",
       "358             1822394           1003.0  1510.109592  \n",
       "359             1512923           1113.0   846.184556  \n",
       "360              282011           4509.0     0.000000  \n",
       "\n",
       "[361 rows x 11 columns]"
      ],
      "text/html": "<div>\n<style scoped>\n    .dataframe tbody tr th:only-of-type {\n        vertical-align: middle;\n    }\n\n    .dataframe tbody tr th {\n        vertical-align: top;\n    }\n\n    .dataframe thead th {\n        text-align: right;\n    }\n</style>\n<table border=\"1\" class=\"dataframe\">\n  <thead>\n    <tr style=\"text-align: right;\">\n      <th></th>\n      <th>city_departure</th>\n      <th>lat_departure</th>\n      <th>lng_departure</th>\n      <th>population_departure</th>\n      <th>density_departure</th>\n      <th>city_arrival</th>\n      <th>lat_arrival</th>\n      <th>lng_arrival</th>\n      <th>population_arrival</th>\n      <th>density_arrival</th>\n      <th>distance</th>\n    </tr>\n  </thead>\n  <tbody>\n    <tr>\n      <th>0</th>\n      <td>New York</td>\n      <td>40.6943</td>\n      <td>-73.9249</td>\n      <td>18713220</td>\n      <td>10715.0</td>\n      <td>New York</td>\n      <td>40.6943</td>\n      <td>-73.9249</td>\n      <td>18713220</td>\n      <td>10715.0</td>\n      <td>0.000000</td>\n    </tr>\n    <tr>\n      <th>1</th>\n      <td>New York</td>\n      <td>40.6943</td>\n      <td>-73.9249</td>\n      <td>18713220</td>\n      <td>10715.0</td>\n      <td>Los Angeles</td>\n      <td>34.1139</td>\n      <td>-118.4068</td>\n      <td>12750807</td>\n      <td>3276.0</td>\n      <td>3953.628213</td>\n    </tr>\n    <tr>\n      <th>2</th>\n      <td>New York</td>\n      <td>40.6943</td>\n      <td>-73.9249</td>\n      <td>18713220</td>\n      <td>10715.0</td>\n      <td>Chicago</td>\n      <td>41.8373</td>\n      <td>-87.6862</td>\n      <td>8604203</td>\n      <td>4574.0</td>\n      <td>1155.916177</td>\n    </tr>\n    <tr>\n      <th>3</th>\n      <td>New York</td>\n      <td>40.6943</td>\n      <td>-73.9249</td>\n      <td>18713220</td>\n      <td>10715.0</td>\n      <td>Miami</td>\n      <td>25.7839</td>\n      <td>-80.2102</td>\n      <td>6445545</td>\n      <td>5019.0</td>\n      <td>1756.700669</td>\n    </tr>\n    <tr>\n      <th>4</th>\n      <td>New York</td>\n      <td>40.6943</td>\n      <td>-73.9249</td>\n      <td>18713220</td>\n      <td>10715.0</td>\n      <td>Dallas-Fort Worth</td>\n      <td>32.7936</td>\n      <td>-96.7662</td>\n      <td>5743938</td>\n      <td>1526.0</td>\n      <td>2208.283446</td>\n    </tr>\n    <tr>\n      <th>...</th>\n      <td>...</td>\n      <td>...</td>\n      <td>...</td>\n      <td>...</td>\n      <td>...</td>\n      <td>...</td>\n      <td>...</td>\n      <td>...</td>\n      <td>...</td>\n      <td>...</td>\n      <td>...</td>\n    </tr>\n    <tr>\n      <th>356</th>\n      <td>Newark</td>\n      <td>40.7245</td>\n      <td>-74.1725</td>\n      <td>282011</td>\n      <td>4509.0</td>\n      <td>Denver</td>\n      <td>39.7621</td>\n      <td>-104.8759</td>\n      <td>2876625</td>\n      <td>1831.0</td>\n      <td>2594.877861</td>\n    </tr>\n    <tr>\n      <th>357</th>\n      <td>Newark</td>\n      <td>40.7245</td>\n      <td>-74.1725</td>\n      <td>282011</td>\n      <td>4509.0</td>\n      <td>Las Vegas</td>\n      <td>36.2333</td>\n      <td>-115.2654</td>\n      <td>2104198</td>\n      <td>1773.0</td>\n      <td>3578.807900</td>\n    </tr>\n    <tr>\n      <th>358</th>\n      <td>Newark</td>\n      <td>40.7245</td>\n      <td>-74.1725</td>\n      <td>282011</td>\n      <td>4509.0</td>\n      <td>Orlando</td>\n      <td>28.4772</td>\n      <td>-81.3369</td>\n      <td>1822394</td>\n      <td>1003.0</td>\n      <td>1510.109592</td>\n    </tr>\n    <tr>\n      <th>359</th>\n      <td>Newark</td>\n      <td>40.7245</td>\n      <td>-74.1725</td>\n      <td>282011</td>\n      <td>4509.0</td>\n      <td>Charlotte</td>\n      <td>35.2080</td>\n      <td>-80.8304</td>\n      <td>1512923</td>\n      <td>1113.0</td>\n      <td>846.184556</td>\n    </tr>\n    <tr>\n      <th>360</th>\n      <td>Newark</td>\n      <td>40.7245</td>\n      <td>-74.1725</td>\n      <td>282011</td>\n      <td>4509.0</td>\n      <td>Newark</td>\n      <td>40.7245</td>\n      <td>-74.1725</td>\n      <td>282011</td>\n      <td>4509.0</td>\n      <td>0.000000</td>\n    </tr>\n  </tbody>\n</table>\n<p>361 rows × 11 columns</p>\n</div>"
     },
     "metadata": {},
     "execution_count": 19
    }
   ],
   "source": [
    "cross_df"
   ]
  },
  {
   "cell_type": "code",
   "execution_count": null,
   "metadata": {},
   "outputs": [],
   "source": []
  }
 ]
}