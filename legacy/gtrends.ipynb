{
 "cells": [
  {
   "cell_type": "code",
   "execution_count": 2,
   "metadata": {},
   "outputs": [],
   "source": [
    "import pandas as pd\n",
    "import os\n",
    "from functools import reduce"
   ]
  },
  {
   "cell_type": "code",
   "execution_count": 4,
   "metadata": {},
   "outputs": [
    {
     "output_type": "stream",
     "name": "stdout",
     "text": [
      "/Users/jocelinbordet/Documents/Pro/DSB/S1/Python_for_DS/Groupwork/explo/air-passengers-dsb\n"
     ]
    }
   ],
   "source": [
    "cwd = os.getcwd()\n",
    "print(cwd)"
   ]
  },
  {
   "cell_type": "code",
   "execution_count": 3,
   "metadata": {},
   "outputs": [],
   "source": [
    "d0 = pd.read_csv('data/multiTimeline.csv', skiprows=2)\n",
    "d1 = pd.read_csv('data/multiTimeline_1.csv', skiprows=2)\n",
    "d2 = pd.read_csv('data/multiTimeline_2.csv', skiprows=2)\n",
    "d3 = pd.read_csv('data/multiTimeline_3.csv', skiprows=2)\n",
    "d4 = pd.read_csv('data/multiTimeline_4.csv', skiprows=2)"
   ]
  },
  {
   "cell_type": "code",
   "execution_count": 7,
   "metadata": {},
   "outputs": [],
   "source": [
    "dfs = [d0, d1, d2, d3, d4]"
   ]
  },
  {
   "cell_type": "code",
   "execution_count": 8,
   "metadata": {},
   "outputs": [],
   "source": [
    "df_final = reduce(lambda left,right: pd.merge(left,right,on='Semaine'), dfs)"
   ]
  },
  {
   "cell_type": "code",
   "execution_count": 9,
   "metadata": {},
   "outputs": [
    {
     "output_type": "execute_result",
     "data": {
      "text/plain": [
       "Index(['Semaine', 'new york flight: (Dans tous les pays)_x',\n",
       "       'atlanta flight: (Dans tous les pays)',\n",
       "       'boston flight: (Dans tous les pays)',\n",
       "       'chicago flight: (Dans tous les pays)',\n",
       "       'charlotte flight: (Dans tous les pays)',\n",
       "       'new york flight: (Dans tous les pays)_y',\n",
       "       'dallas flight: (Dans tous les pays)',\n",
       "       'denver flight: (Dans tous les pays)',\n",
       "       'detroit flight: (Dans tous les pays)',\n",
       "       'houston flight: (Dans tous les pays)',\n",
       "       'new york flight: (Dans tous les pays)_x',\n",
       "       'las vegas flight: (Dans tous les pays)',\n",
       "       'los angeles flight: (Dans tous les pays)',\n",
       "       'miami flight: (Dans tous les pays)',\n",
       "       'minneapolis flight: (Dans tous les pays)',\n",
       "       'new york flight: (Dans tous les pays)_y',\n",
       "       'orlando flight: (Dans tous les pays)',\n",
       "       'philadelphia flight: (Dans tous les pays)',\n",
       "       'phoenix flight: (Dans tous les pays)',\n",
       "       'san francisco flight: (Dans tous les pays)',\n",
       "       'new york flight: (Dans tous les pays)',\n",
       "       'seattle flight: (Dans tous les pays)'],\n",
       "      dtype='object')"
      ]
     },
     "metadata": {},
     "execution_count": 9
    }
   ],
   "source": [
    "df_final.columns"
   ]
  },
  {
   "cell_type": "code",
   "execution_count": 10,
   "metadata": {},
   "outputs": [],
   "source": [
    "df = df_final.drop(df_final.columns[[1, 6, 11, 16]], axis='columns')"
   ]
  },
  {
   "cell_type": "code",
   "execution_count": 11,
   "metadata": {},
   "outputs": [
    {
     "output_type": "execute_result",
     "data": {
      "text/plain": [
       "Index(['Semaine', 'atlanta flight: (Dans tous les pays)',\n",
       "       'boston flight: (Dans tous les pays)',\n",
       "       'chicago flight: (Dans tous les pays)',\n",
       "       'charlotte flight: (Dans tous les pays)',\n",
       "       'dallas flight: (Dans tous les pays)',\n",
       "       'denver flight: (Dans tous les pays)',\n",
       "       'detroit flight: (Dans tous les pays)',\n",
       "       'houston flight: (Dans tous les pays)',\n",
       "       'las vegas flight: (Dans tous les pays)',\n",
       "       'los angeles flight: (Dans tous les pays)',\n",
       "       'miami flight: (Dans tous les pays)',\n",
       "       'minneapolis flight: (Dans tous les pays)',\n",
       "       'orlando flight: (Dans tous les pays)',\n",
       "       'philadelphia flight: (Dans tous les pays)',\n",
       "       'phoenix flight: (Dans tous les pays)',\n",
       "       'san francisco flight: (Dans tous les pays)',\n",
       "       'new york flight: (Dans tous les pays)',\n",
       "       'seattle flight: (Dans tous les pays)'],\n",
       "      dtype='object')"
      ]
     },
     "metadata": {},
     "execution_count": 11
    }
   ],
   "source": [
    "df.columns"
   ]
  },
  {
   "cell_type": "code",
   "execution_count": 12,
   "metadata": {},
   "outputs": [],
   "source": [
    "df.columns = ['Date', 'Atlanta', 'Boston', 'Chicago', 'Charlotte', 'Dallas-Fort Worth', 'Denver', 'Detroit', 'Houston', 'Las Vegas', 'Los Angeles', 'Miami', 'Minneapolis', 'Orlando', 'Philadelphia', 'Phoenix', 'San Francisco', 'New York', 'Seattle']"
   ]
  },
  {
   "cell_type": "code",
   "execution_count": 13,
   "metadata": {},
   "outputs": [
    {
     "output_type": "execute_result",
     "data": {
      "text/plain": [
       "           Date  Atlanta  Boston  Chicago  Charlotte  Dallas-Fort Worth  \\\n",
       "0    2010-01-03       25      24       36          6                 10   \n",
       "1    2010-01-10       21      17       24          6                 11   \n",
       "2    2010-01-17       13      18       26          5                 10   \n",
       "3    2010-01-24       17      16       24          8                  5   \n",
       "4    2010-01-31       17      15       26          5                  9   \n",
       "..          ...      ...     ...      ...        ...                ...   \n",
       "204  2013-12-01       19      18       33          7                 35   \n",
       "205  2013-12-08       23      23       43         10                 30   \n",
       "206  2013-12-15       21      28       39          8                 16   \n",
       "207  2013-12-22       23      20       41          9                 21   \n",
       "208  2013-12-29       31      37       65         12                 21   \n",
       "\n",
       "     Denver  Detroit  Houston  Las Vegas  Los Angeles  Miami  Minneapolis  \\\n",
       "0        13       23       19         39           21     26            8   \n",
       "1        10       10       15         35           17     27            3   \n",
       "2         9        9       13         30           20     20            4   \n",
       "3         7        9       12         28           18     14            6   \n",
       "4        12        8       11         27           21     20            4   \n",
       "..      ...      ...      ...        ...          ...    ...          ...   \n",
       "204      21       11       16         24           24     21            6   \n",
       "205      17       10       17         23           18     26            4   \n",
       "206      16       12       18         21           21     28            6   \n",
       "207      19       15       20         28           25     28            6   \n",
       "208      27       15       22         32           25     35            7   \n",
       "\n",
       "     Orlando  Philadelphia  Phoenix  San Francisco  New York  Seattle  \n",
       "0         24            11       14             19        60       15  \n",
       "1         16             4       18             14        61       11  \n",
       "2         15             8       17             17        52       13  \n",
       "3         18             7       17             11        51       12  \n",
       "4         19            14       14             12        44       16  \n",
       "..       ...           ...      ...            ...       ...      ...  \n",
       "204       13             9       20             17        51       14  \n",
       "205       17            15       12             19        57       18  \n",
       "206       17            10       18             16        58       19  \n",
       "207       16            11       24             20        63       19  \n",
       "208       23            17       25             23        92       22  \n",
       "\n",
       "[209 rows x 19 columns]"
      ],
      "text/html": "<div>\n<style scoped>\n    .dataframe tbody tr th:only-of-type {\n        vertical-align: middle;\n    }\n\n    .dataframe tbody tr th {\n        vertical-align: top;\n    }\n\n    .dataframe thead th {\n        text-align: right;\n    }\n</style>\n<table border=\"1\" class=\"dataframe\">\n  <thead>\n    <tr style=\"text-align: right;\">\n      <th></th>\n      <th>Date</th>\n      <th>Atlanta</th>\n      <th>Boston</th>\n      <th>Chicago</th>\n      <th>Charlotte</th>\n      <th>Dallas-Fort Worth</th>\n      <th>Denver</th>\n      <th>Detroit</th>\n      <th>Houston</th>\n      <th>Las Vegas</th>\n      <th>Los Angeles</th>\n      <th>Miami</th>\n      <th>Minneapolis</th>\n      <th>Orlando</th>\n      <th>Philadelphia</th>\n      <th>Phoenix</th>\n      <th>San Francisco</th>\n      <th>New York</th>\n      <th>Seattle</th>\n    </tr>\n  </thead>\n  <tbody>\n    <tr>\n      <th>0</th>\n      <td>2010-01-03</td>\n      <td>25</td>\n      <td>24</td>\n      <td>36</td>\n      <td>6</td>\n      <td>10</td>\n      <td>13</td>\n      <td>23</td>\n      <td>19</td>\n      <td>39</td>\n      <td>21</td>\n      <td>26</td>\n      <td>8</td>\n      <td>24</td>\n      <td>11</td>\n      <td>14</td>\n      <td>19</td>\n      <td>60</td>\n      <td>15</td>\n    </tr>\n    <tr>\n      <th>1</th>\n      <td>2010-01-10</td>\n      <td>21</td>\n      <td>17</td>\n      <td>24</td>\n      <td>6</td>\n      <td>11</td>\n      <td>10</td>\n      <td>10</td>\n      <td>15</td>\n      <td>35</td>\n      <td>17</td>\n      <td>27</td>\n      <td>3</td>\n      <td>16</td>\n      <td>4</td>\n      <td>18</td>\n      <td>14</td>\n      <td>61</td>\n      <td>11</td>\n    </tr>\n    <tr>\n      <th>2</th>\n      <td>2010-01-17</td>\n      <td>13</td>\n      <td>18</td>\n      <td>26</td>\n      <td>5</td>\n      <td>10</td>\n      <td>9</td>\n      <td>9</td>\n      <td>13</td>\n      <td>30</td>\n      <td>20</td>\n      <td>20</td>\n      <td>4</td>\n      <td>15</td>\n      <td>8</td>\n      <td>17</td>\n      <td>17</td>\n      <td>52</td>\n      <td>13</td>\n    </tr>\n    <tr>\n      <th>3</th>\n      <td>2010-01-24</td>\n      <td>17</td>\n      <td>16</td>\n      <td>24</td>\n      <td>8</td>\n      <td>5</td>\n      <td>7</td>\n      <td>9</td>\n      <td>12</td>\n      <td>28</td>\n      <td>18</td>\n      <td>14</td>\n      <td>6</td>\n      <td>18</td>\n      <td>7</td>\n      <td>17</td>\n      <td>11</td>\n      <td>51</td>\n      <td>12</td>\n    </tr>\n    <tr>\n      <th>4</th>\n      <td>2010-01-31</td>\n      <td>17</td>\n      <td>15</td>\n      <td>26</td>\n      <td>5</td>\n      <td>9</td>\n      <td>12</td>\n      <td>8</td>\n      <td>11</td>\n      <td>27</td>\n      <td>21</td>\n      <td>20</td>\n      <td>4</td>\n      <td>19</td>\n      <td>14</td>\n      <td>14</td>\n      <td>12</td>\n      <td>44</td>\n      <td>16</td>\n    </tr>\n    <tr>\n      <th>...</th>\n      <td>...</td>\n      <td>...</td>\n      <td>...</td>\n      <td>...</td>\n      <td>...</td>\n      <td>...</td>\n      <td>...</td>\n      <td>...</td>\n      <td>...</td>\n      <td>...</td>\n      <td>...</td>\n      <td>...</td>\n      <td>...</td>\n      <td>...</td>\n      <td>...</td>\n      <td>...</td>\n      <td>...</td>\n      <td>...</td>\n      <td>...</td>\n    </tr>\n    <tr>\n      <th>204</th>\n      <td>2013-12-01</td>\n      <td>19</td>\n      <td>18</td>\n      <td>33</td>\n      <td>7</td>\n      <td>35</td>\n      <td>21</td>\n      <td>11</td>\n      <td>16</td>\n      <td>24</td>\n      <td>24</td>\n      <td>21</td>\n      <td>6</td>\n      <td>13</td>\n      <td>9</td>\n      <td>20</td>\n      <td>17</td>\n      <td>51</td>\n      <td>14</td>\n    </tr>\n    <tr>\n      <th>205</th>\n      <td>2013-12-08</td>\n      <td>23</td>\n      <td>23</td>\n      <td>43</td>\n      <td>10</td>\n      <td>30</td>\n      <td>17</td>\n      <td>10</td>\n      <td>17</td>\n      <td>23</td>\n      <td>18</td>\n      <td>26</td>\n      <td>4</td>\n      <td>17</td>\n      <td>15</td>\n      <td>12</td>\n      <td>19</td>\n      <td>57</td>\n      <td>18</td>\n    </tr>\n    <tr>\n      <th>206</th>\n      <td>2013-12-15</td>\n      <td>21</td>\n      <td>28</td>\n      <td>39</td>\n      <td>8</td>\n      <td>16</td>\n      <td>16</td>\n      <td>12</td>\n      <td>18</td>\n      <td>21</td>\n      <td>21</td>\n      <td>28</td>\n      <td>6</td>\n      <td>17</td>\n      <td>10</td>\n      <td>18</td>\n      <td>16</td>\n      <td>58</td>\n      <td>19</td>\n    </tr>\n    <tr>\n      <th>207</th>\n      <td>2013-12-22</td>\n      <td>23</td>\n      <td>20</td>\n      <td>41</td>\n      <td>9</td>\n      <td>21</td>\n      <td>19</td>\n      <td>15</td>\n      <td>20</td>\n      <td>28</td>\n      <td>25</td>\n      <td>28</td>\n      <td>6</td>\n      <td>16</td>\n      <td>11</td>\n      <td>24</td>\n      <td>20</td>\n      <td>63</td>\n      <td>19</td>\n    </tr>\n    <tr>\n      <th>208</th>\n      <td>2013-12-29</td>\n      <td>31</td>\n      <td>37</td>\n      <td>65</td>\n      <td>12</td>\n      <td>21</td>\n      <td>27</td>\n      <td>15</td>\n      <td>22</td>\n      <td>32</td>\n      <td>25</td>\n      <td>35</td>\n      <td>7</td>\n      <td>23</td>\n      <td>17</td>\n      <td>25</td>\n      <td>23</td>\n      <td>92</td>\n      <td>22</td>\n    </tr>\n  </tbody>\n</table>\n<p>209 rows × 19 columns</p>\n</div>"
     },
     "metadata": {},
     "execution_count": 13
    }
   ],
   "source": [
    "df"
   ]
  },
  {
   "cell_type": "code",
   "execution_count": 14,
   "metadata": {},
   "outputs": [],
   "source": [
    "df['Newark'] = df['New York']"
   ]
  },
  {
   "cell_type": "code",
   "execution_count": 15,
   "metadata": {},
   "outputs": [],
   "source": [
    "df['Date'] = pd.to_datetime(df['Date'], format='%Y-%m-%d')"
   ]
  },
  {
   "cell_type": "code",
   "execution_count": 16,
   "metadata": {},
   "outputs": [
    {
     "output_type": "execute_result",
     "data": {
      "text/plain": [
       "          Date  Atlanta  Boston  Chicago  Charlotte  Dallas-Fort Worth  \\\n",
       "0   2010-01-03       25      24       36          6                 10   \n",
       "1   2010-01-10       21      17       24          6                 11   \n",
       "2   2010-01-17       13      18       26          5                 10   \n",
       "3   2010-01-24       17      16       24          8                  5   \n",
       "4   2010-01-31       17      15       26          5                  9   \n",
       "..         ...      ...     ...      ...        ...                ...   \n",
       "204 2013-12-01       19      18       33          7                 35   \n",
       "205 2013-12-08       23      23       43         10                 30   \n",
       "206 2013-12-15       21      28       39          8                 16   \n",
       "207 2013-12-22       23      20       41          9                 21   \n",
       "208 2013-12-29       31      37       65         12                 21   \n",
       "\n",
       "     Denver  Detroit  Houston  Las Vegas  Los Angeles  Miami  Minneapolis  \\\n",
       "0        13       23       19         39           21     26            8   \n",
       "1        10       10       15         35           17     27            3   \n",
       "2         9        9       13         30           20     20            4   \n",
       "3         7        9       12         28           18     14            6   \n",
       "4        12        8       11         27           21     20            4   \n",
       "..      ...      ...      ...        ...          ...    ...          ...   \n",
       "204      21       11       16         24           24     21            6   \n",
       "205      17       10       17         23           18     26            4   \n",
       "206      16       12       18         21           21     28            6   \n",
       "207      19       15       20         28           25     28            6   \n",
       "208      27       15       22         32           25     35            7   \n",
       "\n",
       "     Orlando  Philadelphia  Phoenix  San Francisco  New York  Seattle  Newark  \n",
       "0         24            11       14             19        60       15      60  \n",
       "1         16             4       18             14        61       11      61  \n",
       "2         15             8       17             17        52       13      52  \n",
       "3         18             7       17             11        51       12      51  \n",
       "4         19            14       14             12        44       16      44  \n",
       "..       ...           ...      ...            ...       ...      ...     ...  \n",
       "204       13             9       20             17        51       14      51  \n",
       "205       17            15       12             19        57       18      57  \n",
       "206       17            10       18             16        58       19      58  \n",
       "207       16            11       24             20        63       19      63  \n",
       "208       23            17       25             23        92       22      92  \n",
       "\n",
       "[209 rows x 20 columns]"
      ],
      "text/html": "<div>\n<style scoped>\n    .dataframe tbody tr th:only-of-type {\n        vertical-align: middle;\n    }\n\n    .dataframe tbody tr th {\n        vertical-align: top;\n    }\n\n    .dataframe thead th {\n        text-align: right;\n    }\n</style>\n<table border=\"1\" class=\"dataframe\">\n  <thead>\n    <tr style=\"text-align: right;\">\n      <th></th>\n      <th>Date</th>\n      <th>Atlanta</th>\n      <th>Boston</th>\n      <th>Chicago</th>\n      <th>Charlotte</th>\n      <th>Dallas-Fort Worth</th>\n      <th>Denver</th>\n      <th>Detroit</th>\n      <th>Houston</th>\n      <th>Las Vegas</th>\n      <th>Los Angeles</th>\n      <th>Miami</th>\n      <th>Minneapolis</th>\n      <th>Orlando</th>\n      <th>Philadelphia</th>\n      <th>Phoenix</th>\n      <th>San Francisco</th>\n      <th>New York</th>\n      <th>Seattle</th>\n      <th>Newark</th>\n    </tr>\n  </thead>\n  <tbody>\n    <tr>\n      <th>0</th>\n      <td>2010-01-03</td>\n      <td>25</td>\n      <td>24</td>\n      <td>36</td>\n      <td>6</td>\n      <td>10</td>\n      <td>13</td>\n      <td>23</td>\n      <td>19</td>\n      <td>39</td>\n      <td>21</td>\n      <td>26</td>\n      <td>8</td>\n      <td>24</td>\n      <td>11</td>\n      <td>14</td>\n      <td>19</td>\n      <td>60</td>\n      <td>15</td>\n      <td>60</td>\n    </tr>\n    <tr>\n      <th>1</th>\n      <td>2010-01-10</td>\n      <td>21</td>\n      <td>17</td>\n      <td>24</td>\n      <td>6</td>\n      <td>11</td>\n      <td>10</td>\n      <td>10</td>\n      <td>15</td>\n      <td>35</td>\n      <td>17</td>\n      <td>27</td>\n      <td>3</td>\n      <td>16</td>\n      <td>4</td>\n      <td>18</td>\n      <td>14</td>\n      <td>61</td>\n      <td>11</td>\n      <td>61</td>\n    </tr>\n    <tr>\n      <th>2</th>\n      <td>2010-01-17</td>\n      <td>13</td>\n      <td>18</td>\n      <td>26</td>\n      <td>5</td>\n      <td>10</td>\n      <td>9</td>\n      <td>9</td>\n      <td>13</td>\n      <td>30</td>\n      <td>20</td>\n      <td>20</td>\n      <td>4</td>\n      <td>15</td>\n      <td>8</td>\n      <td>17</td>\n      <td>17</td>\n      <td>52</td>\n      <td>13</td>\n      <td>52</td>\n    </tr>\n    <tr>\n      <th>3</th>\n      <td>2010-01-24</td>\n      <td>17</td>\n      <td>16</td>\n      <td>24</td>\n      <td>8</td>\n      <td>5</td>\n      <td>7</td>\n      <td>9</td>\n      <td>12</td>\n      <td>28</td>\n      <td>18</td>\n      <td>14</td>\n      <td>6</td>\n      <td>18</td>\n      <td>7</td>\n      <td>17</td>\n      <td>11</td>\n      <td>51</td>\n      <td>12</td>\n      <td>51</td>\n    </tr>\n    <tr>\n      <th>4</th>\n      <td>2010-01-31</td>\n      <td>17</td>\n      <td>15</td>\n      <td>26</td>\n      <td>5</td>\n      <td>9</td>\n      <td>12</td>\n      <td>8</td>\n      <td>11</td>\n      <td>27</td>\n      <td>21</td>\n      <td>20</td>\n      <td>4</td>\n      <td>19</td>\n      <td>14</td>\n      <td>14</td>\n      <td>12</td>\n      <td>44</td>\n      <td>16</td>\n      <td>44</td>\n    </tr>\n    <tr>\n      <th>...</th>\n      <td>...</td>\n      <td>...</td>\n      <td>...</td>\n      <td>...</td>\n      <td>...</td>\n      <td>...</td>\n      <td>...</td>\n      <td>...</td>\n      <td>...</td>\n      <td>...</td>\n      <td>...</td>\n      <td>...</td>\n      <td>...</td>\n      <td>...</td>\n      <td>...</td>\n      <td>...</td>\n      <td>...</td>\n      <td>...</td>\n      <td>...</td>\n      <td>...</td>\n    </tr>\n    <tr>\n      <th>204</th>\n      <td>2013-12-01</td>\n      <td>19</td>\n      <td>18</td>\n      <td>33</td>\n      <td>7</td>\n      <td>35</td>\n      <td>21</td>\n      <td>11</td>\n      <td>16</td>\n      <td>24</td>\n      <td>24</td>\n      <td>21</td>\n      <td>6</td>\n      <td>13</td>\n      <td>9</td>\n      <td>20</td>\n      <td>17</td>\n      <td>51</td>\n      <td>14</td>\n      <td>51</td>\n    </tr>\n    <tr>\n      <th>205</th>\n      <td>2013-12-08</td>\n      <td>23</td>\n      <td>23</td>\n      <td>43</td>\n      <td>10</td>\n      <td>30</td>\n      <td>17</td>\n      <td>10</td>\n      <td>17</td>\n      <td>23</td>\n      <td>18</td>\n      <td>26</td>\n      <td>4</td>\n      <td>17</td>\n      <td>15</td>\n      <td>12</td>\n      <td>19</td>\n      <td>57</td>\n      <td>18</td>\n      <td>57</td>\n    </tr>\n    <tr>\n      <th>206</th>\n      <td>2013-12-15</td>\n      <td>21</td>\n      <td>28</td>\n      <td>39</td>\n      <td>8</td>\n      <td>16</td>\n      <td>16</td>\n      <td>12</td>\n      <td>18</td>\n      <td>21</td>\n      <td>21</td>\n      <td>28</td>\n      <td>6</td>\n      <td>17</td>\n      <td>10</td>\n      <td>18</td>\n      <td>16</td>\n      <td>58</td>\n      <td>19</td>\n      <td>58</td>\n    </tr>\n    <tr>\n      <th>207</th>\n      <td>2013-12-22</td>\n      <td>23</td>\n      <td>20</td>\n      <td>41</td>\n      <td>9</td>\n      <td>21</td>\n      <td>19</td>\n      <td>15</td>\n      <td>20</td>\n      <td>28</td>\n      <td>25</td>\n      <td>28</td>\n      <td>6</td>\n      <td>16</td>\n      <td>11</td>\n      <td>24</td>\n      <td>20</td>\n      <td>63</td>\n      <td>19</td>\n      <td>63</td>\n    </tr>\n    <tr>\n      <th>208</th>\n      <td>2013-12-29</td>\n      <td>31</td>\n      <td>37</td>\n      <td>65</td>\n      <td>12</td>\n      <td>21</td>\n      <td>27</td>\n      <td>15</td>\n      <td>22</td>\n      <td>32</td>\n      <td>25</td>\n      <td>35</td>\n      <td>7</td>\n      <td>23</td>\n      <td>17</td>\n      <td>25</td>\n      <td>23</td>\n      <td>92</td>\n      <td>22</td>\n      <td>92</td>\n    </tr>\n  </tbody>\n</table>\n<p>209 rows × 20 columns</p>\n</div>"
     },
     "metadata": {},
     "execution_count": 16
    }
   ],
   "source": [
    "df"
   ]
  },
  {
   "cell_type": "code",
   "execution_count": 17,
   "metadata": {},
   "outputs": [],
   "source": [
    "df.set_index('Date', inplace=True)"
   ]
  },
  {
   "cell_type": "code",
   "execution_count": 18,
   "metadata": {},
   "outputs": [
    {
     "output_type": "execute_result",
     "data": {
      "text/plain": [
       "            Atlanta  Boston  Chicago  Charlotte  Dallas-Fort Worth  Denver  \\\n",
       "Date                                                                         \n",
       "2010-01-03       25      24       36          6                 10      13   \n",
       "2010-01-10       21      17       24          6                 11      10   \n",
       "2010-01-17       13      18       26          5                 10       9   \n",
       "2010-01-24       17      16       24          8                  5       7   \n",
       "2010-01-31       17      15       26          5                  9      12   \n",
       "...             ...     ...      ...        ...                ...     ...   \n",
       "2013-12-01       19      18       33          7                 35      21   \n",
       "2013-12-08       23      23       43         10                 30      17   \n",
       "2013-12-15       21      28       39          8                 16      16   \n",
       "2013-12-22       23      20       41          9                 21      19   \n",
       "2013-12-29       31      37       65         12                 21      27   \n",
       "\n",
       "            Detroit  Houston  Las Vegas  Los Angeles  Miami  Minneapolis  \\\n",
       "Date                                                                       \n",
       "2010-01-03       23       19         39           21     26            8   \n",
       "2010-01-10       10       15         35           17     27            3   \n",
       "2010-01-17        9       13         30           20     20            4   \n",
       "2010-01-24        9       12         28           18     14            6   \n",
       "2010-01-31        8       11         27           21     20            4   \n",
       "...             ...      ...        ...          ...    ...          ...   \n",
       "2013-12-01       11       16         24           24     21            6   \n",
       "2013-12-08       10       17         23           18     26            4   \n",
       "2013-12-15       12       18         21           21     28            6   \n",
       "2013-12-22       15       20         28           25     28            6   \n",
       "2013-12-29       15       22         32           25     35            7   \n",
       "\n",
       "            Orlando  Philadelphia  Phoenix  San Francisco  New York  Seattle  \\\n",
       "Date                                                                           \n",
       "2010-01-03       24            11       14             19        60       15   \n",
       "2010-01-10       16             4       18             14        61       11   \n",
       "2010-01-17       15             8       17             17        52       13   \n",
       "2010-01-24       18             7       17             11        51       12   \n",
       "2010-01-31       19            14       14             12        44       16   \n",
       "...             ...           ...      ...            ...       ...      ...   \n",
       "2013-12-01       13             9       20             17        51       14   \n",
       "2013-12-08       17            15       12             19        57       18   \n",
       "2013-12-15       17            10       18             16        58       19   \n",
       "2013-12-22       16            11       24             20        63       19   \n",
       "2013-12-29       23            17       25             23        92       22   \n",
       "\n",
       "            Newark  \n",
       "Date                \n",
       "2010-01-03      60  \n",
       "2010-01-10      61  \n",
       "2010-01-17      52  \n",
       "2010-01-24      51  \n",
       "2010-01-31      44  \n",
       "...            ...  \n",
       "2013-12-01      51  \n",
       "2013-12-08      57  \n",
       "2013-12-15      58  \n",
       "2013-12-22      63  \n",
       "2013-12-29      92  \n",
       "\n",
       "[209 rows x 19 columns]"
      ],
      "text/html": "<div>\n<style scoped>\n    .dataframe tbody tr th:only-of-type {\n        vertical-align: middle;\n    }\n\n    .dataframe tbody tr th {\n        vertical-align: top;\n    }\n\n    .dataframe thead th {\n        text-align: right;\n    }\n</style>\n<table border=\"1\" class=\"dataframe\">\n  <thead>\n    <tr style=\"text-align: right;\">\n      <th></th>\n      <th>Atlanta</th>\n      <th>Boston</th>\n      <th>Chicago</th>\n      <th>Charlotte</th>\n      <th>Dallas-Fort Worth</th>\n      <th>Denver</th>\n      <th>Detroit</th>\n      <th>Houston</th>\n      <th>Las Vegas</th>\n      <th>Los Angeles</th>\n      <th>Miami</th>\n      <th>Minneapolis</th>\n      <th>Orlando</th>\n      <th>Philadelphia</th>\n      <th>Phoenix</th>\n      <th>San Francisco</th>\n      <th>New York</th>\n      <th>Seattle</th>\n      <th>Newark</th>\n    </tr>\n    <tr>\n      <th>Date</th>\n      <th></th>\n      <th></th>\n      <th></th>\n      <th></th>\n      <th></th>\n      <th></th>\n      <th></th>\n      <th></th>\n      <th></th>\n      <th></th>\n      <th></th>\n      <th></th>\n      <th></th>\n      <th></th>\n      <th></th>\n      <th></th>\n      <th></th>\n      <th></th>\n      <th></th>\n    </tr>\n  </thead>\n  <tbody>\n    <tr>\n      <th>2010-01-03</th>\n      <td>25</td>\n      <td>24</td>\n      <td>36</td>\n      <td>6</td>\n      <td>10</td>\n      <td>13</td>\n      <td>23</td>\n      <td>19</td>\n      <td>39</td>\n      <td>21</td>\n      <td>26</td>\n      <td>8</td>\n      <td>24</td>\n      <td>11</td>\n      <td>14</td>\n      <td>19</td>\n      <td>60</td>\n      <td>15</td>\n      <td>60</td>\n    </tr>\n    <tr>\n      <th>2010-01-10</th>\n      <td>21</td>\n      <td>17</td>\n      <td>24</td>\n      <td>6</td>\n      <td>11</td>\n      <td>10</td>\n      <td>10</td>\n      <td>15</td>\n      <td>35</td>\n      <td>17</td>\n      <td>27</td>\n      <td>3</td>\n      <td>16</td>\n      <td>4</td>\n      <td>18</td>\n      <td>14</td>\n      <td>61</td>\n      <td>11</td>\n      <td>61</td>\n    </tr>\n    <tr>\n      <th>2010-01-17</th>\n      <td>13</td>\n      <td>18</td>\n      <td>26</td>\n      <td>5</td>\n      <td>10</td>\n      <td>9</td>\n      <td>9</td>\n      <td>13</td>\n      <td>30</td>\n      <td>20</td>\n      <td>20</td>\n      <td>4</td>\n      <td>15</td>\n      <td>8</td>\n      <td>17</td>\n      <td>17</td>\n      <td>52</td>\n      <td>13</td>\n      <td>52</td>\n    </tr>\n    <tr>\n      <th>2010-01-24</th>\n      <td>17</td>\n      <td>16</td>\n      <td>24</td>\n      <td>8</td>\n      <td>5</td>\n      <td>7</td>\n      <td>9</td>\n      <td>12</td>\n      <td>28</td>\n      <td>18</td>\n      <td>14</td>\n      <td>6</td>\n      <td>18</td>\n      <td>7</td>\n      <td>17</td>\n      <td>11</td>\n      <td>51</td>\n      <td>12</td>\n      <td>51</td>\n    </tr>\n    <tr>\n      <th>2010-01-31</th>\n      <td>17</td>\n      <td>15</td>\n      <td>26</td>\n      <td>5</td>\n      <td>9</td>\n      <td>12</td>\n      <td>8</td>\n      <td>11</td>\n      <td>27</td>\n      <td>21</td>\n      <td>20</td>\n      <td>4</td>\n      <td>19</td>\n      <td>14</td>\n      <td>14</td>\n      <td>12</td>\n      <td>44</td>\n      <td>16</td>\n      <td>44</td>\n    </tr>\n    <tr>\n      <th>...</th>\n      <td>...</td>\n      <td>...</td>\n      <td>...</td>\n      <td>...</td>\n      <td>...</td>\n      <td>...</td>\n      <td>...</td>\n      <td>...</td>\n      <td>...</td>\n      <td>...</td>\n      <td>...</td>\n      <td>...</td>\n      <td>...</td>\n      <td>...</td>\n      <td>...</td>\n      <td>...</td>\n      <td>...</td>\n      <td>...</td>\n      <td>...</td>\n    </tr>\n    <tr>\n      <th>2013-12-01</th>\n      <td>19</td>\n      <td>18</td>\n      <td>33</td>\n      <td>7</td>\n      <td>35</td>\n      <td>21</td>\n      <td>11</td>\n      <td>16</td>\n      <td>24</td>\n      <td>24</td>\n      <td>21</td>\n      <td>6</td>\n      <td>13</td>\n      <td>9</td>\n      <td>20</td>\n      <td>17</td>\n      <td>51</td>\n      <td>14</td>\n      <td>51</td>\n    </tr>\n    <tr>\n      <th>2013-12-08</th>\n      <td>23</td>\n      <td>23</td>\n      <td>43</td>\n      <td>10</td>\n      <td>30</td>\n      <td>17</td>\n      <td>10</td>\n      <td>17</td>\n      <td>23</td>\n      <td>18</td>\n      <td>26</td>\n      <td>4</td>\n      <td>17</td>\n      <td>15</td>\n      <td>12</td>\n      <td>19</td>\n      <td>57</td>\n      <td>18</td>\n      <td>57</td>\n    </tr>\n    <tr>\n      <th>2013-12-15</th>\n      <td>21</td>\n      <td>28</td>\n      <td>39</td>\n      <td>8</td>\n      <td>16</td>\n      <td>16</td>\n      <td>12</td>\n      <td>18</td>\n      <td>21</td>\n      <td>21</td>\n      <td>28</td>\n      <td>6</td>\n      <td>17</td>\n      <td>10</td>\n      <td>18</td>\n      <td>16</td>\n      <td>58</td>\n      <td>19</td>\n      <td>58</td>\n    </tr>\n    <tr>\n      <th>2013-12-22</th>\n      <td>23</td>\n      <td>20</td>\n      <td>41</td>\n      <td>9</td>\n      <td>21</td>\n      <td>19</td>\n      <td>15</td>\n      <td>20</td>\n      <td>28</td>\n      <td>25</td>\n      <td>28</td>\n      <td>6</td>\n      <td>16</td>\n      <td>11</td>\n      <td>24</td>\n      <td>20</td>\n      <td>63</td>\n      <td>19</td>\n      <td>63</td>\n    </tr>\n    <tr>\n      <th>2013-12-29</th>\n      <td>31</td>\n      <td>37</td>\n      <td>65</td>\n      <td>12</td>\n      <td>21</td>\n      <td>27</td>\n      <td>15</td>\n      <td>22</td>\n      <td>32</td>\n      <td>25</td>\n      <td>35</td>\n      <td>7</td>\n      <td>23</td>\n      <td>17</td>\n      <td>25</td>\n      <td>23</td>\n      <td>92</td>\n      <td>22</td>\n      <td>92</td>\n    </tr>\n  </tbody>\n</table>\n<p>209 rows × 19 columns</p>\n</div>"
     },
     "metadata": {},
     "execution_count": 18
    }
   ],
   "source": [
    "df"
   ]
  },
  {
   "cell_type": "code",
   "execution_count": 19,
   "metadata": {},
   "outputs": [],
   "source": [
    "offset = pd.offsets.DateOffset(-5)\n",
    "df.loc[df.index[-1] - offset] = df.iloc[-1]\n",
    "df = df.resample('D', loffset=offset).ffill()"
   ]
  },
  {
   "cell_type": "code",
   "execution_count": 20,
   "metadata": {},
   "outputs": [
    {
     "output_type": "execute_result",
     "data": {
      "text/plain": [
       "            Atlanta  Boston  Chicago  Charlotte  Dallas-Fort Worth  Denver  \\\n",
       "Date                                                                         \n",
       "2009-12-29       25      24       36          6                 10      13   \n",
       "2009-12-30       25      24       36          6                 10      13   \n",
       "2009-12-31       25      24       36          6                 10      13   \n",
       "2010-01-01       25      24       36          6                 10      13   \n",
       "2010-01-02       25      24       36          6                 10      13   \n",
       "2010-01-03       25      24       36          6                 10      13   \n",
       "2010-01-04       25      24       36          6                 10      13   \n",
       "2010-01-05       21      17       24          6                 11      10   \n",
       "2010-01-06       21      17       24          6                 11      10   \n",
       "2010-01-07       21      17       24          6                 11      10   \n",
       "\n",
       "            Detroit  Houston  Las Vegas  Los Angeles  Miami  Minneapolis  \\\n",
       "Date                                                                       \n",
       "2009-12-29       23       19         39           21     26            8   \n",
       "2009-12-30       23       19         39           21     26            8   \n",
       "2009-12-31       23       19         39           21     26            8   \n",
       "2010-01-01       23       19         39           21     26            8   \n",
       "2010-01-02       23       19         39           21     26            8   \n",
       "2010-01-03       23       19         39           21     26            8   \n",
       "2010-01-04       23       19         39           21     26            8   \n",
       "2010-01-05       10       15         35           17     27            3   \n",
       "2010-01-06       10       15         35           17     27            3   \n",
       "2010-01-07       10       15         35           17     27            3   \n",
       "\n",
       "            Orlando  Philadelphia  Phoenix  San Francisco  New York  Seattle  \\\n",
       "Date                                                                           \n",
       "2009-12-29       24            11       14             19        60       15   \n",
       "2009-12-30       24            11       14             19        60       15   \n",
       "2009-12-31       24            11       14             19        60       15   \n",
       "2010-01-01       24            11       14             19        60       15   \n",
       "2010-01-02       24            11       14             19        60       15   \n",
       "2010-01-03       24            11       14             19        60       15   \n",
       "2010-01-04       24            11       14             19        60       15   \n",
       "2010-01-05       16             4       18             14        61       11   \n",
       "2010-01-06       16             4       18             14        61       11   \n",
       "2010-01-07       16             4       18             14        61       11   \n",
       "\n",
       "            Newark  \n",
       "Date                \n",
       "2009-12-29      60  \n",
       "2009-12-30      60  \n",
       "2009-12-31      60  \n",
       "2010-01-01      60  \n",
       "2010-01-02      60  \n",
       "2010-01-03      60  \n",
       "2010-01-04      60  \n",
       "2010-01-05      61  \n",
       "2010-01-06      61  \n",
       "2010-01-07      61  "
      ],
      "text/html": "<div>\n<style scoped>\n    .dataframe tbody tr th:only-of-type {\n        vertical-align: middle;\n    }\n\n    .dataframe tbody tr th {\n        vertical-align: top;\n    }\n\n    .dataframe thead th {\n        text-align: right;\n    }\n</style>\n<table border=\"1\" class=\"dataframe\">\n  <thead>\n    <tr style=\"text-align: right;\">\n      <th></th>\n      <th>Atlanta</th>\n      <th>Boston</th>\n      <th>Chicago</th>\n      <th>Charlotte</th>\n      <th>Dallas-Fort Worth</th>\n      <th>Denver</th>\n      <th>Detroit</th>\n      <th>Houston</th>\n      <th>Las Vegas</th>\n      <th>Los Angeles</th>\n      <th>Miami</th>\n      <th>Minneapolis</th>\n      <th>Orlando</th>\n      <th>Philadelphia</th>\n      <th>Phoenix</th>\n      <th>San Francisco</th>\n      <th>New York</th>\n      <th>Seattle</th>\n      <th>Newark</th>\n    </tr>\n    <tr>\n      <th>Date</th>\n      <th></th>\n      <th></th>\n      <th></th>\n      <th></th>\n      <th></th>\n      <th></th>\n      <th></th>\n      <th></th>\n      <th></th>\n      <th></th>\n      <th></th>\n      <th></th>\n      <th></th>\n      <th></th>\n      <th></th>\n      <th></th>\n      <th></th>\n      <th></th>\n      <th></th>\n    </tr>\n  </thead>\n  <tbody>\n    <tr>\n      <th>2009-12-29</th>\n      <td>25</td>\n      <td>24</td>\n      <td>36</td>\n      <td>6</td>\n      <td>10</td>\n      <td>13</td>\n      <td>23</td>\n      <td>19</td>\n      <td>39</td>\n      <td>21</td>\n      <td>26</td>\n      <td>8</td>\n      <td>24</td>\n      <td>11</td>\n      <td>14</td>\n      <td>19</td>\n      <td>60</td>\n      <td>15</td>\n      <td>60</td>\n    </tr>\n    <tr>\n      <th>2009-12-30</th>\n      <td>25</td>\n      <td>24</td>\n      <td>36</td>\n      <td>6</td>\n      <td>10</td>\n      <td>13</td>\n      <td>23</td>\n      <td>19</td>\n      <td>39</td>\n      <td>21</td>\n      <td>26</td>\n      <td>8</td>\n      <td>24</td>\n      <td>11</td>\n      <td>14</td>\n      <td>19</td>\n      <td>60</td>\n      <td>15</td>\n      <td>60</td>\n    </tr>\n    <tr>\n      <th>2009-12-31</th>\n      <td>25</td>\n      <td>24</td>\n      <td>36</td>\n      <td>6</td>\n      <td>10</td>\n      <td>13</td>\n      <td>23</td>\n      <td>19</td>\n      <td>39</td>\n      <td>21</td>\n      <td>26</td>\n      <td>8</td>\n      <td>24</td>\n      <td>11</td>\n      <td>14</td>\n      <td>19</td>\n      <td>60</td>\n      <td>15</td>\n      <td>60</td>\n    </tr>\n    <tr>\n      <th>2010-01-01</th>\n      <td>25</td>\n      <td>24</td>\n      <td>36</td>\n      <td>6</td>\n      <td>10</td>\n      <td>13</td>\n      <td>23</td>\n      <td>19</td>\n      <td>39</td>\n      <td>21</td>\n      <td>26</td>\n      <td>8</td>\n      <td>24</td>\n      <td>11</td>\n      <td>14</td>\n      <td>19</td>\n      <td>60</td>\n      <td>15</td>\n      <td>60</td>\n    </tr>\n    <tr>\n      <th>2010-01-02</th>\n      <td>25</td>\n      <td>24</td>\n      <td>36</td>\n      <td>6</td>\n      <td>10</td>\n      <td>13</td>\n      <td>23</td>\n      <td>19</td>\n      <td>39</td>\n      <td>21</td>\n      <td>26</td>\n      <td>8</td>\n      <td>24</td>\n      <td>11</td>\n      <td>14</td>\n      <td>19</td>\n      <td>60</td>\n      <td>15</td>\n      <td>60</td>\n    </tr>\n    <tr>\n      <th>2010-01-03</th>\n      <td>25</td>\n      <td>24</td>\n      <td>36</td>\n      <td>6</td>\n      <td>10</td>\n      <td>13</td>\n      <td>23</td>\n      <td>19</td>\n      <td>39</td>\n      <td>21</td>\n      <td>26</td>\n      <td>8</td>\n      <td>24</td>\n      <td>11</td>\n      <td>14</td>\n      <td>19</td>\n      <td>60</td>\n      <td>15</td>\n      <td>60</td>\n    </tr>\n    <tr>\n      <th>2010-01-04</th>\n      <td>25</td>\n      <td>24</td>\n      <td>36</td>\n      <td>6</td>\n      <td>10</td>\n      <td>13</td>\n      <td>23</td>\n      <td>19</td>\n      <td>39</td>\n      <td>21</td>\n      <td>26</td>\n      <td>8</td>\n      <td>24</td>\n      <td>11</td>\n      <td>14</td>\n      <td>19</td>\n      <td>60</td>\n      <td>15</td>\n      <td>60</td>\n    </tr>\n    <tr>\n      <th>2010-01-05</th>\n      <td>21</td>\n      <td>17</td>\n      <td>24</td>\n      <td>6</td>\n      <td>11</td>\n      <td>10</td>\n      <td>10</td>\n      <td>15</td>\n      <td>35</td>\n      <td>17</td>\n      <td>27</td>\n      <td>3</td>\n      <td>16</td>\n      <td>4</td>\n      <td>18</td>\n      <td>14</td>\n      <td>61</td>\n      <td>11</td>\n      <td>61</td>\n    </tr>\n    <tr>\n      <th>2010-01-06</th>\n      <td>21</td>\n      <td>17</td>\n      <td>24</td>\n      <td>6</td>\n      <td>11</td>\n      <td>10</td>\n      <td>10</td>\n      <td>15</td>\n      <td>35</td>\n      <td>17</td>\n      <td>27</td>\n      <td>3</td>\n      <td>16</td>\n      <td>4</td>\n      <td>18</td>\n      <td>14</td>\n      <td>61</td>\n      <td>11</td>\n      <td>61</td>\n    </tr>\n    <tr>\n      <th>2010-01-07</th>\n      <td>21</td>\n      <td>17</td>\n      <td>24</td>\n      <td>6</td>\n      <td>11</td>\n      <td>10</td>\n      <td>10</td>\n      <td>15</td>\n      <td>35</td>\n      <td>17</td>\n      <td>27</td>\n      <td>3</td>\n      <td>16</td>\n      <td>4</td>\n      <td>18</td>\n      <td>14</td>\n      <td>61</td>\n      <td>11</td>\n      <td>61</td>\n    </tr>\n  </tbody>\n</table>\n</div>"
     },
     "metadata": {},
     "execution_count": 20
    }
   ],
   "source": [
    "df.head(10)"
   ]
  },
  {
   "cell_type": "code",
   "execution_count": 21,
   "metadata": {},
   "outputs": [],
   "source": [
    "df.reset_index(inplace=True)"
   ]
  },
  {
   "cell_type": "code",
   "execution_count": 22,
   "metadata": {},
   "outputs": [
    {
     "output_type": "execute_result",
     "data": {
      "text/plain": [
       "           Date  Atlanta  Boston  Chicago  Charlotte  Dallas-Fort Worth  \\\n",
       "0    2009-12-29       25      24       36          6                 10   \n",
       "1    2009-12-30       25      24       36          6                 10   \n",
       "2    2009-12-31       25      24       36          6                 10   \n",
       "3    2010-01-01       25      24       36          6                 10   \n",
       "4    2010-01-02       25      24       36          6                 10   \n",
       "...         ...      ...     ...      ...        ...                ...   \n",
       "1457 2013-12-25       31      37       65         12                 21   \n",
       "1458 2013-12-26       31      37       65         12                 21   \n",
       "1459 2013-12-27       31      37       65         12                 21   \n",
       "1460 2013-12-28       31      37       65         12                 21   \n",
       "1461 2013-12-29       31      37       65         12                 21   \n",
       "\n",
       "      Denver  Detroit  Houston  Las Vegas  Los Angeles  Miami  Minneapolis  \\\n",
       "0         13       23       19         39           21     26            8   \n",
       "1         13       23       19         39           21     26            8   \n",
       "2         13       23       19         39           21     26            8   \n",
       "3         13       23       19         39           21     26            8   \n",
       "4         13       23       19         39           21     26            8   \n",
       "...      ...      ...      ...        ...          ...    ...          ...   \n",
       "1457      27       15       22         32           25     35            7   \n",
       "1458      27       15       22         32           25     35            7   \n",
       "1459      27       15       22         32           25     35            7   \n",
       "1460      27       15       22         32           25     35            7   \n",
       "1461      27       15       22         32           25     35            7   \n",
       "\n",
       "      Orlando  Philadelphia  Phoenix  San Francisco  New York  Seattle  Newark  \n",
       "0          24            11       14             19        60       15      60  \n",
       "1          24            11       14             19        60       15      60  \n",
       "2          24            11       14             19        60       15      60  \n",
       "3          24            11       14             19        60       15      60  \n",
       "4          24            11       14             19        60       15      60  \n",
       "...       ...           ...      ...            ...       ...      ...     ...  \n",
       "1457       23            17       25             23        92       22      92  \n",
       "1458       23            17       25             23        92       22      92  \n",
       "1459       23            17       25             23        92       22      92  \n",
       "1460       23            17       25             23        92       22      92  \n",
       "1461       23            17       25             23        92       22      92  \n",
       "\n",
       "[1462 rows x 20 columns]"
      ],
      "text/html": "<div>\n<style scoped>\n    .dataframe tbody tr th:only-of-type {\n        vertical-align: middle;\n    }\n\n    .dataframe tbody tr th {\n        vertical-align: top;\n    }\n\n    .dataframe thead th {\n        text-align: right;\n    }\n</style>\n<table border=\"1\" class=\"dataframe\">\n  <thead>\n    <tr style=\"text-align: right;\">\n      <th></th>\n      <th>Date</th>\n      <th>Atlanta</th>\n      <th>Boston</th>\n      <th>Chicago</th>\n      <th>Charlotte</th>\n      <th>Dallas-Fort Worth</th>\n      <th>Denver</th>\n      <th>Detroit</th>\n      <th>Houston</th>\n      <th>Las Vegas</th>\n      <th>Los Angeles</th>\n      <th>Miami</th>\n      <th>Minneapolis</th>\n      <th>Orlando</th>\n      <th>Philadelphia</th>\n      <th>Phoenix</th>\n      <th>San Francisco</th>\n      <th>New York</th>\n      <th>Seattle</th>\n      <th>Newark</th>\n    </tr>\n  </thead>\n  <tbody>\n    <tr>\n      <th>0</th>\n      <td>2009-12-29</td>\n      <td>25</td>\n      <td>24</td>\n      <td>36</td>\n      <td>6</td>\n      <td>10</td>\n      <td>13</td>\n      <td>23</td>\n      <td>19</td>\n      <td>39</td>\n      <td>21</td>\n      <td>26</td>\n      <td>8</td>\n      <td>24</td>\n      <td>11</td>\n      <td>14</td>\n      <td>19</td>\n      <td>60</td>\n      <td>15</td>\n      <td>60</td>\n    </tr>\n    <tr>\n      <th>1</th>\n      <td>2009-12-30</td>\n      <td>25</td>\n      <td>24</td>\n      <td>36</td>\n      <td>6</td>\n      <td>10</td>\n      <td>13</td>\n      <td>23</td>\n      <td>19</td>\n      <td>39</td>\n      <td>21</td>\n      <td>26</td>\n      <td>8</td>\n      <td>24</td>\n      <td>11</td>\n      <td>14</td>\n      <td>19</td>\n      <td>60</td>\n      <td>15</td>\n      <td>60</td>\n    </tr>\n    <tr>\n      <th>2</th>\n      <td>2009-12-31</td>\n      <td>25</td>\n      <td>24</td>\n      <td>36</td>\n      <td>6</td>\n      <td>10</td>\n      <td>13</td>\n      <td>23</td>\n      <td>19</td>\n      <td>39</td>\n      <td>21</td>\n      <td>26</td>\n      <td>8</td>\n      <td>24</td>\n      <td>11</td>\n      <td>14</td>\n      <td>19</td>\n      <td>60</td>\n      <td>15</td>\n      <td>60</td>\n    </tr>\n    <tr>\n      <th>3</th>\n      <td>2010-01-01</td>\n      <td>25</td>\n      <td>24</td>\n      <td>36</td>\n      <td>6</td>\n      <td>10</td>\n      <td>13</td>\n      <td>23</td>\n      <td>19</td>\n      <td>39</td>\n      <td>21</td>\n      <td>26</td>\n      <td>8</td>\n      <td>24</td>\n      <td>11</td>\n      <td>14</td>\n      <td>19</td>\n      <td>60</td>\n      <td>15</td>\n      <td>60</td>\n    </tr>\n    <tr>\n      <th>4</th>\n      <td>2010-01-02</td>\n      <td>25</td>\n      <td>24</td>\n      <td>36</td>\n      <td>6</td>\n      <td>10</td>\n      <td>13</td>\n      <td>23</td>\n      <td>19</td>\n      <td>39</td>\n      <td>21</td>\n      <td>26</td>\n      <td>8</td>\n      <td>24</td>\n      <td>11</td>\n      <td>14</td>\n      <td>19</td>\n      <td>60</td>\n      <td>15</td>\n      <td>60</td>\n    </tr>\n    <tr>\n      <th>...</th>\n      <td>...</td>\n      <td>...</td>\n      <td>...</td>\n      <td>...</td>\n      <td>...</td>\n      <td>...</td>\n      <td>...</td>\n      <td>...</td>\n      <td>...</td>\n      <td>...</td>\n      <td>...</td>\n      <td>...</td>\n      <td>...</td>\n      <td>...</td>\n      <td>...</td>\n      <td>...</td>\n      <td>...</td>\n      <td>...</td>\n      <td>...</td>\n      <td>...</td>\n    </tr>\n    <tr>\n      <th>1457</th>\n      <td>2013-12-25</td>\n      <td>31</td>\n      <td>37</td>\n      <td>65</td>\n      <td>12</td>\n      <td>21</td>\n      <td>27</td>\n      <td>15</td>\n      <td>22</td>\n      <td>32</td>\n      <td>25</td>\n      <td>35</td>\n      <td>7</td>\n      <td>23</td>\n      <td>17</td>\n      <td>25</td>\n      <td>23</td>\n      <td>92</td>\n      <td>22</td>\n      <td>92</td>\n    </tr>\n    <tr>\n      <th>1458</th>\n      <td>2013-12-26</td>\n      <td>31</td>\n      <td>37</td>\n      <td>65</td>\n      <td>12</td>\n      <td>21</td>\n      <td>27</td>\n      <td>15</td>\n      <td>22</td>\n      <td>32</td>\n      <td>25</td>\n      <td>35</td>\n      <td>7</td>\n      <td>23</td>\n      <td>17</td>\n      <td>25</td>\n      <td>23</td>\n      <td>92</td>\n      <td>22</td>\n      <td>92</td>\n    </tr>\n    <tr>\n      <th>1459</th>\n      <td>2013-12-27</td>\n      <td>31</td>\n      <td>37</td>\n      <td>65</td>\n      <td>12</td>\n      <td>21</td>\n      <td>27</td>\n      <td>15</td>\n      <td>22</td>\n      <td>32</td>\n      <td>25</td>\n      <td>35</td>\n      <td>7</td>\n      <td>23</td>\n      <td>17</td>\n      <td>25</td>\n      <td>23</td>\n      <td>92</td>\n      <td>22</td>\n      <td>92</td>\n    </tr>\n    <tr>\n      <th>1460</th>\n      <td>2013-12-28</td>\n      <td>31</td>\n      <td>37</td>\n      <td>65</td>\n      <td>12</td>\n      <td>21</td>\n      <td>27</td>\n      <td>15</td>\n      <td>22</td>\n      <td>32</td>\n      <td>25</td>\n      <td>35</td>\n      <td>7</td>\n      <td>23</td>\n      <td>17</td>\n      <td>25</td>\n      <td>23</td>\n      <td>92</td>\n      <td>22</td>\n      <td>92</td>\n    </tr>\n    <tr>\n      <th>1461</th>\n      <td>2013-12-29</td>\n      <td>31</td>\n      <td>37</td>\n      <td>65</td>\n      <td>12</td>\n      <td>21</td>\n      <td>27</td>\n      <td>15</td>\n      <td>22</td>\n      <td>32</td>\n      <td>25</td>\n      <td>35</td>\n      <td>7</td>\n      <td>23</td>\n      <td>17</td>\n      <td>25</td>\n      <td>23</td>\n      <td>92</td>\n      <td>22</td>\n      <td>92</td>\n    </tr>\n  </tbody>\n</table>\n<p>1462 rows × 20 columns</p>\n</div>"
     },
     "metadata": {},
     "execution_count": 22
    }
   ],
   "source": [
    "df"
   ]
  },
  {
   "cell_type": "code",
   "execution_count": 23,
   "metadata": {},
   "outputs": [],
   "source": [
    "#df['Day'] = df['Date'].dt.day\n",
    "#df['Week'] = df['Date'].dt.week\n",
    "#df['Weekday'] = df['Date'].dt.weekday\n",
    "#df['Year'] = df['Date'].dt.year"
   ]
  },
  {
   "cell_type": "code",
   "execution_count": 24,
   "metadata": {},
   "outputs": [
    {
     "output_type": "execute_result",
     "data": {
      "text/plain": [
       "           Date  Atlanta  Boston  Chicago  Charlotte  Dallas-Fort Worth  \\\n",
       "0    2009-12-29       25      24       36          6                 10   \n",
       "1    2009-12-30       25      24       36          6                 10   \n",
       "2    2009-12-31       25      24       36          6                 10   \n",
       "3    2010-01-01       25      24       36          6                 10   \n",
       "4    2010-01-02       25      24       36          6                 10   \n",
       "...         ...      ...     ...      ...        ...                ...   \n",
       "1457 2013-12-25       31      37       65         12                 21   \n",
       "1458 2013-12-26       31      37       65         12                 21   \n",
       "1459 2013-12-27       31      37       65         12                 21   \n",
       "1460 2013-12-28       31      37       65         12                 21   \n",
       "1461 2013-12-29       31      37       65         12                 21   \n",
       "\n",
       "      Denver  Detroit  Houston  Las Vegas  Los Angeles  Miami  Minneapolis  \\\n",
       "0         13       23       19         39           21     26            8   \n",
       "1         13       23       19         39           21     26            8   \n",
       "2         13       23       19         39           21     26            8   \n",
       "3         13       23       19         39           21     26            8   \n",
       "4         13       23       19         39           21     26            8   \n",
       "...      ...      ...      ...        ...          ...    ...          ...   \n",
       "1457      27       15       22         32           25     35            7   \n",
       "1458      27       15       22         32           25     35            7   \n",
       "1459      27       15       22         32           25     35            7   \n",
       "1460      27       15       22         32           25     35            7   \n",
       "1461      27       15       22         32           25     35            7   \n",
       "\n",
       "      Orlando  Philadelphia  Phoenix  San Francisco  New York  Seattle  Newark  \n",
       "0          24            11       14             19        60       15      60  \n",
       "1          24            11       14             19        60       15      60  \n",
       "2          24            11       14             19        60       15      60  \n",
       "3          24            11       14             19        60       15      60  \n",
       "4          24            11       14             19        60       15      60  \n",
       "...       ...           ...      ...            ...       ...      ...     ...  \n",
       "1457       23            17       25             23        92       22      92  \n",
       "1458       23            17       25             23        92       22      92  \n",
       "1459       23            17       25             23        92       22      92  \n",
       "1460       23            17       25             23        92       22      92  \n",
       "1461       23            17       25             23        92       22      92  \n",
       "\n",
       "[1462 rows x 20 columns]"
      ],
      "text/html": "<div>\n<style scoped>\n    .dataframe tbody tr th:only-of-type {\n        vertical-align: middle;\n    }\n\n    .dataframe tbody tr th {\n        vertical-align: top;\n    }\n\n    .dataframe thead th {\n        text-align: right;\n    }\n</style>\n<table border=\"1\" class=\"dataframe\">\n  <thead>\n    <tr style=\"text-align: right;\">\n      <th></th>\n      <th>Date</th>\n      <th>Atlanta</th>\n      <th>Boston</th>\n      <th>Chicago</th>\n      <th>Charlotte</th>\n      <th>Dallas-Fort Worth</th>\n      <th>Denver</th>\n      <th>Detroit</th>\n      <th>Houston</th>\n      <th>Las Vegas</th>\n      <th>Los Angeles</th>\n      <th>Miami</th>\n      <th>Minneapolis</th>\n      <th>Orlando</th>\n      <th>Philadelphia</th>\n      <th>Phoenix</th>\n      <th>San Francisco</th>\n      <th>New York</th>\n      <th>Seattle</th>\n      <th>Newark</th>\n    </tr>\n  </thead>\n  <tbody>\n    <tr>\n      <th>0</th>\n      <td>2009-12-29</td>\n      <td>25</td>\n      <td>24</td>\n      <td>36</td>\n      <td>6</td>\n      <td>10</td>\n      <td>13</td>\n      <td>23</td>\n      <td>19</td>\n      <td>39</td>\n      <td>21</td>\n      <td>26</td>\n      <td>8</td>\n      <td>24</td>\n      <td>11</td>\n      <td>14</td>\n      <td>19</td>\n      <td>60</td>\n      <td>15</td>\n      <td>60</td>\n    </tr>\n    <tr>\n      <th>1</th>\n      <td>2009-12-30</td>\n      <td>25</td>\n      <td>24</td>\n      <td>36</td>\n      <td>6</td>\n      <td>10</td>\n      <td>13</td>\n      <td>23</td>\n      <td>19</td>\n      <td>39</td>\n      <td>21</td>\n      <td>26</td>\n      <td>8</td>\n      <td>24</td>\n      <td>11</td>\n      <td>14</td>\n      <td>19</td>\n      <td>60</td>\n      <td>15</td>\n      <td>60</td>\n    </tr>\n    <tr>\n      <th>2</th>\n      <td>2009-12-31</td>\n      <td>25</td>\n      <td>24</td>\n      <td>36</td>\n      <td>6</td>\n      <td>10</td>\n      <td>13</td>\n      <td>23</td>\n      <td>19</td>\n      <td>39</td>\n      <td>21</td>\n      <td>26</td>\n      <td>8</td>\n      <td>24</td>\n      <td>11</td>\n      <td>14</td>\n      <td>19</td>\n      <td>60</td>\n      <td>15</td>\n      <td>60</td>\n    </tr>\n    <tr>\n      <th>3</th>\n      <td>2010-01-01</td>\n      <td>25</td>\n      <td>24</td>\n      <td>36</td>\n      <td>6</td>\n      <td>10</td>\n      <td>13</td>\n      <td>23</td>\n      <td>19</td>\n      <td>39</td>\n      <td>21</td>\n      <td>26</td>\n      <td>8</td>\n      <td>24</td>\n      <td>11</td>\n      <td>14</td>\n      <td>19</td>\n      <td>60</td>\n      <td>15</td>\n      <td>60</td>\n    </tr>\n    <tr>\n      <th>4</th>\n      <td>2010-01-02</td>\n      <td>25</td>\n      <td>24</td>\n      <td>36</td>\n      <td>6</td>\n      <td>10</td>\n      <td>13</td>\n      <td>23</td>\n      <td>19</td>\n      <td>39</td>\n      <td>21</td>\n      <td>26</td>\n      <td>8</td>\n      <td>24</td>\n      <td>11</td>\n      <td>14</td>\n      <td>19</td>\n      <td>60</td>\n      <td>15</td>\n      <td>60</td>\n    </tr>\n    <tr>\n      <th>...</th>\n      <td>...</td>\n      <td>...</td>\n      <td>...</td>\n      <td>...</td>\n      <td>...</td>\n      <td>...</td>\n      <td>...</td>\n      <td>...</td>\n      <td>...</td>\n      <td>...</td>\n      <td>...</td>\n      <td>...</td>\n      <td>...</td>\n      <td>...</td>\n      <td>...</td>\n      <td>...</td>\n      <td>...</td>\n      <td>...</td>\n      <td>...</td>\n      <td>...</td>\n    </tr>\n    <tr>\n      <th>1457</th>\n      <td>2013-12-25</td>\n      <td>31</td>\n      <td>37</td>\n      <td>65</td>\n      <td>12</td>\n      <td>21</td>\n      <td>27</td>\n      <td>15</td>\n      <td>22</td>\n      <td>32</td>\n      <td>25</td>\n      <td>35</td>\n      <td>7</td>\n      <td>23</td>\n      <td>17</td>\n      <td>25</td>\n      <td>23</td>\n      <td>92</td>\n      <td>22</td>\n      <td>92</td>\n    </tr>\n    <tr>\n      <th>1458</th>\n      <td>2013-12-26</td>\n      <td>31</td>\n      <td>37</td>\n      <td>65</td>\n      <td>12</td>\n      <td>21</td>\n      <td>27</td>\n      <td>15</td>\n      <td>22</td>\n      <td>32</td>\n      <td>25</td>\n      <td>35</td>\n      <td>7</td>\n      <td>23</td>\n      <td>17</td>\n      <td>25</td>\n      <td>23</td>\n      <td>92</td>\n      <td>22</td>\n      <td>92</td>\n    </tr>\n    <tr>\n      <th>1459</th>\n      <td>2013-12-27</td>\n      <td>31</td>\n      <td>37</td>\n      <td>65</td>\n      <td>12</td>\n      <td>21</td>\n      <td>27</td>\n      <td>15</td>\n      <td>22</td>\n      <td>32</td>\n      <td>25</td>\n      <td>35</td>\n      <td>7</td>\n      <td>23</td>\n      <td>17</td>\n      <td>25</td>\n      <td>23</td>\n      <td>92</td>\n      <td>22</td>\n      <td>92</td>\n    </tr>\n    <tr>\n      <th>1460</th>\n      <td>2013-12-28</td>\n      <td>31</td>\n      <td>37</td>\n      <td>65</td>\n      <td>12</td>\n      <td>21</td>\n      <td>27</td>\n      <td>15</td>\n      <td>22</td>\n      <td>32</td>\n      <td>25</td>\n      <td>35</td>\n      <td>7</td>\n      <td>23</td>\n      <td>17</td>\n      <td>25</td>\n      <td>23</td>\n      <td>92</td>\n      <td>22</td>\n      <td>92</td>\n    </tr>\n    <tr>\n      <th>1461</th>\n      <td>2013-12-29</td>\n      <td>31</td>\n      <td>37</td>\n      <td>65</td>\n      <td>12</td>\n      <td>21</td>\n      <td>27</td>\n      <td>15</td>\n      <td>22</td>\n      <td>32</td>\n      <td>25</td>\n      <td>35</td>\n      <td>7</td>\n      <td>23</td>\n      <td>17</td>\n      <td>25</td>\n      <td>23</td>\n      <td>92</td>\n      <td>22</td>\n      <td>92</td>\n    </tr>\n  </tbody>\n</table>\n<p>1462 rows × 20 columns</p>\n</div>"
     },
     "metadata": {},
     "execution_count": 24
    }
   ],
   "source": [
    "df"
   ]
  },
  {
   "cell_type": "code",
   "execution_count": 32,
   "metadata": {},
   "outputs": [],
   "source": [
    "#from itertools import product\n",
    "#A = df['Date'].values.tolist()\n",
    "#cols = ['Atlanta', 'Boston', 'Chicago', 'Charlotte', 'Dallas-Fort Worth', 'Denver', 'Detroit', 'Houston', 'Las Vegas', 'Los Angeles', 'Miami', 'Minneapolis', 'Orlando', 'Philadelphia', 'Phoenix', 'San Francisco', 'New York', 'Seattle']\n",
    "#B = df[cols].values.tolist()\n",
    "#df2 = pd.DataFrame([x + y for x, y in (product(A, B))])"
   ]
  },
  {
   "cell_type": "code",
   "execution_count": 31,
   "metadata": {},
   "outputs": [
    {
     "output_type": "stream",
     "name": "stdout",
     "text": [
      "<itertools.product object at 0x7f9ed3c25f00>\n"
     ]
    }
   ],
   "source": []
  },
  {
   "cell_type": "code",
   "execution_count": null,
   "metadata": {},
   "outputs": [],
   "source": []
  }
 ],
 "metadata": {
  "kernelspec": {
   "display_name": "Python 3",
   "language": "python",
   "name": "python3"
  },
  "language_info": {
   "codemirror_mode": {
    "name": "ipython",
    "version": 3
   },
   "file_extension": ".py",
   "mimetype": "text/x-python",
   "name": "python",
   "nbconvert_exporter": "python",
   "pygments_lexer": "ipython3",
   "version": "3.8.3-final"
  }
 },
 "nbformat": 4,
 "nbformat_minor": 4
}