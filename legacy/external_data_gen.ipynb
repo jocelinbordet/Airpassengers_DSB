{
 "metadata": {
  "language_info": {
   "codemirror_mode": {
    "name": "ipython",
    "version": 3
   },
   "file_extension": ".py",
   "mimetype": "text/x-python",
   "name": "python",
   "nbconvert_exporter": "python",
   "pygments_lexer": "ipython3",
   "version": "3.8.5-final"
  },
  "orig_nbformat": 2,
  "kernelspec": {
   "name": "python3",
   "display_name": "Python 3"
  }
 },
 "nbformat": 4,
 "nbformat_minor": 2,
 "cells": [
  {
   "cell_type": "code",
   "execution_count": 1,
   "metadata": {},
   "outputs": [],
   "source": [
    "import pandas as pd\n",
    "import numpy as np\n",
    "import problem"
   ]
  },
  {
   "source": [
    "## Utils"
   ],
   "cell_type": "markdown",
   "metadata": {}
  },
  {
   "cell_type": "code",
   "execution_count": 2,
   "metadata": {},
   "outputs": [],
   "source": [
    "### LAG ###\n",
    "\n",
    "lag = True\n",
    "\n",
    "if lag==True:\n",
    "    date_key = 'Purchase Date'\n",
    "elif lag==False:\n",
    "    date_key = 'DateOfDeparture'\n",
    "\n",
    "### LAG ###"
   ]
  },
  {
   "cell_type": "code",
   "execution_count": 3,
   "metadata": {},
   "outputs": [],
   "source": [
    "def purchase_date(df):\n",
    "    df = df.copy()\n",
    "    df_data1 = pd.read_csv(os.path.join('data', 'train.csv.bz2'))\n",
    "    df_data2 = pd.read_csv(os.path.join('data', 'test.csv.bz2'))\n",
    "    df_data = pd.concat([df_data1, df_data2])\n",
    "    df_data['DateOfDeparture'] = pd.to_datetime(df_data['DateOfDeparture'])\n",
    "    # df_data['avg_wtd_dep'] = df_data['WeeksToDeparture']\n",
    "    #df_data = df_data.rename(columns={'WeeksToDeparture':'avg_wtd_arr'})\n",
    "\n",
    "    #df_data[\"Purchase Date\"] = pd.to_datetime(\"1970-01-01\") + pd.DateOffset(days=time_diff)\n",
    "    \n",
    "    df_data = df_data.drop(columns=['std_wtd', 'log_PAX'])\n",
    "    print(df_data.columns)\n",
    "\n",
    "    df_dep = df_data.copy().drop(columns=['Arrival']).groupby(['DateOfDeparture', 'Departure']).mean().reset_index()\n",
    "    df_dep = df_dep.rename(columns={'WeeksToDeparture':'WTD Dep'})\n",
    "    df_arr = df_data.copy().drop(columns=['Departure']).groupby(['DateOfDeparture', 'Arrival']).mean().reset_index()\n",
    "    df_dep = df_dep.rename(columns={'WeeksToDeparture':'WTD Arr'})\n",
    "\n",
    "\n",
    "    # time_diff = (df_dep['DateOfDeparture'] - pd.to_datetime(\"1970-01-01\") ).dt.days - 7 * df_dep['WeeksToDeparture']\n",
    "    # df_dep['avg purchase date dep'] = pd.to_datetime(\"1970-01-01\") + time_diff.apply(np.ceil).apply(lambda x: pd.Timedelta(x,               unit='D'))\n",
    "    # df_dep = df_dep.drop(columns=['WeeksToDeparture'])\n",
    "    df = df.merge(df_arr, how='left', on=['DateOfDeparture', 'Arrival'])\n",
    "    df = df.merge(df_dep, how='left', on=['DateOfDeparture', 'Departure'])\n",
    "\n",
    "    df['WTD Arr'].fillna(df['WTD Dep'], inplace=True)\n",
    "    del df['WTD Dep']\n",
    "\n",
    "    df['WTD Arr'] = df.fillna(df['WTD Arr'].mean())\n",
    "\n",
    "    time_diff = (df_arr['DateOfDeparture'] - pd.to_datetime(\"1970-01-01\") ).dt.days - 7 * df_arr['WeeksToDeparture']\n",
    "    df_arr['avg purchase date'] = pd.to_datetime(\"1970-01-01\") + time_diff.apply(np.ceil).apply(lambda x: pd.Timedelta(x, unit='D'))\n",
    "    df_arr = df_arr.drop(columns=['WeeksToDeparture'])\n",
    "\n",
    "    df['p_year'] = df['avg purchase date'].dt.year\n",
    "    df['p_month'] = df['avg purchase date'].dt.month\n",
    "    df['p_week'] = df['avg purchase date'].dt.week\n",
    "    df['p_day'] = df['avg purchase date'].dt.day\n",
    "\n",
    "    \n",
    "    \n",
    "    return df\n",
    "\n",
    "def city_name_encoding(df):\n",
    "    df_codes = pd.read_csv(os.path.join('data', 'airports.csv'))\n",
    "    df_codes = df_codes.loc[~df_codes[\"iata_code\"].isnull(), [\"iata_code\", \"municipality\"]]\n",
    "    df_codes.loc[:, \"municipality\"] = df_codes.loc[:, \"municipality\"\n",
    "    ].replace({\"Dallas-Fort Worth\":\"Dallas\", \"Newark\":\"New York\"})\n",
    "    df_codes = df_codes.rename(columns={\"iata_code\":\"Departure\", \"municipality\":\"Departure City\"})\n",
    "    \n",
    "    df_encoded = df.merge(df_codes, how=\"left\", on=\"Departure\")\n",
    "    df_codes = df_codes.rename(columns={\"Departure\":\"Arrival\", \"Departure City\":\"Arrival City\"})\n",
    "    df_encoded = df_encoded.merge(df_codes, how=\"left\", on=\"Arrival\")\n",
    "    return df_encoded"
   ]
  },
  {
   "source": [
    "# Code"
   ],
   "cell_type": "markdown",
   "metadata": {}
  },
  {
   "cell_type": "code",
   "execution_count": 4,
   "metadata": {},
   "outputs": [],
   "source": [
    "data1 = pd.read_csv(\n",
    "    os.path.join('data', 'train.csv.bz2')\n",
    ")\n",
    "data2 = pd.read_csv(\n",
    "    os.path.join('data', 'test.csv.bz2')\n",
    ") \n",
    "data = pd.concat([data1, data2])\n"
   ]
  },
  {
   "cell_type": "code",
   "execution_count": 5,
   "metadata": {},
   "outputs": [
    {
     "output_type": "stream",
     "name": "stdout",
     "text": [
      "11.466842156704065\n"
     ]
    }
   ],
   "source": [
    "print(data[\"WeeksToDeparture\"].mean())"
   ]
  },
  {
   "cell_type": "code",
   "execution_count": 6,
   "metadata": {},
   "outputs": [
    {
     "output_type": "execute_result",
     "data": {
      "text/plain": [
       "       DateOfDeparture Departure Arrival\n",
       "0           2011-09-01       ORD     ORD\n",
       "1           2011-09-01       ORD     LAS\n",
       "2           2011-09-01       ORD     DEN\n",
       "3           2011-09-01       ORD     ATL\n",
       "4           2011-09-01       ORD     SFO\n",
       "...                ...       ...     ...\n",
       "220795      2013-03-05       LGA     MSP\n",
       "220796      2013-03-05       LGA     CLT\n",
       "220797      2013-03-05       LGA     MCO\n",
       "220798      2013-03-05       LGA     PHX\n",
       "220799      2013-03-05       LGA     LGA\n",
       "\n",
       "[220800 rows x 3 columns]"
      ],
      "text/html": "<div>\n<style scoped>\n    .dataframe tbody tr th:only-of-type {\n        vertical-align: middle;\n    }\n\n    .dataframe tbody tr th {\n        vertical-align: top;\n    }\n\n    .dataframe thead th {\n        text-align: right;\n    }\n</style>\n<table border=\"1\" class=\"dataframe\">\n  <thead>\n    <tr style=\"text-align: right;\">\n      <th></th>\n      <th>DateOfDeparture</th>\n      <th>Departure</th>\n      <th>Arrival</th>\n    </tr>\n  </thead>\n  <tbody>\n    <tr>\n      <th>0</th>\n      <td>2011-09-01</td>\n      <td>ORD</td>\n      <td>ORD</td>\n    </tr>\n    <tr>\n      <th>1</th>\n      <td>2011-09-01</td>\n      <td>ORD</td>\n      <td>LAS</td>\n    </tr>\n    <tr>\n      <th>2</th>\n      <td>2011-09-01</td>\n      <td>ORD</td>\n      <td>DEN</td>\n    </tr>\n    <tr>\n      <th>3</th>\n      <td>2011-09-01</td>\n      <td>ORD</td>\n      <td>ATL</td>\n    </tr>\n    <tr>\n      <th>4</th>\n      <td>2011-09-01</td>\n      <td>ORD</td>\n      <td>SFO</td>\n    </tr>\n    <tr>\n      <th>...</th>\n      <td>...</td>\n      <td>...</td>\n      <td>...</td>\n    </tr>\n    <tr>\n      <th>220795</th>\n      <td>2013-03-05</td>\n      <td>LGA</td>\n      <td>MSP</td>\n    </tr>\n    <tr>\n      <th>220796</th>\n      <td>2013-03-05</td>\n      <td>LGA</td>\n      <td>CLT</td>\n    </tr>\n    <tr>\n      <th>220797</th>\n      <td>2013-03-05</td>\n      <td>LGA</td>\n      <td>MCO</td>\n    </tr>\n    <tr>\n      <th>220798</th>\n      <td>2013-03-05</td>\n      <td>LGA</td>\n      <td>PHX</td>\n    </tr>\n    <tr>\n      <th>220799</th>\n      <td>2013-03-05</td>\n      <td>LGA</td>\n      <td>LGA</td>\n    </tr>\n  </tbody>\n</table>\n<p>220800 rows × 3 columns</p>\n</div>"
     },
     "metadata": {},
     "execution_count": 6
    }
   ],
   "source": [
    "airports = ['ORD', 'LAS', 'DEN', 'ATL', 'SFO', 'EWR', 'IAH', 'LAX', 'DFW', 'SEA', 'JFK', 'PHL', 'MIA', 'DTW', 'BOS', 'MSP', 'CLT', 'MCO', 'PHX', 'LGA']\n",
    "\n",
    "start_date = data['DateOfDeparture'].min()\n",
    "end_date = data['DateOfDeparture'].max()\n",
    "all_dates = pd.date_range(start_date, end_date)\n",
    "dates_df = pd.DataFrame(all_dates, columns=['DateOfDeparture'])\n",
    "dates_df\n",
    "\n",
    "df_airports = pd.DataFrame(airports)\n",
    "df_airports['key'] = 'xyz'\n",
    "cross_df = pd.merge(df_airports, df_airports,\n",
    "                    on='key', \n",
    "                    suffixes=('_departure', '_arrival')\n",
    "                    ).drop('key', axis=1)\n",
    "\n",
    "cross_df['key'] = 'xyz'\n",
    "dates_df['key'] = 'xyz'\n",
    "\n",
    "cross_df2 = pd.merge(dates_df, cross_df,\n",
    "                    on='key'\n",
    "                    ).drop('key', axis=1)\n",
    "cross_df2 = cross_df2.rename(columns={'0_departure' : 'Departure', '0_arrival' : 'Arrival'})\n",
    "cross_df2"
   ]
  },
  {
   "cell_type": "code",
   "execution_count": 8,
   "metadata": {},
   "outputs": [],
   "source": [
    "cities = ['Atlanta', 'Boston', 'Chicago', 'Charlotte', 'Dallas', 'Denver', 'Detroit', 'Houston', 'Las Vegas', 'Los Angeles', 'Miami', 'Minneapolis', 'Orlando', 'Philadelphia', 'Phoenix', 'San Francisco', 'New York', 'Seattle', 'Newark']\n",
    "\n",
    "cities_low = [city.lower() for city in cities]"
   ]
  },
  {
   "cell_type": "code",
   "execution_count": 9,
   "metadata": {},
   "outputs": [
    {
     "output_type": "execute_result",
     "data": {
      "text/plain": [
       "  DateOfDeparture Departure Arrival Departure City   Arrival City\n",
       "0      2011-09-01       ORD     ORD        Chicago        Chicago\n",
       "1      2011-09-01       ORD     LAS        Chicago      Las Vegas\n",
       "2      2011-09-01       ORD     DEN        Chicago         Denver\n",
       "3      2011-09-01       ORD     ATL        Chicago        Atlanta\n",
       "4      2011-09-01       ORD     SFO        Chicago  San Francisco"
      ],
      "text/html": "<div>\n<style scoped>\n    .dataframe tbody tr th:only-of-type {\n        vertical-align: middle;\n    }\n\n    .dataframe tbody tr th {\n        vertical-align: top;\n    }\n\n    .dataframe thead th {\n        text-align: right;\n    }\n</style>\n<table border=\"1\" class=\"dataframe\">\n  <thead>\n    <tr style=\"text-align: right;\">\n      <th></th>\n      <th>DateOfDeparture</th>\n      <th>Departure</th>\n      <th>Arrival</th>\n      <th>Departure City</th>\n      <th>Arrival City</th>\n    </tr>\n  </thead>\n  <tbody>\n    <tr>\n      <th>0</th>\n      <td>2011-09-01</td>\n      <td>ORD</td>\n      <td>ORD</td>\n      <td>Chicago</td>\n      <td>Chicago</td>\n    </tr>\n    <tr>\n      <th>1</th>\n      <td>2011-09-01</td>\n      <td>ORD</td>\n      <td>LAS</td>\n      <td>Chicago</td>\n      <td>Las Vegas</td>\n    </tr>\n    <tr>\n      <th>2</th>\n      <td>2011-09-01</td>\n      <td>ORD</td>\n      <td>DEN</td>\n      <td>Chicago</td>\n      <td>Denver</td>\n    </tr>\n    <tr>\n      <th>3</th>\n      <td>2011-09-01</td>\n      <td>ORD</td>\n      <td>ATL</td>\n      <td>Chicago</td>\n      <td>Atlanta</td>\n    </tr>\n    <tr>\n      <th>4</th>\n      <td>2011-09-01</td>\n      <td>ORD</td>\n      <td>SFO</td>\n      <td>Chicago</td>\n      <td>San Francisco</td>\n    </tr>\n  </tbody>\n</table>\n</div>"
     },
     "metadata": {},
     "execution_count": 9
    }
   ],
   "source": [
    "df = city_name_encoding(cross_df2)\n",
    "df.head()\n",
    "\n",
    "# df = df.drop(['log_PAX', 'std_wtd', 'WeeksToDeparture'], axis=1)"
   ]
  },
  {
   "cell_type": "code",
   "execution_count": 10,
   "metadata": {},
   "outputs": [
    {
     "output_type": "stream",
     "name": "stdout",
     "text": [
      "  DateOfDeparture Departure Arrival Departure City   Arrival City\n0      2011-09-01       ORD     ORD        Chicago        Chicago\n1      2011-09-01       ORD     LAS        Chicago      Las Vegas\n2      2011-09-01       ORD     DEN        Chicago         Denver\n3      2011-09-01       ORD     ATL        Chicago        Atlanta\n4      2011-09-01       ORD     SFO        Chicago  San Francisco\n"
     ]
    }
   ],
   "source": [
    "print(df.head())"
   ]
  },
  {
   "cell_type": "code",
   "execution_count": 11,
   "metadata": {},
   "outputs": [
    {
     "output_type": "stream",
     "name": "stdout",
     "text": [
      "Index(['DateOfDeparture', 'Departure', 'Arrival', 'WeeksToDeparture'], dtype='object')\n",
      "Index(['DateOfDeparture', 'Departure', 'Arrival', 'Departure City',\n",
      "       'Arrival City', 'avg purchase date'],\n",
      "      dtype='object')\n",
      "  DateOfDeparture Departure Arrival Departure City   Arrival City  \\\n",
      "0      2011-09-01       ORD     ORD        Chicago        Chicago   \n",
      "1      2011-09-01       ORD     LAS        Chicago      Las Vegas   \n",
      "2      2011-09-01       ORD     DEN        Chicago         Denver   \n",
      "3      2011-09-01       ORD     ATL        Chicago        Atlanta   \n",
      "4      2011-09-01       ORD     SFO        Chicago  San Francisco   \n",
      "5      2011-09-01       ORD     EWR        Chicago       New York   \n",
      "6      2011-09-01       ORD     IAH        Chicago        Houston   \n",
      "7      2011-09-01       ORD     LAX        Chicago    Los Angeles   \n",
      "8      2011-09-01       ORD     DFW        Chicago         Dallas   \n",
      "9      2011-09-01       ORD     SEA        Chicago        Seattle   \n",
      "\n",
      "  avg purchase date  \n",
      "0        2011-06-20  \n",
      "1        2011-06-15  \n",
      "2        2011-06-14  \n",
      "3        2011-06-11  \n",
      "4        2011-06-15  \n",
      "5        2011-06-15  \n",
      "6        2011-06-15  \n",
      "7        2011-06-05  \n",
      "8        2011-06-20  \n",
      "9        2011-06-08  \n"
     ]
    }
   ],
   "source": [
    "if lag==True:\n",
    "    df = purchase_date(df)\n",
    "df['year'] = df['DateOfDeparture'].dt.year\n",
    "df['month'] = df['DateOfDeparture'].dt.month\n",
    "df['week'] = df['DateOfDeparture'].dt.week\n",
    "df['day'] = df['DateOfDeparture'].dt.day"
   ]
  },
  {
   "cell_type": "code",
   "execution_count": 12,
   "metadata": {},
   "outputs": [
    {
     "output_type": "stream",
     "name": "stdout",
     "text": [
      "<class 'pandas.core.frame.DataFrame'>\nInt64Index: 220800 entries, 0 to 220799\nData columns (total 14 columns):\n #   Column             Non-Null Count   Dtype         \n---  ------             --------------   -----         \n 0   DateOfDeparture    220800 non-null  datetime64[ns]\n 1   Departure          220800 non-null  object        \n 2   Arrival            220800 non-null  object        \n 3   Departure City     220800 non-null  object        \n 4   Arrival City       220800 non-null  object        \n 5   avg purchase date  220800 non-null  object        \n 6   p_year             184560 non-null  float64       \n 7   p_month            184560 non-null  float64       \n 8   p_week             184560 non-null  float64       \n 9   p_day              184560 non-null  float64       \n 10  year               220800 non-null  int64         \n 11  month              220800 non-null  int64         \n 12  week               220800 non-null  int64         \n 13  day                220800 non-null  int64         \ndtypes: datetime64[ns](1), float64(4), int64(4), object(5)\nmemory usage: 25.3+ MB\n"
     ]
    }
   ],
   "source": [
    "df\n",
    "df.info()"
   ]
  },
  {
   "source": [
    "## Airport usual traffic"
   ],
   "cell_type": "markdown",
   "metadata": {}
  },
  {
   "cell_type": "code",
   "execution_count": 13,
   "metadata": {},
   "outputs": [
    {
     "output_type": "stream",
     "name": "stdout",
     "text": [
      "<class 'pandas.core.frame.DataFrame'>\nInt64Index: 11128 entries, 0 to 2225\nData columns (total 3 columns):\n #   Column     Non-Null Count  Dtype  \n---  ------     --------------  -----  \n 0   Departure  11128 non-null  object \n 1   Arrival    11128 non-null  object \n 2   log_PAX    11128 non-null  float64\ndtypes: float64(1), object(2)\nmemory usage: 347.8+ KB\n"
     ]
    }
   ],
   "source": [
    "col_names = ['DateOfDeparture', 'Departure', 'Arrival', 'WeeksToDeparture',\n",
    "       'log_PAX', 'std_wtd']\n",
    "\n",
    "# X1, y1 = problem.get_train_data()\n",
    "# X2, y2 = problem.get_test_data()\n",
    "\n",
    "# print(X1.shape, X2.shape)\n",
    "\n",
    "# X_concat = np.concatenate([X1, X2], axis=0)\n",
    "\n",
    "# print(X_concat[:5])\n",
    "# y_concat = np.concatenate([y1, y2], axis=0)\n",
    "\n",
    "# print(X_concat.shape)\n",
    "\n",
    "\n",
    "# X = pd.DataFrame(data=X_concat, columns= col_names)\n",
    "# X[\"Population\"] = y_concat\n",
    "\n",
    "data1 = pd.read_csv(\n",
    "    os.path.join('data', 'train.csv.bz2')\n",
    ")\n",
    "data2 = pd.read_csv(\n",
    "    os.path.join('data', 'test.csv.bz2')\n",
    ") \n",
    "data = pd.concat([data1, data2])\n",
    "\n",
    "data = data.drop(columns=[\"DateOfDeparture\", \"WeeksToDeparture\", \"std_wtd\"])\n",
    "\n",
    "data.info()"
   ]
  },
  {
   "cell_type": "code",
   "execution_count": 14,
   "metadata": {},
   "outputs": [
    {
     "output_type": "stream",
     "name": "stdout",
     "text": [
      "<class 'pandas.core.frame.DataFrame'>\nInt64Index: 220800 entries, 0 to 220799\nData columns (total 15 columns):\n #   Column                         Non-Null Count   Dtype         \n---  ------                         --------------   -----         \n 0   DateOfDeparture                220800 non-null  datetime64[ns]\n 1   Departure                      220800 non-null  object        \n 2   Arrival                        220800 non-null  object        \n 3   Departure City                 220800 non-null  object        \n 4   Arrival City                   220800 non-null  object        \n 5   avg purchase date              220800 non-null  object        \n 6   p_year                         184560 non-null  float64       \n 7   p_month                        184560 non-null  float64       \n 8   p_week                         184560 non-null  float64       \n 9   p_day                          184560 non-null  float64       \n 10  year                           220800 non-null  int64         \n 11  month                          220800 non-null  int64         \n 12  week                           220800 non-null  int64         \n 13  day                            220800 non-null  int64         \n 14  Flight baseline frequentation  220800 non-null  float64       \ndtypes: datetime64[ns](1), float64(5), int64(4), object(5)\nmemory usage: 27.0+ MB\n"
     ]
    }
   ],
   "source": [
    "data = data.groupby([\"Departure\", \"Arrival\"]).mean()\n",
    "data = data.reset_index()\n",
    "data = data.rename(columns={\"log_PAX\" : \"Flight baseline frequentation\"})\n",
    "\n",
    "data_merged = df.merge(data, how='left', on=[\"Departure\", \"Arrival\"])\n",
    "data_merged[\"Flight baseline frequentation\"] = data_merged[\"Flight baseline frequentation\"].interpolate().fillna(0)\n",
    "data_merged.info()"
   ]
  },
  {
   "source": [
    "## Weekly google trends ##"
   ],
   "cell_type": "markdown",
   "metadata": {}
  },
  {
   "cell_type": "code",
   "execution_count": 15,
   "metadata": {},
   "outputs": [],
   "source": [
    "df_weekly_google = pd.read_csv('data/weekly_google_searchs.csv')\n",
    "df_weekly_google = df_weekly_google.drop('Unnamed: 0', axis=1)"
   ]
  },
  {
   "cell_type": "code",
   "execution_count": 16,
   "metadata": {},
   "outputs": [],
   "source": [
    "df_weekly_google = df_weekly_google.replace({\"newark\":\"New York\"})\n",
    "df_weekly_google['Departure'] = df_weekly_google['Departure'].str.title()\n",
    "df_weekly_google['Arrival'] = df_weekly_google['Arrival'].str.title()\n",
    "df_weekly_google = df_weekly_google.rename(columns={\"volume\": \"weekly_volume\", \"Week\": date_key, \"Departure\": \"Departure City\",\"Arrival\": \"Arrival City\" })\n",
    "df_weekly_google.loc[:, date_key] = pd.to_datetime(df_weekly_google.loc[:, date_key])\n",
    "df_weekly_google['week'] = df_weekly_google[date_key].dt.week\n",
    "df_weekly_google['year'] = df_weekly_google[date_key].dt.year\n",
    "df_weekly_google = df_weekly_google.drop(date_key, axis=1)"
   ]
  },
  {
   "cell_type": "code",
   "execution_count": 17,
   "metadata": {},
   "outputs": [
    {
     "output_type": "execute_result",
     "data": {
      "text/plain": [
       "      Departure City   Arrival City  weekly_volume  week  year\n",
       "0            Atlanta        Atlanta             40    53  2010\n",
       "1            Atlanta         Boston              0    53  2010\n",
       "2            Atlanta        Chicago              0    53  2010\n",
       "3            Atlanta      Charlotte             32    53  2010\n",
       "4            Atlanta         Dallas              0    53  2010\n",
       "...              ...            ...            ...   ...   ...\n",
       "74361       New York        Phoenix             13    49  2013\n",
       "74362       New York  San Francisco             13    49  2013\n",
       "74363       New York       New York             39    49  2013\n",
       "74364       New York        Seattle             13    49  2013\n",
       "74365       New York       New York             60    49  2013\n",
       "\n",
       "[74366 rows x 5 columns]"
      ],
      "text/html": "<div>\n<style scoped>\n    .dataframe tbody tr th:only-of-type {\n        vertical-align: middle;\n    }\n\n    .dataframe tbody tr th {\n        vertical-align: top;\n    }\n\n    .dataframe thead th {\n        text-align: right;\n    }\n</style>\n<table border=\"1\" class=\"dataframe\">\n  <thead>\n    <tr style=\"text-align: right;\">\n      <th></th>\n      <th>Departure City</th>\n      <th>Arrival City</th>\n      <th>weekly_volume</th>\n      <th>week</th>\n      <th>year</th>\n    </tr>\n  </thead>\n  <tbody>\n    <tr>\n      <th>0</th>\n      <td>Atlanta</td>\n      <td>Atlanta</td>\n      <td>40</td>\n      <td>53</td>\n      <td>2010</td>\n    </tr>\n    <tr>\n      <th>1</th>\n      <td>Atlanta</td>\n      <td>Boston</td>\n      <td>0</td>\n      <td>53</td>\n      <td>2010</td>\n    </tr>\n    <tr>\n      <th>2</th>\n      <td>Atlanta</td>\n      <td>Chicago</td>\n      <td>0</td>\n      <td>53</td>\n      <td>2010</td>\n    </tr>\n    <tr>\n      <th>3</th>\n      <td>Atlanta</td>\n      <td>Charlotte</td>\n      <td>32</td>\n      <td>53</td>\n      <td>2010</td>\n    </tr>\n    <tr>\n      <th>4</th>\n      <td>Atlanta</td>\n      <td>Dallas</td>\n      <td>0</td>\n      <td>53</td>\n      <td>2010</td>\n    </tr>\n    <tr>\n      <th>...</th>\n      <td>...</td>\n      <td>...</td>\n      <td>...</td>\n      <td>...</td>\n      <td>...</td>\n    </tr>\n    <tr>\n      <th>74361</th>\n      <td>New York</td>\n      <td>Phoenix</td>\n      <td>13</td>\n      <td>49</td>\n      <td>2013</td>\n    </tr>\n    <tr>\n      <th>74362</th>\n      <td>New York</td>\n      <td>San Francisco</td>\n      <td>13</td>\n      <td>49</td>\n      <td>2013</td>\n    </tr>\n    <tr>\n      <th>74363</th>\n      <td>New York</td>\n      <td>New York</td>\n      <td>39</td>\n      <td>49</td>\n      <td>2013</td>\n    </tr>\n    <tr>\n      <th>74364</th>\n      <td>New York</td>\n      <td>Seattle</td>\n      <td>13</td>\n      <td>49</td>\n      <td>2013</td>\n    </tr>\n    <tr>\n      <th>74365</th>\n      <td>New York</td>\n      <td>New York</td>\n      <td>60</td>\n      <td>49</td>\n      <td>2013</td>\n    </tr>\n  </tbody>\n</table>\n<p>74366 rows × 5 columns</p>\n</div>"
     },
     "metadata": {},
     "execution_count": 17
    }
   ],
   "source": [
    "df_weekly_google"
   ]
  },
  {
   "cell_type": "code",
   "execution_count": 18,
   "metadata": {},
   "outputs": [],
   "source": [
    "data_merged = data_merged.merge(df_weekly_google, how='left', on=['year', 'week', 'Departure City', 'Arrival City'])\n",
    "#data_merged = data_merged.drop(['week', 'year', 'Departure City', 'Arrival City'], axis=1)"
   ]
  },
  {
   "cell_type": "code",
   "execution_count": 19,
   "metadata": {},
   "outputs": [
    {
     "output_type": "execute_result",
     "data": {
      "text/plain": [
       "       DateOfDeparture Departure Arrival Departure City   Arrival City  \\\n",
       "0           2011-09-01       ORD     ORD        Chicago        Chicago   \n",
       "1           2011-09-01       ORD     LAS        Chicago      Las Vegas   \n",
       "2           2011-09-01       ORD     DEN        Chicago         Denver   \n",
       "3           2011-09-01       ORD     ATL        Chicago        Atlanta   \n",
       "4           2011-09-01       ORD     SFO        Chicago  San Francisco   \n",
       "...                ...       ...     ...            ...            ...   \n",
       "296235      2013-03-05       LGA     PHX       New York        Phoenix   \n",
       "296236      2013-03-05       LGA     LGA       New York       New York   \n",
       "296237      2013-03-05       LGA     LGA       New York       New York   \n",
       "296238      2013-03-05       LGA     LGA       New York       New York   \n",
       "296239      2013-03-05       LGA     LGA       New York       New York   \n",
       "\n",
       "          avg purchase date  p_year  p_month  p_week  p_day  year  month  \\\n",
       "0       2011-09-01 00:00:00  2011.0      6.0    25.0   20.0  2011      9   \n",
       "1       2011-09-01 00:00:00  2011.0      6.0    24.0   15.0  2011      9   \n",
       "2       2011-09-01 00:00:00  2011.0      6.0    24.0   14.0  2011      9   \n",
       "3       2011-09-01 00:00:00  2011.0      6.0    23.0   11.0  2011      9   \n",
       "4       2011-09-01 00:00:00  2011.0      6.0    24.0   15.0  2011      9   \n",
       "...                     ...     ...      ...     ...    ...   ...    ...   \n",
       "296235  2013-03-05 00:00:00  2013.0      1.0     4.0   23.0  2013      3   \n",
       "296236  2013-03-05 00:00:00  2013.0      1.0     3.0   19.0  2013      3   \n",
       "296237  2013-03-05 00:00:00  2013.0      1.0     3.0   19.0  2013      3   \n",
       "296238  2013-03-05 00:00:00  2013.0      1.0     3.0   19.0  2013      3   \n",
       "296239  2013-03-05 00:00:00  2013.0      1.0     3.0   19.0  2013      3   \n",
       "\n",
       "        week  day  Flight baseline frequentation  weekly_volume  \n",
       "0         35    1                       0.000000             49  \n",
       "1         35    1                      10.618682              0  \n",
       "2         35    1                      10.787387             19  \n",
       "3         35    1                      11.230863             20  \n",
       "4         35    1                      11.706465             28  \n",
       "...      ...  ...                            ...            ...  \n",
       "296235    10    5                      10.739281             13  \n",
       "296236    10    5                      10.739281             67  \n",
       "296237    10    5                      10.739281              0  \n",
       "296238    10    5                      10.739281             27  \n",
       "296239    10    5                      10.739281             86  \n",
       "\n",
       "[296240 rows x 16 columns]"
      ],
      "text/html": "<div>\n<style scoped>\n    .dataframe tbody tr th:only-of-type {\n        vertical-align: middle;\n    }\n\n    .dataframe tbody tr th {\n        vertical-align: top;\n    }\n\n    .dataframe thead th {\n        text-align: right;\n    }\n</style>\n<table border=\"1\" class=\"dataframe\">\n  <thead>\n    <tr style=\"text-align: right;\">\n      <th></th>\n      <th>DateOfDeparture</th>\n      <th>Departure</th>\n      <th>Arrival</th>\n      <th>Departure City</th>\n      <th>Arrival City</th>\n      <th>avg purchase date</th>\n      <th>p_year</th>\n      <th>p_month</th>\n      <th>p_week</th>\n      <th>p_day</th>\n      <th>year</th>\n      <th>month</th>\n      <th>week</th>\n      <th>day</th>\n      <th>Flight baseline frequentation</th>\n      <th>weekly_volume</th>\n    </tr>\n  </thead>\n  <tbody>\n    <tr>\n      <th>0</th>\n      <td>2011-09-01</td>\n      <td>ORD</td>\n      <td>ORD</td>\n      <td>Chicago</td>\n      <td>Chicago</td>\n      <td>2011-09-01 00:00:00</td>\n      <td>2011.0</td>\n      <td>6.0</td>\n      <td>25.0</td>\n      <td>20.0</td>\n      <td>2011</td>\n      <td>9</td>\n      <td>35</td>\n      <td>1</td>\n      <td>0.000000</td>\n      <td>49</td>\n    </tr>\n    <tr>\n      <th>1</th>\n      <td>2011-09-01</td>\n      <td>ORD</td>\n      <td>LAS</td>\n      <td>Chicago</td>\n      <td>Las Vegas</td>\n      <td>2011-09-01 00:00:00</td>\n      <td>2011.0</td>\n      <td>6.0</td>\n      <td>24.0</td>\n      <td>15.0</td>\n      <td>2011</td>\n      <td>9</td>\n      <td>35</td>\n      <td>1</td>\n      <td>10.618682</td>\n      <td>0</td>\n    </tr>\n    <tr>\n      <th>2</th>\n      <td>2011-09-01</td>\n      <td>ORD</td>\n      <td>DEN</td>\n      <td>Chicago</td>\n      <td>Denver</td>\n      <td>2011-09-01 00:00:00</td>\n      <td>2011.0</td>\n      <td>6.0</td>\n      <td>24.0</td>\n      <td>14.0</td>\n      <td>2011</td>\n      <td>9</td>\n      <td>35</td>\n      <td>1</td>\n      <td>10.787387</td>\n      <td>19</td>\n    </tr>\n    <tr>\n      <th>3</th>\n      <td>2011-09-01</td>\n      <td>ORD</td>\n      <td>ATL</td>\n      <td>Chicago</td>\n      <td>Atlanta</td>\n      <td>2011-09-01 00:00:00</td>\n      <td>2011.0</td>\n      <td>6.0</td>\n      <td>23.0</td>\n      <td>11.0</td>\n      <td>2011</td>\n      <td>9</td>\n      <td>35</td>\n      <td>1</td>\n      <td>11.230863</td>\n      <td>20</td>\n    </tr>\n    <tr>\n      <th>4</th>\n      <td>2011-09-01</td>\n      <td>ORD</td>\n      <td>SFO</td>\n      <td>Chicago</td>\n      <td>San Francisco</td>\n      <td>2011-09-01 00:00:00</td>\n      <td>2011.0</td>\n      <td>6.0</td>\n      <td>24.0</td>\n      <td>15.0</td>\n      <td>2011</td>\n      <td>9</td>\n      <td>35</td>\n      <td>1</td>\n      <td>11.706465</td>\n      <td>28</td>\n    </tr>\n    <tr>\n      <th>...</th>\n      <td>...</td>\n      <td>...</td>\n      <td>...</td>\n      <td>...</td>\n      <td>...</td>\n      <td>...</td>\n      <td>...</td>\n      <td>...</td>\n      <td>...</td>\n      <td>...</td>\n      <td>...</td>\n      <td>...</td>\n      <td>...</td>\n      <td>...</td>\n      <td>...</td>\n      <td>...</td>\n    </tr>\n    <tr>\n      <th>296235</th>\n      <td>2013-03-05</td>\n      <td>LGA</td>\n      <td>PHX</td>\n      <td>New York</td>\n      <td>Phoenix</td>\n      <td>2013-03-05 00:00:00</td>\n      <td>2013.0</td>\n      <td>1.0</td>\n      <td>4.0</td>\n      <td>23.0</td>\n      <td>2013</td>\n      <td>3</td>\n      <td>10</td>\n      <td>5</td>\n      <td>10.739281</td>\n      <td>13</td>\n    </tr>\n    <tr>\n      <th>296236</th>\n      <td>2013-03-05</td>\n      <td>LGA</td>\n      <td>LGA</td>\n      <td>New York</td>\n      <td>New York</td>\n      <td>2013-03-05 00:00:00</td>\n      <td>2013.0</td>\n      <td>1.0</td>\n      <td>3.0</td>\n      <td>19.0</td>\n      <td>2013</td>\n      <td>3</td>\n      <td>10</td>\n      <td>5</td>\n      <td>10.739281</td>\n      <td>67</td>\n    </tr>\n    <tr>\n      <th>296237</th>\n      <td>2013-03-05</td>\n      <td>LGA</td>\n      <td>LGA</td>\n      <td>New York</td>\n      <td>New York</td>\n      <td>2013-03-05 00:00:00</td>\n      <td>2013.0</td>\n      <td>1.0</td>\n      <td>3.0</td>\n      <td>19.0</td>\n      <td>2013</td>\n      <td>3</td>\n      <td>10</td>\n      <td>5</td>\n      <td>10.739281</td>\n      <td>0</td>\n    </tr>\n    <tr>\n      <th>296238</th>\n      <td>2013-03-05</td>\n      <td>LGA</td>\n      <td>LGA</td>\n      <td>New York</td>\n      <td>New York</td>\n      <td>2013-03-05 00:00:00</td>\n      <td>2013.0</td>\n      <td>1.0</td>\n      <td>3.0</td>\n      <td>19.0</td>\n      <td>2013</td>\n      <td>3</td>\n      <td>10</td>\n      <td>5</td>\n      <td>10.739281</td>\n      <td>27</td>\n    </tr>\n    <tr>\n      <th>296239</th>\n      <td>2013-03-05</td>\n      <td>LGA</td>\n      <td>LGA</td>\n      <td>New York</td>\n      <td>New York</td>\n      <td>2013-03-05 00:00:00</td>\n      <td>2013.0</td>\n      <td>1.0</td>\n      <td>3.0</td>\n      <td>19.0</td>\n      <td>2013</td>\n      <td>3</td>\n      <td>10</td>\n      <td>5</td>\n      <td>10.739281</td>\n      <td>86</td>\n    </tr>\n  </tbody>\n</table>\n<p>296240 rows × 16 columns</p>\n</div>"
     },
     "metadata": {},
     "execution_count": 19
    }
   ],
   "source": [
    "data_merged"
   ]
  },
  {
   "cell_type": "code",
   "execution_count": 20,
   "metadata": {},
   "outputs": [],
   "source": [
    "data_merged = data_merged.groupby(['DateOfDeparture', 'Departure', 'Arrival', 'Departure City', 'Arrival City']).mean()\n",
    "data_merged = data_merged.reset_index()"
   ]
  },
  {
   "cell_type": "code",
   "execution_count": 21,
   "metadata": {},
   "outputs": [
    {
     "output_type": "execute_result",
     "data": {
      "text/plain": [
       "       DateOfDeparture Departure Arrival Departure City   Arrival City  \\\n",
       "0           2011-09-01       ATL     ATL        Atlanta        Atlanta   \n",
       "1           2011-09-01       ATL     BOS        Atlanta         Boston   \n",
       "2           2011-09-01       ATL     CLT        Atlanta      Charlotte   \n",
       "3           2011-09-01       ATL     DEN        Atlanta         Denver   \n",
       "4           2011-09-01       ATL     DFW        Atlanta         Dallas   \n",
       "...                ...       ...     ...            ...            ...   \n",
       "220795      2013-03-05       SFO     ORD  San Francisco        Chicago   \n",
       "220796      2013-03-05       SFO     PHL  San Francisco   Philadelphia   \n",
       "220797      2013-03-05       SFO     PHX  San Francisco        Phoenix   \n",
       "220798      2013-03-05       SFO     SEA  San Francisco        Seattle   \n",
       "220799      2013-03-05       SFO     SFO  San Francisco  San Francisco   \n",
       "\n",
       "        p_year  p_month  p_week  p_day    year  month  week  day  \\\n",
       "0       2011.0      6.0    23.0   11.0  2011.0    9.0  35.0  1.0   \n",
       "1       2011.0      6.0    25.0   24.0  2011.0    9.0  35.0  1.0   \n",
       "2          NaN      NaN     NaN    NaN  2011.0    9.0  35.0  1.0   \n",
       "3       2011.0      6.0    24.0   14.0  2011.0    9.0  35.0  1.0   \n",
       "4       2011.0      6.0    25.0   20.0  2011.0    9.0  35.0  1.0   \n",
       "...        ...      ...     ...    ...     ...    ...   ...  ...   \n",
       "220795  2013.0      2.0     5.0    1.0  2013.0    3.0  10.0  5.0   \n",
       "220796  2013.0      1.0     2.0    8.0  2013.0    3.0  10.0  5.0   \n",
       "220797  2012.0     12.0    50.0   10.0  2013.0    3.0  10.0  5.0   \n",
       "220798  2012.0     12.0    50.0   10.0  2013.0    3.0  10.0  5.0   \n",
       "220799  2013.0      1.0     2.0   12.0  2013.0    3.0  10.0  5.0   \n",
       "\n",
       "        Flight baseline frequentation  weekly_volume  \n",
       "0                           10.448246           33.0  \n",
       "1                           10.842253            0.0  \n",
       "2                           10.465763           19.0  \n",
       "3                           10.402453           19.0  \n",
       "4                           11.648248           28.0  \n",
       "...                               ...            ...  \n",
       "220795                      11.733258           23.0  \n",
       "220796                      11.905572           27.0  \n",
       "220797                      11.158633           14.0  \n",
       "220798                      11.243991           13.0  \n",
       "220799                      10.578608           67.0  \n",
       "\n",
       "[220800 rows x 15 columns]"
      ],
      "text/html": "<div>\n<style scoped>\n    .dataframe tbody tr th:only-of-type {\n        vertical-align: middle;\n    }\n\n    .dataframe tbody tr th {\n        vertical-align: top;\n    }\n\n    .dataframe thead th {\n        text-align: right;\n    }\n</style>\n<table border=\"1\" class=\"dataframe\">\n  <thead>\n    <tr style=\"text-align: right;\">\n      <th></th>\n      <th>DateOfDeparture</th>\n      <th>Departure</th>\n      <th>Arrival</th>\n      <th>Departure City</th>\n      <th>Arrival City</th>\n      <th>p_year</th>\n      <th>p_month</th>\n      <th>p_week</th>\n      <th>p_day</th>\n      <th>year</th>\n      <th>month</th>\n      <th>week</th>\n      <th>day</th>\n      <th>Flight baseline frequentation</th>\n      <th>weekly_volume</th>\n    </tr>\n  </thead>\n  <tbody>\n    <tr>\n      <th>0</th>\n      <td>2011-09-01</td>\n      <td>ATL</td>\n      <td>ATL</td>\n      <td>Atlanta</td>\n      <td>Atlanta</td>\n      <td>2011.0</td>\n      <td>6.0</td>\n      <td>23.0</td>\n      <td>11.0</td>\n      <td>2011.0</td>\n      <td>9.0</td>\n      <td>35.0</td>\n      <td>1.0</td>\n      <td>10.448246</td>\n      <td>33.0</td>\n    </tr>\n    <tr>\n      <th>1</th>\n      <td>2011-09-01</td>\n      <td>ATL</td>\n      <td>BOS</td>\n      <td>Atlanta</td>\n      <td>Boston</td>\n      <td>2011.0</td>\n      <td>6.0</td>\n      <td>25.0</td>\n      <td>24.0</td>\n      <td>2011.0</td>\n      <td>9.0</td>\n      <td>35.0</td>\n      <td>1.0</td>\n      <td>10.842253</td>\n      <td>0.0</td>\n    </tr>\n    <tr>\n      <th>2</th>\n      <td>2011-09-01</td>\n      <td>ATL</td>\n      <td>CLT</td>\n      <td>Atlanta</td>\n      <td>Charlotte</td>\n      <td>NaN</td>\n      <td>NaN</td>\n      <td>NaN</td>\n      <td>NaN</td>\n      <td>2011.0</td>\n      <td>9.0</td>\n      <td>35.0</td>\n      <td>1.0</td>\n      <td>10.465763</td>\n      <td>19.0</td>\n    </tr>\n    <tr>\n      <th>3</th>\n      <td>2011-09-01</td>\n      <td>ATL</td>\n      <td>DEN</td>\n      <td>Atlanta</td>\n      <td>Denver</td>\n      <td>2011.0</td>\n      <td>6.0</td>\n      <td>24.0</td>\n      <td>14.0</td>\n      <td>2011.0</td>\n      <td>9.0</td>\n      <td>35.0</td>\n      <td>1.0</td>\n      <td>10.402453</td>\n      <td>19.0</td>\n    </tr>\n    <tr>\n      <th>4</th>\n      <td>2011-09-01</td>\n      <td>ATL</td>\n      <td>DFW</td>\n      <td>Atlanta</td>\n      <td>Dallas</td>\n      <td>2011.0</td>\n      <td>6.0</td>\n      <td>25.0</td>\n      <td>20.0</td>\n      <td>2011.0</td>\n      <td>9.0</td>\n      <td>35.0</td>\n      <td>1.0</td>\n      <td>11.648248</td>\n      <td>28.0</td>\n    </tr>\n    <tr>\n      <th>...</th>\n      <td>...</td>\n      <td>...</td>\n      <td>...</td>\n      <td>...</td>\n      <td>...</td>\n      <td>...</td>\n      <td>...</td>\n      <td>...</td>\n      <td>...</td>\n      <td>...</td>\n      <td>...</td>\n      <td>...</td>\n      <td>...</td>\n      <td>...</td>\n      <td>...</td>\n    </tr>\n    <tr>\n      <th>220795</th>\n      <td>2013-03-05</td>\n      <td>SFO</td>\n      <td>ORD</td>\n      <td>San Francisco</td>\n      <td>Chicago</td>\n      <td>2013.0</td>\n      <td>2.0</td>\n      <td>5.0</td>\n      <td>1.0</td>\n      <td>2013.0</td>\n      <td>3.0</td>\n      <td>10.0</td>\n      <td>5.0</td>\n      <td>11.733258</td>\n      <td>23.0</td>\n    </tr>\n    <tr>\n      <th>220796</th>\n      <td>2013-03-05</td>\n      <td>SFO</td>\n      <td>PHL</td>\n      <td>San Francisco</td>\n      <td>Philadelphia</td>\n      <td>2013.0</td>\n      <td>1.0</td>\n      <td>2.0</td>\n      <td>8.0</td>\n      <td>2013.0</td>\n      <td>3.0</td>\n      <td>10.0</td>\n      <td>5.0</td>\n      <td>11.905572</td>\n      <td>27.0</td>\n    </tr>\n    <tr>\n      <th>220797</th>\n      <td>2013-03-05</td>\n      <td>SFO</td>\n      <td>PHX</td>\n      <td>San Francisco</td>\n      <td>Phoenix</td>\n      <td>2012.0</td>\n      <td>12.0</td>\n      <td>50.0</td>\n      <td>10.0</td>\n      <td>2013.0</td>\n      <td>3.0</td>\n      <td>10.0</td>\n      <td>5.0</td>\n      <td>11.158633</td>\n      <td>14.0</td>\n    </tr>\n    <tr>\n      <th>220798</th>\n      <td>2013-03-05</td>\n      <td>SFO</td>\n      <td>SEA</td>\n      <td>San Francisco</td>\n      <td>Seattle</td>\n      <td>2012.0</td>\n      <td>12.0</td>\n      <td>50.0</td>\n      <td>10.0</td>\n      <td>2013.0</td>\n      <td>3.0</td>\n      <td>10.0</td>\n      <td>5.0</td>\n      <td>11.243991</td>\n      <td>13.0</td>\n    </tr>\n    <tr>\n      <th>220799</th>\n      <td>2013-03-05</td>\n      <td>SFO</td>\n      <td>SFO</td>\n      <td>San Francisco</td>\n      <td>San Francisco</td>\n      <td>2013.0</td>\n      <td>1.0</td>\n      <td>2.0</td>\n      <td>12.0</td>\n      <td>2013.0</td>\n      <td>3.0</td>\n      <td>10.0</td>\n      <td>5.0</td>\n      <td>10.578608</td>\n      <td>67.0</td>\n    </tr>\n  </tbody>\n</table>\n<p>220800 rows × 15 columns</p>\n</div>"
     },
     "metadata": {},
     "execution_count": 21
    }
   ],
   "source": [
    "data_merged"
   ]
  },
  {
   "source": [
    "## Holidays"
   ],
   "cell_type": "markdown",
   "metadata": {}
  },
  {
   "cell_type": "code",
   "execution_count": 22,
   "metadata": {},
   "outputs": [
    {
     "output_type": "execute_result",
     "data": {
      "text/plain": [
       "     Unnamed: 0        Date                              Holiday\n",
       "0             0  2010-12-31                       New Year's Day\n",
       "1             1  2011-01-17  Birthday of Martin Luther King, Jr.\n",
       "2             2  2011-02-21                Washington's Birthday\n",
       "3             3  2011-05-30                         Memorial Day\n",
       "4             4  2011-07-04                     Independence Day\n",
       "..          ...         ...                                  ...\n",
       "480         480  1966-09-05                            Labor Day\n",
       "481         481  1966-10-12                         Columbus Day\n",
       "482         482  1966-11-11                         Veterans Day\n",
       "483         483  1966-11-24                     Thanksgiving Day\n",
       "484         484  1966-12-25                        Christmas Day\n",
       "\n",
       "[485 rows x 3 columns]"
      ],
      "text/html": "<div>\n<style scoped>\n    .dataframe tbody tr th:only-of-type {\n        vertical-align: middle;\n    }\n\n    .dataframe tbody tr th {\n        vertical-align: top;\n    }\n\n    .dataframe thead th {\n        text-align: right;\n    }\n</style>\n<table border=\"1\" class=\"dataframe\">\n  <thead>\n    <tr style=\"text-align: right;\">\n      <th></th>\n      <th>Unnamed: 0</th>\n      <th>Date</th>\n      <th>Holiday</th>\n    </tr>\n  </thead>\n  <tbody>\n    <tr>\n      <th>0</th>\n      <td>0</td>\n      <td>2010-12-31</td>\n      <td>New Year's Day</td>\n    </tr>\n    <tr>\n      <th>1</th>\n      <td>1</td>\n      <td>2011-01-17</td>\n      <td>Birthday of Martin Luther King, Jr.</td>\n    </tr>\n    <tr>\n      <th>2</th>\n      <td>2</td>\n      <td>2011-02-21</td>\n      <td>Washington's Birthday</td>\n    </tr>\n    <tr>\n      <th>3</th>\n      <td>3</td>\n      <td>2011-05-30</td>\n      <td>Memorial Day</td>\n    </tr>\n    <tr>\n      <th>4</th>\n      <td>4</td>\n      <td>2011-07-04</td>\n      <td>Independence Day</td>\n    </tr>\n    <tr>\n      <th>...</th>\n      <td>...</td>\n      <td>...</td>\n      <td>...</td>\n    </tr>\n    <tr>\n      <th>480</th>\n      <td>480</td>\n      <td>1966-09-05</td>\n      <td>Labor Day</td>\n    </tr>\n    <tr>\n      <th>481</th>\n      <td>481</td>\n      <td>1966-10-12</td>\n      <td>Columbus Day</td>\n    </tr>\n    <tr>\n      <th>482</th>\n      <td>482</td>\n      <td>1966-11-11</td>\n      <td>Veterans Day</td>\n    </tr>\n    <tr>\n      <th>483</th>\n      <td>483</td>\n      <td>1966-11-24</td>\n      <td>Thanksgiving Day</td>\n    </tr>\n    <tr>\n      <th>484</th>\n      <td>484</td>\n      <td>1966-12-25</td>\n      <td>Christmas Day</td>\n    </tr>\n  </tbody>\n</table>\n<p>485 rows × 3 columns</p>\n</div>"
     },
     "metadata": {},
     "execution_count": 22
    }
   ],
   "source": [
    "df_holidays = pd.read_csv('data/usholidays.csv')\n",
    "df_holidays"
   ]
  },
  {
   "cell_type": "code",
   "execution_count": 23,
   "metadata": {},
   "outputs": [],
   "source": [
    "df_holidays = df_holidays.drop('Unnamed: 0', axis=1)\n",
    "df_holidays.loc[:, 'Date'] = pd.to_datetime(df_holidays.loc[:, 'Date'])\n",
    "df_holidays['year'] = df_holidays['Date'].dt.year\n",
    "df_holidays['week'] = df_holidays['Date'].dt.week\n",
    "df_holidays['day'] = df_holidays['Date'].dt.day\n",
    "df_holidays['Holiday'] = [1 for elem in range(len(df_holidays['Holiday']))]\n",
    "df_holidays = df_holidays.drop('Date', axis=1)"
   ]
  },
  {
   "cell_type": "code",
   "execution_count": 24,
   "metadata": {},
   "outputs": [
    {
     "output_type": "execute_result",
     "data": {
      "text/plain": [
       "     Holiday  year  week  day\n",
       "0          1  2010    52   31\n",
       "1          1  2011     3   17\n",
       "2          1  2011     8   21\n",
       "3          1  2011    22   30\n",
       "4          1  2011    27    4\n",
       "..       ...   ...   ...  ...\n",
       "480        1  1966    36    5\n",
       "481        1  1966    41   12\n",
       "482        1  1966    45   11\n",
       "483        1  1966    47   24\n",
       "484        1  1966    51   25\n",
       "\n",
       "[485 rows x 4 columns]"
      ],
      "text/html": "<div>\n<style scoped>\n    .dataframe tbody tr th:only-of-type {\n        vertical-align: middle;\n    }\n\n    .dataframe tbody tr th {\n        vertical-align: top;\n    }\n\n    .dataframe thead th {\n        text-align: right;\n    }\n</style>\n<table border=\"1\" class=\"dataframe\">\n  <thead>\n    <tr style=\"text-align: right;\">\n      <th></th>\n      <th>Holiday</th>\n      <th>year</th>\n      <th>week</th>\n      <th>day</th>\n    </tr>\n  </thead>\n  <tbody>\n    <tr>\n      <th>0</th>\n      <td>1</td>\n      <td>2010</td>\n      <td>52</td>\n      <td>31</td>\n    </tr>\n    <tr>\n      <th>1</th>\n      <td>1</td>\n      <td>2011</td>\n      <td>3</td>\n      <td>17</td>\n    </tr>\n    <tr>\n      <th>2</th>\n      <td>1</td>\n      <td>2011</td>\n      <td>8</td>\n      <td>21</td>\n    </tr>\n    <tr>\n      <th>3</th>\n      <td>1</td>\n      <td>2011</td>\n      <td>22</td>\n      <td>30</td>\n    </tr>\n    <tr>\n      <th>4</th>\n      <td>1</td>\n      <td>2011</td>\n      <td>27</td>\n      <td>4</td>\n    </tr>\n    <tr>\n      <th>...</th>\n      <td>...</td>\n      <td>...</td>\n      <td>...</td>\n      <td>...</td>\n    </tr>\n    <tr>\n      <th>480</th>\n      <td>1</td>\n      <td>1966</td>\n      <td>36</td>\n      <td>5</td>\n    </tr>\n    <tr>\n      <th>481</th>\n      <td>1</td>\n      <td>1966</td>\n      <td>41</td>\n      <td>12</td>\n    </tr>\n    <tr>\n      <th>482</th>\n      <td>1</td>\n      <td>1966</td>\n      <td>45</td>\n      <td>11</td>\n    </tr>\n    <tr>\n      <th>483</th>\n      <td>1</td>\n      <td>1966</td>\n      <td>47</td>\n      <td>24</td>\n    </tr>\n    <tr>\n      <th>484</th>\n      <td>1</td>\n      <td>1966</td>\n      <td>51</td>\n      <td>25</td>\n    </tr>\n  </tbody>\n</table>\n<p>485 rows × 4 columns</p>\n</div>"
     },
     "metadata": {},
     "execution_count": 24
    }
   ],
   "source": [
    "df_holidays"
   ]
  },
  {
   "cell_type": "code",
   "execution_count": 25,
   "metadata": {},
   "outputs": [],
   "source": [
    "data_merged2 = data_merged.merge(df_holidays, how='left', on=['year', 'week', 'day'])\n",
    "data_merged2 = data_merged2.fillna(0)"
   ]
  },
  {
   "cell_type": "code",
   "execution_count": 26,
   "metadata": {},
   "outputs": [
    {
     "output_type": "execute_result",
     "data": {
      "text/plain": [
       "       DateOfDeparture Departure Arrival Departure City   Arrival City  \\\n",
       "0           2011-09-01       ATL     ATL        Atlanta        Atlanta   \n",
       "1           2011-09-01       ATL     BOS        Atlanta         Boston   \n",
       "2           2011-09-01       ATL     CLT        Atlanta      Charlotte   \n",
       "3           2011-09-01       ATL     DEN        Atlanta         Denver   \n",
       "4           2011-09-01       ATL     DFW        Atlanta         Dallas   \n",
       "...                ...       ...     ...            ...            ...   \n",
       "220795      2013-03-05       SFO     ORD  San Francisco        Chicago   \n",
       "220796      2013-03-05       SFO     PHL  San Francisco   Philadelphia   \n",
       "220797      2013-03-05       SFO     PHX  San Francisco        Phoenix   \n",
       "220798      2013-03-05       SFO     SEA  San Francisco        Seattle   \n",
       "220799      2013-03-05       SFO     SFO  San Francisco  San Francisco   \n",
       "\n",
       "        p_year  p_month  p_week  p_day    year  month  week  day  \\\n",
       "0       2011.0      6.0    23.0   11.0  2011.0    9.0  35.0  1.0   \n",
       "1       2011.0      6.0    25.0   24.0  2011.0    9.0  35.0  1.0   \n",
       "2          0.0      0.0     0.0    0.0  2011.0    9.0  35.0  1.0   \n",
       "3       2011.0      6.0    24.0   14.0  2011.0    9.0  35.0  1.0   \n",
       "4       2011.0      6.0    25.0   20.0  2011.0    9.0  35.0  1.0   \n",
       "...        ...      ...     ...    ...     ...    ...   ...  ...   \n",
       "220795  2013.0      2.0     5.0    1.0  2013.0    3.0  10.0  5.0   \n",
       "220796  2013.0      1.0     2.0    8.0  2013.0    3.0  10.0  5.0   \n",
       "220797  2012.0     12.0    50.0   10.0  2013.0    3.0  10.0  5.0   \n",
       "220798  2012.0     12.0    50.0   10.0  2013.0    3.0  10.0  5.0   \n",
       "220799  2013.0      1.0     2.0   12.0  2013.0    3.0  10.0  5.0   \n",
       "\n",
       "        Flight baseline frequentation  weekly_volume  Holiday  \n",
       "0                           10.448246           33.0      0.0  \n",
       "1                           10.842253            0.0      0.0  \n",
       "2                           10.465763           19.0      0.0  \n",
       "3                           10.402453           19.0      0.0  \n",
       "4                           11.648248           28.0      0.0  \n",
       "...                               ...            ...      ...  \n",
       "220795                      11.733258           23.0      0.0  \n",
       "220796                      11.905572           27.0      0.0  \n",
       "220797                      11.158633           14.0      0.0  \n",
       "220798                      11.243991           13.0      0.0  \n",
       "220799                      10.578608           67.0      0.0  \n",
       "\n",
       "[220800 rows x 16 columns]"
      ],
      "text/html": "<div>\n<style scoped>\n    .dataframe tbody tr th:only-of-type {\n        vertical-align: middle;\n    }\n\n    .dataframe tbody tr th {\n        vertical-align: top;\n    }\n\n    .dataframe thead th {\n        text-align: right;\n    }\n</style>\n<table border=\"1\" class=\"dataframe\">\n  <thead>\n    <tr style=\"text-align: right;\">\n      <th></th>\n      <th>DateOfDeparture</th>\n      <th>Departure</th>\n      <th>Arrival</th>\n      <th>Departure City</th>\n      <th>Arrival City</th>\n      <th>p_year</th>\n      <th>p_month</th>\n      <th>p_week</th>\n      <th>p_day</th>\n      <th>year</th>\n      <th>month</th>\n      <th>week</th>\n      <th>day</th>\n      <th>Flight baseline frequentation</th>\n      <th>weekly_volume</th>\n      <th>Holiday</th>\n    </tr>\n  </thead>\n  <tbody>\n    <tr>\n      <th>0</th>\n      <td>2011-09-01</td>\n      <td>ATL</td>\n      <td>ATL</td>\n      <td>Atlanta</td>\n      <td>Atlanta</td>\n      <td>2011.0</td>\n      <td>6.0</td>\n      <td>23.0</td>\n      <td>11.0</td>\n      <td>2011.0</td>\n      <td>9.0</td>\n      <td>35.0</td>\n      <td>1.0</td>\n      <td>10.448246</td>\n      <td>33.0</td>\n      <td>0.0</td>\n    </tr>\n    <tr>\n      <th>1</th>\n      <td>2011-09-01</td>\n      <td>ATL</td>\n      <td>BOS</td>\n      <td>Atlanta</td>\n      <td>Boston</td>\n      <td>2011.0</td>\n      <td>6.0</td>\n      <td>25.0</td>\n      <td>24.0</td>\n      <td>2011.0</td>\n      <td>9.0</td>\n      <td>35.0</td>\n      <td>1.0</td>\n      <td>10.842253</td>\n      <td>0.0</td>\n      <td>0.0</td>\n    </tr>\n    <tr>\n      <th>2</th>\n      <td>2011-09-01</td>\n      <td>ATL</td>\n      <td>CLT</td>\n      <td>Atlanta</td>\n      <td>Charlotte</td>\n      <td>0.0</td>\n      <td>0.0</td>\n      <td>0.0</td>\n      <td>0.0</td>\n      <td>2011.0</td>\n      <td>9.0</td>\n      <td>35.0</td>\n      <td>1.0</td>\n      <td>10.465763</td>\n      <td>19.0</td>\n      <td>0.0</td>\n    </tr>\n    <tr>\n      <th>3</th>\n      <td>2011-09-01</td>\n      <td>ATL</td>\n      <td>DEN</td>\n      <td>Atlanta</td>\n      <td>Denver</td>\n      <td>2011.0</td>\n      <td>6.0</td>\n      <td>24.0</td>\n      <td>14.0</td>\n      <td>2011.0</td>\n      <td>9.0</td>\n      <td>35.0</td>\n      <td>1.0</td>\n      <td>10.402453</td>\n      <td>19.0</td>\n      <td>0.0</td>\n    </tr>\n    <tr>\n      <th>4</th>\n      <td>2011-09-01</td>\n      <td>ATL</td>\n      <td>DFW</td>\n      <td>Atlanta</td>\n      <td>Dallas</td>\n      <td>2011.0</td>\n      <td>6.0</td>\n      <td>25.0</td>\n      <td>20.0</td>\n      <td>2011.0</td>\n      <td>9.0</td>\n      <td>35.0</td>\n      <td>1.0</td>\n      <td>11.648248</td>\n      <td>28.0</td>\n      <td>0.0</td>\n    </tr>\n    <tr>\n      <th>...</th>\n      <td>...</td>\n      <td>...</td>\n      <td>...</td>\n      <td>...</td>\n      <td>...</td>\n      <td>...</td>\n      <td>...</td>\n      <td>...</td>\n      <td>...</td>\n      <td>...</td>\n      <td>...</td>\n      <td>...</td>\n      <td>...</td>\n      <td>...</td>\n      <td>...</td>\n      <td>...</td>\n    </tr>\n    <tr>\n      <th>220795</th>\n      <td>2013-03-05</td>\n      <td>SFO</td>\n      <td>ORD</td>\n      <td>San Francisco</td>\n      <td>Chicago</td>\n      <td>2013.0</td>\n      <td>2.0</td>\n      <td>5.0</td>\n      <td>1.0</td>\n      <td>2013.0</td>\n      <td>3.0</td>\n      <td>10.0</td>\n      <td>5.0</td>\n      <td>11.733258</td>\n      <td>23.0</td>\n      <td>0.0</td>\n    </tr>\n    <tr>\n      <th>220796</th>\n      <td>2013-03-05</td>\n      <td>SFO</td>\n      <td>PHL</td>\n      <td>San Francisco</td>\n      <td>Philadelphia</td>\n      <td>2013.0</td>\n      <td>1.0</td>\n      <td>2.0</td>\n      <td>8.0</td>\n      <td>2013.0</td>\n      <td>3.0</td>\n      <td>10.0</td>\n      <td>5.0</td>\n      <td>11.905572</td>\n      <td>27.0</td>\n      <td>0.0</td>\n    </tr>\n    <tr>\n      <th>220797</th>\n      <td>2013-03-05</td>\n      <td>SFO</td>\n      <td>PHX</td>\n      <td>San Francisco</td>\n      <td>Phoenix</td>\n      <td>2012.0</td>\n      <td>12.0</td>\n      <td>50.0</td>\n      <td>10.0</td>\n      <td>2013.0</td>\n      <td>3.0</td>\n      <td>10.0</td>\n      <td>5.0</td>\n      <td>11.158633</td>\n      <td>14.0</td>\n      <td>0.0</td>\n    </tr>\n    <tr>\n      <th>220798</th>\n      <td>2013-03-05</td>\n      <td>SFO</td>\n      <td>SEA</td>\n      <td>San Francisco</td>\n      <td>Seattle</td>\n      <td>2012.0</td>\n      <td>12.0</td>\n      <td>50.0</td>\n      <td>10.0</td>\n      <td>2013.0</td>\n      <td>3.0</td>\n      <td>10.0</td>\n      <td>5.0</td>\n      <td>11.243991</td>\n      <td>13.0</td>\n      <td>0.0</td>\n    </tr>\n    <tr>\n      <th>220799</th>\n      <td>2013-03-05</td>\n      <td>SFO</td>\n      <td>SFO</td>\n      <td>San Francisco</td>\n      <td>San Francisco</td>\n      <td>2013.0</td>\n      <td>1.0</td>\n      <td>2.0</td>\n      <td>12.0</td>\n      <td>2013.0</td>\n      <td>3.0</td>\n      <td>10.0</td>\n      <td>5.0</td>\n      <td>10.578608</td>\n      <td>67.0</td>\n      <td>0.0</td>\n    </tr>\n  </tbody>\n</table>\n<p>220800 rows × 16 columns</p>\n</div>"
     },
     "metadata": {},
     "execution_count": 26
    }
   ],
   "source": [
    "data_merged2"
   ]
  },
  {
   "source": [
    "## Distances"
   ],
   "cell_type": "markdown",
   "metadata": {}
  },
  {
   "cell_type": "code",
   "execution_count": 27,
   "metadata": {},
   "outputs": [
    {
     "output_type": "execute_result",
     "data": {
      "text/plain": [
       "    Departure City  population_departure  density_departure Arrival City  \\\n",
       "0         New York              18713220            10715.0     New York   \n",
       "1         New York              18713220            10715.0  Los Angeles   \n",
       "2         New York              18713220            10715.0      Chicago   \n",
       "3         New York              18713220            10715.0        Miami   \n",
       "4         New York              18713220            10715.0       Dallas   \n",
       "..             ...                   ...                ...          ...   \n",
       "356       New York                282011             4509.0       Denver   \n",
       "357       New York                282011             4509.0    Las Vegas   \n",
       "358       New York                282011             4509.0      Orlando   \n",
       "359       New York                282011             4509.0    Charlotte   \n",
       "360       New York                282011             4509.0     New York   \n",
       "\n",
       "     population_arrival  density_arrival     distance  \n",
       "0              18713220          10715.0     0.000000  \n",
       "1              12750807           3276.0  3953.628213  \n",
       "2               8604203           4574.0  1155.916177  \n",
       "3               6445545           5019.0  1756.700669  \n",
       "4               5743938           1526.0  2208.283446  \n",
       "..                  ...              ...          ...  \n",
       "356             2876625           1831.0  2594.877861  \n",
       "357             2104198           1773.0  3578.807900  \n",
       "358             1822394           1003.0  1510.109592  \n",
       "359             1512923           1113.0   846.184556  \n",
       "360              282011           4509.0     0.000000  \n",
       "\n",
       "[361 rows x 7 columns]"
      ],
      "text/html": "<div>\n<style scoped>\n    .dataframe tbody tr th:only-of-type {\n        vertical-align: middle;\n    }\n\n    .dataframe tbody tr th {\n        vertical-align: top;\n    }\n\n    .dataframe thead th {\n        text-align: right;\n    }\n</style>\n<table border=\"1\" class=\"dataframe\">\n  <thead>\n    <tr style=\"text-align: right;\">\n      <th></th>\n      <th>Departure City</th>\n      <th>population_departure</th>\n      <th>density_departure</th>\n      <th>Arrival City</th>\n      <th>population_arrival</th>\n      <th>density_arrival</th>\n      <th>distance</th>\n    </tr>\n  </thead>\n  <tbody>\n    <tr>\n      <th>0</th>\n      <td>New York</td>\n      <td>18713220</td>\n      <td>10715.0</td>\n      <td>New York</td>\n      <td>18713220</td>\n      <td>10715.0</td>\n      <td>0.000000</td>\n    </tr>\n    <tr>\n      <th>1</th>\n      <td>New York</td>\n      <td>18713220</td>\n      <td>10715.0</td>\n      <td>Los Angeles</td>\n      <td>12750807</td>\n      <td>3276.0</td>\n      <td>3953.628213</td>\n    </tr>\n    <tr>\n      <th>2</th>\n      <td>New York</td>\n      <td>18713220</td>\n      <td>10715.0</td>\n      <td>Chicago</td>\n      <td>8604203</td>\n      <td>4574.0</td>\n      <td>1155.916177</td>\n    </tr>\n    <tr>\n      <th>3</th>\n      <td>New York</td>\n      <td>18713220</td>\n      <td>10715.0</td>\n      <td>Miami</td>\n      <td>6445545</td>\n      <td>5019.0</td>\n      <td>1756.700669</td>\n    </tr>\n    <tr>\n      <th>4</th>\n      <td>New York</td>\n      <td>18713220</td>\n      <td>10715.0</td>\n      <td>Dallas</td>\n      <td>5743938</td>\n      <td>1526.0</td>\n      <td>2208.283446</td>\n    </tr>\n    <tr>\n      <th>...</th>\n      <td>...</td>\n      <td>...</td>\n      <td>...</td>\n      <td>...</td>\n      <td>...</td>\n      <td>...</td>\n      <td>...</td>\n    </tr>\n    <tr>\n      <th>356</th>\n      <td>New York</td>\n      <td>282011</td>\n      <td>4509.0</td>\n      <td>Denver</td>\n      <td>2876625</td>\n      <td>1831.0</td>\n      <td>2594.877861</td>\n    </tr>\n    <tr>\n      <th>357</th>\n      <td>New York</td>\n      <td>282011</td>\n      <td>4509.0</td>\n      <td>Las Vegas</td>\n      <td>2104198</td>\n      <td>1773.0</td>\n      <td>3578.807900</td>\n    </tr>\n    <tr>\n      <th>358</th>\n      <td>New York</td>\n      <td>282011</td>\n      <td>4509.0</td>\n      <td>Orlando</td>\n      <td>1822394</td>\n      <td>1003.0</td>\n      <td>1510.109592</td>\n    </tr>\n    <tr>\n      <th>359</th>\n      <td>New York</td>\n      <td>282011</td>\n      <td>4509.0</td>\n      <td>Charlotte</td>\n      <td>1512923</td>\n      <td>1113.0</td>\n      <td>846.184556</td>\n    </tr>\n    <tr>\n      <th>360</th>\n      <td>New York</td>\n      <td>282011</td>\n      <td>4509.0</td>\n      <td>New York</td>\n      <td>282011</td>\n      <td>4509.0</td>\n      <td>0.000000</td>\n    </tr>\n  </tbody>\n</table>\n<p>361 rows × 7 columns</p>\n</div>"
     },
     "metadata": {},
     "execution_count": 27
    }
   ],
   "source": [
    "df_distances = pd.read_csv('data/uscities.csv')\n",
    "df_distances = df_distances.drop(['Unnamed: 0', 'lat_departure' , 'lng_departure', 'lat_arrival', 'lng_arrival'], axis=1)\n",
    "df_distances = df_distances.replace({\"Dallas-Fort Worth\":\"Dallas\", \"Newark\":\"New York\"})\n",
    "df_distances = df_distances.rename(columns={\"city_departure\":\"Departure City\", \"city_arrival\":\"Arrival City\"})\n",
    "df_distances"
   ]
  },
  {
   "cell_type": "code",
   "execution_count": 28,
   "metadata": {},
   "outputs": [
    {
     "output_type": "execute_result",
     "data": {
      "text/plain": [
       "       DateOfDeparture Departure Arrival Departure City   Arrival City  \\\n",
       "0           2011-09-01       ATL     ATL        Atlanta        Atlanta   \n",
       "1           2011-09-01       ATL     BOS        Atlanta         Boston   \n",
       "2           2011-09-01       ATL     CLT        Atlanta      Charlotte   \n",
       "3           2011-09-01       ATL     DEN        Atlanta         Denver   \n",
       "4           2011-09-01       ATL     DFW        Atlanta         Dallas   \n",
       "...                ...       ...     ...            ...            ...   \n",
       "292003      2013-03-05       SFO     ORD  San Francisco        Chicago   \n",
       "292004      2013-03-05       SFO     PHL  San Francisco   Philadelphia   \n",
       "292005      2013-03-05       SFO     PHX  San Francisco        Phoenix   \n",
       "292006      2013-03-05       SFO     SEA  San Francisco        Seattle   \n",
       "292007      2013-03-05       SFO     SFO  San Francisco  San Francisco   \n",
       "\n",
       "        p_year  p_month  p_week  p_day    year  ...  week  day  \\\n",
       "0       2011.0      6.0    23.0   11.0  2011.0  ...  35.0  1.0   \n",
       "1       2011.0      6.0    25.0   24.0  2011.0  ...  35.0  1.0   \n",
       "2          0.0      0.0     0.0    0.0  2011.0  ...  35.0  1.0   \n",
       "3       2011.0      6.0    24.0   14.0  2011.0  ...  35.0  1.0   \n",
       "4       2011.0      6.0    25.0   20.0  2011.0  ...  35.0  1.0   \n",
       "...        ...      ...     ...    ...     ...  ...   ...  ...   \n",
       "292003  2013.0      2.0     5.0    1.0  2013.0  ...  10.0  5.0   \n",
       "292004  2013.0      1.0     2.0    8.0  2013.0  ...  10.0  5.0   \n",
       "292005  2012.0     12.0    50.0   10.0  2013.0  ...  10.0  5.0   \n",
       "292006  2012.0     12.0    50.0   10.0  2013.0  ...  10.0  5.0   \n",
       "292007  2013.0      1.0     2.0   12.0  2013.0  ...  10.0  5.0   \n",
       "\n",
       "        Flight baseline frequentation  weekly_volume  Holiday  \\\n",
       "0                           10.448246           33.0      0.0   \n",
       "1                           10.842253            0.0      0.0   \n",
       "2                           10.465763           19.0      0.0   \n",
       "3                           10.402453           19.0      0.0   \n",
       "4                           11.648248           28.0      0.0   \n",
       "...                               ...            ...      ...   \n",
       "292003                      11.733258           23.0      0.0   \n",
       "292004                      11.905572           27.0      0.0   \n",
       "292005                      11.158633           14.0      0.0   \n",
       "292006                      11.243991           13.0      0.0   \n",
       "292007                      10.578608           67.0      0.0   \n",
       "\n",
       "        population_departure  density_departure  population_arrival  \\\n",
       "0                    5449398             1441.0             5449398   \n",
       "1                    5449398             1441.0             4688346   \n",
       "2                    5449398             1441.0             1512923   \n",
       "3                    5449398             1441.0             2876625   \n",
       "4                    5449398             1441.0             5743938   \n",
       "...                      ...                ...                 ...   \n",
       "292003               3592294             7256.0             8604203   \n",
       "292004               3592294             7256.0             5649300   \n",
       "292005               3592294             7256.0             4219697   \n",
       "292006               3592294             7256.0             3789215   \n",
       "292007               3592294             7256.0             3592294   \n",
       "\n",
       "        density_arrival     distance  \n",
       "0                1441.0     0.000000  \n",
       "1                5532.0  1503.307536  \n",
       "2                1113.0   366.320627  \n",
       "3                1831.0  1934.925432  \n",
       "4                1526.0  1151.839803  \n",
       "...                 ...          ...  \n",
       "292003           4574.0  2983.128157  \n",
       "292004           4554.0  4054.339226  \n",
       "292005           1253.0  1043.823889  \n",
       "292006           3469.0  1096.969286  \n",
       "292007           7256.0     0.000000  \n",
       "\n",
       "[292008 rows x 21 columns]"
      ],
      "text/html": "<div>\n<style scoped>\n    .dataframe tbody tr th:only-of-type {\n        vertical-align: middle;\n    }\n\n    .dataframe tbody tr th {\n        vertical-align: top;\n    }\n\n    .dataframe thead th {\n        text-align: right;\n    }\n</style>\n<table border=\"1\" class=\"dataframe\">\n  <thead>\n    <tr style=\"text-align: right;\">\n      <th></th>\n      <th>DateOfDeparture</th>\n      <th>Departure</th>\n      <th>Arrival</th>\n      <th>Departure City</th>\n      <th>Arrival City</th>\n      <th>p_year</th>\n      <th>p_month</th>\n      <th>p_week</th>\n      <th>p_day</th>\n      <th>year</th>\n      <th>...</th>\n      <th>week</th>\n      <th>day</th>\n      <th>Flight baseline frequentation</th>\n      <th>weekly_volume</th>\n      <th>Holiday</th>\n      <th>population_departure</th>\n      <th>density_departure</th>\n      <th>population_arrival</th>\n      <th>density_arrival</th>\n      <th>distance</th>\n    </tr>\n  </thead>\n  <tbody>\n    <tr>\n      <th>0</th>\n      <td>2011-09-01</td>\n      <td>ATL</td>\n      <td>ATL</td>\n      <td>Atlanta</td>\n      <td>Atlanta</td>\n      <td>2011.0</td>\n      <td>6.0</td>\n      <td>23.0</td>\n      <td>11.0</td>\n      <td>2011.0</td>\n      <td>...</td>\n      <td>35.0</td>\n      <td>1.0</td>\n      <td>10.448246</td>\n      <td>33.0</td>\n      <td>0.0</td>\n      <td>5449398</td>\n      <td>1441.0</td>\n      <td>5449398</td>\n      <td>1441.0</td>\n      <td>0.000000</td>\n    </tr>\n    <tr>\n      <th>1</th>\n      <td>2011-09-01</td>\n      <td>ATL</td>\n      <td>BOS</td>\n      <td>Atlanta</td>\n      <td>Boston</td>\n      <td>2011.0</td>\n      <td>6.0</td>\n      <td>25.0</td>\n      <td>24.0</td>\n      <td>2011.0</td>\n      <td>...</td>\n      <td>35.0</td>\n      <td>1.0</td>\n      <td>10.842253</td>\n      <td>0.0</td>\n      <td>0.0</td>\n      <td>5449398</td>\n      <td>1441.0</td>\n      <td>4688346</td>\n      <td>5532.0</td>\n      <td>1503.307536</td>\n    </tr>\n    <tr>\n      <th>2</th>\n      <td>2011-09-01</td>\n      <td>ATL</td>\n      <td>CLT</td>\n      <td>Atlanta</td>\n      <td>Charlotte</td>\n      <td>0.0</td>\n      <td>0.0</td>\n      <td>0.0</td>\n      <td>0.0</td>\n      <td>2011.0</td>\n      <td>...</td>\n      <td>35.0</td>\n      <td>1.0</td>\n      <td>10.465763</td>\n      <td>19.0</td>\n      <td>0.0</td>\n      <td>5449398</td>\n      <td>1441.0</td>\n      <td>1512923</td>\n      <td>1113.0</td>\n      <td>366.320627</td>\n    </tr>\n    <tr>\n      <th>3</th>\n      <td>2011-09-01</td>\n      <td>ATL</td>\n      <td>DEN</td>\n      <td>Atlanta</td>\n      <td>Denver</td>\n      <td>2011.0</td>\n      <td>6.0</td>\n      <td>24.0</td>\n      <td>14.0</td>\n      <td>2011.0</td>\n      <td>...</td>\n      <td>35.0</td>\n      <td>1.0</td>\n      <td>10.402453</td>\n      <td>19.0</td>\n      <td>0.0</td>\n      <td>5449398</td>\n      <td>1441.0</td>\n      <td>2876625</td>\n      <td>1831.0</td>\n      <td>1934.925432</td>\n    </tr>\n    <tr>\n      <th>4</th>\n      <td>2011-09-01</td>\n      <td>ATL</td>\n      <td>DFW</td>\n      <td>Atlanta</td>\n      <td>Dallas</td>\n      <td>2011.0</td>\n      <td>6.0</td>\n      <td>25.0</td>\n      <td>20.0</td>\n      <td>2011.0</td>\n      <td>...</td>\n      <td>35.0</td>\n      <td>1.0</td>\n      <td>11.648248</td>\n      <td>28.0</td>\n      <td>0.0</td>\n      <td>5449398</td>\n      <td>1441.0</td>\n      <td>5743938</td>\n      <td>1526.0</td>\n      <td>1151.839803</td>\n    </tr>\n    <tr>\n      <th>...</th>\n      <td>...</td>\n      <td>...</td>\n      <td>...</td>\n      <td>...</td>\n      <td>...</td>\n      <td>...</td>\n      <td>...</td>\n      <td>...</td>\n      <td>...</td>\n      <td>...</td>\n      <td>...</td>\n      <td>...</td>\n      <td>...</td>\n      <td>...</td>\n      <td>...</td>\n      <td>...</td>\n      <td>...</td>\n      <td>...</td>\n      <td>...</td>\n      <td>...</td>\n      <td>...</td>\n    </tr>\n    <tr>\n      <th>292003</th>\n      <td>2013-03-05</td>\n      <td>SFO</td>\n      <td>ORD</td>\n      <td>San Francisco</td>\n      <td>Chicago</td>\n      <td>2013.0</td>\n      <td>2.0</td>\n      <td>5.0</td>\n      <td>1.0</td>\n      <td>2013.0</td>\n      <td>...</td>\n      <td>10.0</td>\n      <td>5.0</td>\n      <td>11.733258</td>\n      <td>23.0</td>\n      <td>0.0</td>\n      <td>3592294</td>\n      <td>7256.0</td>\n      <td>8604203</td>\n      <td>4574.0</td>\n      <td>2983.128157</td>\n    </tr>\n    <tr>\n      <th>292004</th>\n      <td>2013-03-05</td>\n      <td>SFO</td>\n      <td>PHL</td>\n      <td>San Francisco</td>\n      <td>Philadelphia</td>\n      <td>2013.0</td>\n      <td>1.0</td>\n      <td>2.0</td>\n      <td>8.0</td>\n      <td>2013.0</td>\n      <td>...</td>\n      <td>10.0</td>\n      <td>5.0</td>\n      <td>11.905572</td>\n      <td>27.0</td>\n      <td>0.0</td>\n      <td>3592294</td>\n      <td>7256.0</td>\n      <td>5649300</td>\n      <td>4554.0</td>\n      <td>4054.339226</td>\n    </tr>\n    <tr>\n      <th>292005</th>\n      <td>2013-03-05</td>\n      <td>SFO</td>\n      <td>PHX</td>\n      <td>San Francisco</td>\n      <td>Phoenix</td>\n      <td>2012.0</td>\n      <td>12.0</td>\n      <td>50.0</td>\n      <td>10.0</td>\n      <td>2013.0</td>\n      <td>...</td>\n      <td>10.0</td>\n      <td>5.0</td>\n      <td>11.158633</td>\n      <td>14.0</td>\n      <td>0.0</td>\n      <td>3592294</td>\n      <td>7256.0</td>\n      <td>4219697</td>\n      <td>1253.0</td>\n      <td>1043.823889</td>\n    </tr>\n    <tr>\n      <th>292006</th>\n      <td>2013-03-05</td>\n      <td>SFO</td>\n      <td>SEA</td>\n      <td>San Francisco</td>\n      <td>Seattle</td>\n      <td>2012.0</td>\n      <td>12.0</td>\n      <td>50.0</td>\n      <td>10.0</td>\n      <td>2013.0</td>\n      <td>...</td>\n      <td>10.0</td>\n      <td>5.0</td>\n      <td>11.243991</td>\n      <td>13.0</td>\n      <td>0.0</td>\n      <td>3592294</td>\n      <td>7256.0</td>\n      <td>3789215</td>\n      <td>3469.0</td>\n      <td>1096.969286</td>\n    </tr>\n    <tr>\n      <th>292007</th>\n      <td>2013-03-05</td>\n      <td>SFO</td>\n      <td>SFO</td>\n      <td>San Francisco</td>\n      <td>San Francisco</td>\n      <td>2013.0</td>\n      <td>1.0</td>\n      <td>2.0</td>\n      <td>12.0</td>\n      <td>2013.0</td>\n      <td>...</td>\n      <td>10.0</td>\n      <td>5.0</td>\n      <td>10.578608</td>\n      <td>67.0</td>\n      <td>0.0</td>\n      <td>3592294</td>\n      <td>7256.0</td>\n      <td>3592294</td>\n      <td>7256.0</td>\n      <td>0.000000</td>\n    </tr>\n  </tbody>\n</table>\n<p>292008 rows × 21 columns</p>\n</div>"
     },
     "metadata": {},
     "execution_count": 28
    }
   ],
   "source": [
    "data_merged3 = data_merged2.merge(df_distances, how='left', on=['Departure City', 'Arrival City'])\n",
    "data_merged3"
   ]
  },
  {
   "cell_type": "code",
   "execution_count": 29,
   "metadata": {},
   "outputs": [],
   "source": [
    "data_merged3 = data_merged3.groupby(['DateOfDeparture', 'Departure', 'Arrival', 'Departure City', 'Arrival City']).mean()\n",
    "data_merged3 = data_merged3.reset_index()"
   ]
  },
  {
   "cell_type": "code",
   "execution_count": 30,
   "metadata": {},
   "outputs": [
    {
     "output_type": "execute_result",
     "data": {
      "text/plain": [
       "       DateOfDeparture Departure Arrival Departure City   Arrival City  \\\n",
       "0           2011-09-01       ATL     ATL        Atlanta        Atlanta   \n",
       "1           2011-09-01       ATL     BOS        Atlanta         Boston   \n",
       "2           2011-09-01       ATL     CLT        Atlanta      Charlotte   \n",
       "3           2011-09-01       ATL     DEN        Atlanta         Denver   \n",
       "4           2011-09-01       ATL     DFW        Atlanta         Dallas   \n",
       "...                ...       ...     ...            ...            ...   \n",
       "220795      2013-03-05       SFO     ORD  San Francisco        Chicago   \n",
       "220796      2013-03-05       SFO     PHL  San Francisco   Philadelphia   \n",
       "220797      2013-03-05       SFO     PHX  San Francisco        Phoenix   \n",
       "220798      2013-03-05       SFO     SEA  San Francisco        Seattle   \n",
       "220799      2013-03-05       SFO     SFO  San Francisco  San Francisco   \n",
       "\n",
       "        p_year  p_month  p_week  p_day    year  ...  week  day  \\\n",
       "0       2011.0      6.0    23.0   11.0  2011.0  ...  35.0  1.0   \n",
       "1       2011.0      6.0    25.0   24.0  2011.0  ...  35.0  1.0   \n",
       "2          0.0      0.0     0.0    0.0  2011.0  ...  35.0  1.0   \n",
       "3       2011.0      6.0    24.0   14.0  2011.0  ...  35.0  1.0   \n",
       "4       2011.0      6.0    25.0   20.0  2011.0  ...  35.0  1.0   \n",
       "...        ...      ...     ...    ...     ...  ...   ...  ...   \n",
       "220795  2013.0      2.0     5.0    1.0  2013.0  ...  10.0  5.0   \n",
       "220796  2013.0      1.0     2.0    8.0  2013.0  ...  10.0  5.0   \n",
       "220797  2012.0     12.0    50.0   10.0  2013.0  ...  10.0  5.0   \n",
       "220798  2012.0     12.0    50.0   10.0  2013.0  ...  10.0  5.0   \n",
       "220799  2013.0      1.0     2.0   12.0  2013.0  ...  10.0  5.0   \n",
       "\n",
       "        Flight baseline frequentation  weekly_volume  Holiday  \\\n",
       "0                           10.448246           33.0      0.0   \n",
       "1                           10.842253            0.0      0.0   \n",
       "2                           10.465763           19.0      0.0   \n",
       "3                           10.402453           19.0      0.0   \n",
       "4                           11.648248           28.0      0.0   \n",
       "...                               ...            ...      ...   \n",
       "220795                      11.733258           23.0      0.0   \n",
       "220796                      11.905572           27.0      0.0   \n",
       "220797                      11.158633           14.0      0.0   \n",
       "220798                      11.243991           13.0      0.0   \n",
       "220799                      10.578608           67.0      0.0   \n",
       "\n",
       "        population_departure  density_departure  population_arrival  \\\n",
       "0                  5449398.0             1441.0           5449398.0   \n",
       "1                  5449398.0             1441.0           4688346.0   \n",
       "2                  5449398.0             1441.0           1512923.0   \n",
       "3                  5449398.0             1441.0           2876625.0   \n",
       "4                  5449398.0             1441.0           5743938.0   \n",
       "...                      ...                ...                 ...   \n",
       "220795             3592294.0             7256.0           8604203.0   \n",
       "220796             3592294.0             7256.0           5649300.0   \n",
       "220797             3592294.0             7256.0           4219697.0   \n",
       "220798             3592294.0             7256.0           3789215.0   \n",
       "220799             3592294.0             7256.0           3592294.0   \n",
       "\n",
       "        density_arrival     distance  \n",
       "0                1441.0     0.000000  \n",
       "1                5532.0  1503.307536  \n",
       "2                1113.0   366.320627  \n",
       "3                1831.0  1934.925432  \n",
       "4                1526.0  1151.839803  \n",
       "...                 ...          ...  \n",
       "220795           4574.0  2983.128157  \n",
       "220796           4554.0  4054.339226  \n",
       "220797           1253.0  1043.823889  \n",
       "220798           3469.0  1096.969286  \n",
       "220799           7256.0     0.000000  \n",
       "\n",
       "[220800 rows x 21 columns]"
      ],
      "text/html": "<div>\n<style scoped>\n    .dataframe tbody tr th:only-of-type {\n        vertical-align: middle;\n    }\n\n    .dataframe tbody tr th {\n        vertical-align: top;\n    }\n\n    .dataframe thead th {\n        text-align: right;\n    }\n</style>\n<table border=\"1\" class=\"dataframe\">\n  <thead>\n    <tr style=\"text-align: right;\">\n      <th></th>\n      <th>DateOfDeparture</th>\n      <th>Departure</th>\n      <th>Arrival</th>\n      <th>Departure City</th>\n      <th>Arrival City</th>\n      <th>p_year</th>\n      <th>p_month</th>\n      <th>p_week</th>\n      <th>p_day</th>\n      <th>year</th>\n      <th>...</th>\n      <th>week</th>\n      <th>day</th>\n      <th>Flight baseline frequentation</th>\n      <th>weekly_volume</th>\n      <th>Holiday</th>\n      <th>population_departure</th>\n      <th>density_departure</th>\n      <th>population_arrival</th>\n      <th>density_arrival</th>\n      <th>distance</th>\n    </tr>\n  </thead>\n  <tbody>\n    <tr>\n      <th>0</th>\n      <td>2011-09-01</td>\n      <td>ATL</td>\n      <td>ATL</td>\n      <td>Atlanta</td>\n      <td>Atlanta</td>\n      <td>2011.0</td>\n      <td>6.0</td>\n      <td>23.0</td>\n      <td>11.0</td>\n      <td>2011.0</td>\n      <td>...</td>\n      <td>35.0</td>\n      <td>1.0</td>\n      <td>10.448246</td>\n      <td>33.0</td>\n      <td>0.0</td>\n      <td>5449398.0</td>\n      <td>1441.0</td>\n      <td>5449398.0</td>\n      <td>1441.0</td>\n      <td>0.000000</td>\n    </tr>\n    <tr>\n      <th>1</th>\n      <td>2011-09-01</td>\n      <td>ATL</td>\n      <td>BOS</td>\n      <td>Atlanta</td>\n      <td>Boston</td>\n      <td>2011.0</td>\n      <td>6.0</td>\n      <td>25.0</td>\n      <td>24.0</td>\n      <td>2011.0</td>\n      <td>...</td>\n      <td>35.0</td>\n      <td>1.0</td>\n      <td>10.842253</td>\n      <td>0.0</td>\n      <td>0.0</td>\n      <td>5449398.0</td>\n      <td>1441.0</td>\n      <td>4688346.0</td>\n      <td>5532.0</td>\n      <td>1503.307536</td>\n    </tr>\n    <tr>\n      <th>2</th>\n      <td>2011-09-01</td>\n      <td>ATL</td>\n      <td>CLT</td>\n      <td>Atlanta</td>\n      <td>Charlotte</td>\n      <td>0.0</td>\n      <td>0.0</td>\n      <td>0.0</td>\n      <td>0.0</td>\n      <td>2011.0</td>\n      <td>...</td>\n      <td>35.0</td>\n      <td>1.0</td>\n      <td>10.465763</td>\n      <td>19.0</td>\n      <td>0.0</td>\n      <td>5449398.0</td>\n      <td>1441.0</td>\n      <td>1512923.0</td>\n      <td>1113.0</td>\n      <td>366.320627</td>\n    </tr>\n    <tr>\n      <th>3</th>\n      <td>2011-09-01</td>\n      <td>ATL</td>\n      <td>DEN</td>\n      <td>Atlanta</td>\n      <td>Denver</td>\n      <td>2011.0</td>\n      <td>6.0</td>\n      <td>24.0</td>\n      <td>14.0</td>\n      <td>2011.0</td>\n      <td>...</td>\n      <td>35.0</td>\n      <td>1.0</td>\n      <td>10.402453</td>\n      <td>19.0</td>\n      <td>0.0</td>\n      <td>5449398.0</td>\n      <td>1441.0</td>\n      <td>2876625.0</td>\n      <td>1831.0</td>\n      <td>1934.925432</td>\n    </tr>\n    <tr>\n      <th>4</th>\n      <td>2011-09-01</td>\n      <td>ATL</td>\n      <td>DFW</td>\n      <td>Atlanta</td>\n      <td>Dallas</td>\n      <td>2011.0</td>\n      <td>6.0</td>\n      <td>25.0</td>\n      <td>20.0</td>\n      <td>2011.0</td>\n      <td>...</td>\n      <td>35.0</td>\n      <td>1.0</td>\n      <td>11.648248</td>\n      <td>28.0</td>\n      <td>0.0</td>\n      <td>5449398.0</td>\n      <td>1441.0</td>\n      <td>5743938.0</td>\n      <td>1526.0</td>\n      <td>1151.839803</td>\n    </tr>\n    <tr>\n      <th>...</th>\n      <td>...</td>\n      <td>...</td>\n      <td>...</td>\n      <td>...</td>\n      <td>...</td>\n      <td>...</td>\n      <td>...</td>\n      <td>...</td>\n      <td>...</td>\n      <td>...</td>\n      <td>...</td>\n      <td>...</td>\n      <td>...</td>\n      <td>...</td>\n      <td>...</td>\n      <td>...</td>\n      <td>...</td>\n      <td>...</td>\n      <td>...</td>\n      <td>...</td>\n      <td>...</td>\n    </tr>\n    <tr>\n      <th>220795</th>\n      <td>2013-03-05</td>\n      <td>SFO</td>\n      <td>ORD</td>\n      <td>San Francisco</td>\n      <td>Chicago</td>\n      <td>2013.0</td>\n      <td>2.0</td>\n      <td>5.0</td>\n      <td>1.0</td>\n      <td>2013.0</td>\n      <td>...</td>\n      <td>10.0</td>\n      <td>5.0</td>\n      <td>11.733258</td>\n      <td>23.0</td>\n      <td>0.0</td>\n      <td>3592294.0</td>\n      <td>7256.0</td>\n      <td>8604203.0</td>\n      <td>4574.0</td>\n      <td>2983.128157</td>\n    </tr>\n    <tr>\n      <th>220796</th>\n      <td>2013-03-05</td>\n      <td>SFO</td>\n      <td>PHL</td>\n      <td>San Francisco</td>\n      <td>Philadelphia</td>\n      <td>2013.0</td>\n      <td>1.0</td>\n      <td>2.0</td>\n      <td>8.0</td>\n      <td>2013.0</td>\n      <td>...</td>\n      <td>10.0</td>\n      <td>5.0</td>\n      <td>11.905572</td>\n      <td>27.0</td>\n      <td>0.0</td>\n      <td>3592294.0</td>\n      <td>7256.0</td>\n      <td>5649300.0</td>\n      <td>4554.0</td>\n      <td>4054.339226</td>\n    </tr>\n    <tr>\n      <th>220797</th>\n      <td>2013-03-05</td>\n      <td>SFO</td>\n      <td>PHX</td>\n      <td>San Francisco</td>\n      <td>Phoenix</td>\n      <td>2012.0</td>\n      <td>12.0</td>\n      <td>50.0</td>\n      <td>10.0</td>\n      <td>2013.0</td>\n      <td>...</td>\n      <td>10.0</td>\n      <td>5.0</td>\n      <td>11.158633</td>\n      <td>14.0</td>\n      <td>0.0</td>\n      <td>3592294.0</td>\n      <td>7256.0</td>\n      <td>4219697.0</td>\n      <td>1253.0</td>\n      <td>1043.823889</td>\n    </tr>\n    <tr>\n      <th>220798</th>\n      <td>2013-03-05</td>\n      <td>SFO</td>\n      <td>SEA</td>\n      <td>San Francisco</td>\n      <td>Seattle</td>\n      <td>2012.0</td>\n      <td>12.0</td>\n      <td>50.0</td>\n      <td>10.0</td>\n      <td>2013.0</td>\n      <td>...</td>\n      <td>10.0</td>\n      <td>5.0</td>\n      <td>11.243991</td>\n      <td>13.0</td>\n      <td>0.0</td>\n      <td>3592294.0</td>\n      <td>7256.0</td>\n      <td>3789215.0</td>\n      <td>3469.0</td>\n      <td>1096.969286</td>\n    </tr>\n    <tr>\n      <th>220799</th>\n      <td>2013-03-05</td>\n      <td>SFO</td>\n      <td>SFO</td>\n      <td>San Francisco</td>\n      <td>San Francisco</td>\n      <td>2013.0</td>\n      <td>1.0</td>\n      <td>2.0</td>\n      <td>12.0</td>\n      <td>2013.0</td>\n      <td>...</td>\n      <td>10.0</td>\n      <td>5.0</td>\n      <td>10.578608</td>\n      <td>67.0</td>\n      <td>0.0</td>\n      <td>3592294.0</td>\n      <td>7256.0</td>\n      <td>3592294.0</td>\n      <td>7256.0</td>\n      <td>0.000000</td>\n    </tr>\n  </tbody>\n</table>\n<p>220800 rows × 21 columns</p>\n</div>"
     },
     "metadata": {},
     "execution_count": 30
    }
   ],
   "source": [
    "data_merged3"
   ]
  },
  {
   "source": [
    "## Monthly airports data"
   ],
   "cell_type": "markdown",
   "metadata": {}
  },
  {
   "cell_type": "code",
   "execution_count": 31,
   "metadata": {},
   "outputs": [
    {
     "output_type": "execute_result",
     "data": {
      "text/plain": [
       "     Departure City  year  month  domestic_dep_month_vol  \\\n",
       "0           Atlanta  2007      1                 2744136   \n",
       "1           Atlanta  2007      2                 2642977   \n",
       "2           Atlanta  2007      3                 3347887   \n",
       "3           Atlanta  2007      4                 3222845   \n",
       "4           Atlanta  2007      5                 3318869   \n",
       "...             ...   ...    ...                     ...   \n",
       "2275        Seattle  2016      8                 2057429   \n",
       "2276        Seattle  2016      9                 1679948   \n",
       "2277        Seattle  2016     10                 1586543   \n",
       "2278        Seattle  2016     11                 1510143   \n",
       "2279        Seattle  2016     12                 1574435   \n",
       "\n",
       "      internat_dep_month_vol  total_dep_month_vol  \n",
       "0                     332738              3076874  \n",
       "1                     302883              2945860  \n",
       "2                     393886              3741773  \n",
       "3                      34874              3571585  \n",
       "4                     387551              3706420  \n",
       "...                      ...                  ...  \n",
       "2275                  240776              2298205  \n",
       "2276                  209161              1889109  \n",
       "2277                  190751              1777294  \n",
       "2278                  170829              1680972  \n",
       "2279                  211415              1785850  \n",
       "\n",
       "[2280 rows x 6 columns]"
      ],
      "text/html": "<div>\n<style scoped>\n    .dataframe tbody tr th:only-of-type {\n        vertical-align: middle;\n    }\n\n    .dataframe tbody tr th {\n        vertical-align: top;\n    }\n\n    .dataframe thead th {\n        text-align: right;\n    }\n</style>\n<table border=\"1\" class=\"dataframe\">\n  <thead>\n    <tr style=\"text-align: right;\">\n      <th></th>\n      <th>Departure City</th>\n      <th>year</th>\n      <th>month</th>\n      <th>domestic_dep_month_vol</th>\n      <th>internat_dep_month_vol</th>\n      <th>total_dep_month_vol</th>\n    </tr>\n  </thead>\n  <tbody>\n    <tr>\n      <th>0</th>\n      <td>Atlanta</td>\n      <td>2007</td>\n      <td>1</td>\n      <td>2744136</td>\n      <td>332738</td>\n      <td>3076874</td>\n    </tr>\n    <tr>\n      <th>1</th>\n      <td>Atlanta</td>\n      <td>2007</td>\n      <td>2</td>\n      <td>2642977</td>\n      <td>302883</td>\n      <td>2945860</td>\n    </tr>\n    <tr>\n      <th>2</th>\n      <td>Atlanta</td>\n      <td>2007</td>\n      <td>3</td>\n      <td>3347887</td>\n      <td>393886</td>\n      <td>3741773</td>\n    </tr>\n    <tr>\n      <th>3</th>\n      <td>Atlanta</td>\n      <td>2007</td>\n      <td>4</td>\n      <td>3222845</td>\n      <td>34874</td>\n      <td>3571585</td>\n    </tr>\n    <tr>\n      <th>4</th>\n      <td>Atlanta</td>\n      <td>2007</td>\n      <td>5</td>\n      <td>3318869</td>\n      <td>387551</td>\n      <td>3706420</td>\n    </tr>\n    <tr>\n      <th>...</th>\n      <td>...</td>\n      <td>...</td>\n      <td>...</td>\n      <td>...</td>\n      <td>...</td>\n      <td>...</td>\n    </tr>\n    <tr>\n      <th>2275</th>\n      <td>Seattle</td>\n      <td>2016</td>\n      <td>8</td>\n      <td>2057429</td>\n      <td>240776</td>\n      <td>2298205</td>\n    </tr>\n    <tr>\n      <th>2276</th>\n      <td>Seattle</td>\n      <td>2016</td>\n      <td>9</td>\n      <td>1679948</td>\n      <td>209161</td>\n      <td>1889109</td>\n    </tr>\n    <tr>\n      <th>2277</th>\n      <td>Seattle</td>\n      <td>2016</td>\n      <td>10</td>\n      <td>1586543</td>\n      <td>190751</td>\n      <td>1777294</td>\n    </tr>\n    <tr>\n      <th>2278</th>\n      <td>Seattle</td>\n      <td>2016</td>\n      <td>11</td>\n      <td>1510143</td>\n      <td>170829</td>\n      <td>1680972</td>\n    </tr>\n    <tr>\n      <th>2279</th>\n      <td>Seattle</td>\n      <td>2016</td>\n      <td>12</td>\n      <td>1574435</td>\n      <td>211415</td>\n      <td>1785850</td>\n    </tr>\n  </tbody>\n</table>\n<p>2280 rows × 6 columns</p>\n</div>"
     },
     "metadata": {},
     "execution_count": 31
    }
   ],
   "source": [
    "data_airports = pd.read_csv('data/airports-passengers-month.csv', sep=';')\n",
    "data_airports = data_airports.rename(columns={'City_departure' : 'Departure City', 'DOMESTIC' : 'domestic_dep_month_vol', 'INTERNATIONAL' : 'internat_dep_month_vol', 'TOTAL': 'total_dep_month_vol', 'Year':'year', 'Month':'month'})\n",
    "data_airports"
   ]
  },
  {
   "cell_type": "code",
   "execution_count": 32,
   "metadata": {},
   "outputs": [],
   "source": [
    "data_merged4 = data_merged3.merge(data_airports, how='left', on=['year', 'month', 'Departure City'])\n",
    "data_merged4 = data_merged4.drop(['year', 'month'], axis=1)\n",
    "data_merged4 = data_merged4.drop(['Arrival City', 'Departure City'], axis=1)"
   ]
  },
  {
   "cell_type": "code",
   "execution_count": 33,
   "metadata": {},
   "outputs": [
    {
     "output_type": "execute_result",
     "data": {
      "text/plain": [
       "       DateOfDeparture Departure Arrival  p_year  p_month  p_week  p_day  \\\n",
       "0           2011-09-01       ATL     ATL  2011.0      6.0    23.0   11.0   \n",
       "1           2011-09-01       ATL     BOS  2011.0      6.0    25.0   24.0   \n",
       "2           2011-09-01       ATL     CLT     0.0      0.0     0.0    0.0   \n",
       "3           2011-09-01       ATL     DEN  2011.0      6.0    24.0   14.0   \n",
       "4           2011-09-01       ATL     DFW  2011.0      6.0    25.0   20.0   \n",
       "...                ...       ...     ...     ...      ...     ...    ...   \n",
       "220795      2013-03-05       SFO     ORD  2013.0      2.0     5.0    1.0   \n",
       "220796      2013-03-05       SFO     PHL  2013.0      1.0     2.0    8.0   \n",
       "220797      2013-03-05       SFO     PHX  2012.0     12.0    50.0   10.0   \n",
       "220798      2013-03-05       SFO     SEA  2012.0     12.0    50.0   10.0   \n",
       "220799      2013-03-05       SFO     SFO  2013.0      1.0     2.0   12.0   \n",
       "\n",
       "        week  day  Flight baseline frequentation  weekly_volume  Holiday  \\\n",
       "0       35.0  1.0                      10.448246           33.0      0.0   \n",
       "1       35.0  1.0                      10.842253            0.0      0.0   \n",
       "2       35.0  1.0                      10.465763           19.0      0.0   \n",
       "3       35.0  1.0                      10.402453           19.0      0.0   \n",
       "4       35.0  1.0                      11.648248           28.0      0.0   \n",
       "...      ...  ...                            ...            ...      ...   \n",
       "220795  10.0  5.0                      11.733258           23.0      0.0   \n",
       "220796  10.0  5.0                      11.905572           27.0      0.0   \n",
       "220797  10.0  5.0                      11.158633           14.0      0.0   \n",
       "220798  10.0  5.0                      11.243991           13.0      0.0   \n",
       "220799  10.0  5.0                      10.578608           67.0      0.0   \n",
       "\n",
       "        population_departure  density_departure  population_arrival  \\\n",
       "0                  5449398.0             1441.0           5449398.0   \n",
       "1                  5449398.0             1441.0           4688346.0   \n",
       "2                  5449398.0             1441.0           1512923.0   \n",
       "3                  5449398.0             1441.0           2876625.0   \n",
       "4                  5449398.0             1441.0           5743938.0   \n",
       "...                      ...                ...                 ...   \n",
       "220795             3592294.0             7256.0           8604203.0   \n",
       "220796             3592294.0             7256.0           5649300.0   \n",
       "220797             3592294.0             7256.0           4219697.0   \n",
       "220798             3592294.0             7256.0           3789215.0   \n",
       "220799             3592294.0             7256.0           3592294.0   \n",
       "\n",
       "        density_arrival     distance  domestic_dep_month_vol  \\\n",
       "0                1441.0     0.000000               3233004.0   \n",
       "1                5532.0  1503.307536               3233004.0   \n",
       "2                1113.0   366.320627               3233004.0   \n",
       "3                1831.0  1934.925432               3233004.0   \n",
       "4                1526.0  1151.839803               3233004.0   \n",
       "...                 ...          ...                     ...   \n",
       "220795           4574.0  2983.128157               1387834.0   \n",
       "220796           4554.0  4054.339226               1387834.0   \n",
       "220797           1253.0  1043.823889               1387834.0   \n",
       "220798           3469.0  1096.969286               1387834.0   \n",
       "220799           7256.0     0.000000               1387834.0   \n",
       "\n",
       "        internat_dep_month_vol  total_dep_month_vol  \n",
       "0                     349084.0            3582088.0  \n",
       "1                     349084.0            3582088.0  \n",
       "2                     349084.0            3582088.0  \n",
       "3                     349084.0            3582088.0  \n",
       "4                     349084.0            3582088.0  \n",
       "...                        ...                  ...  \n",
       "220795                352459.0            1740293.0  \n",
       "220796                352459.0            1740293.0  \n",
       "220797                352459.0            1740293.0  \n",
       "220798                352459.0            1740293.0  \n",
       "220799                352459.0            1740293.0  \n",
       "\n",
       "[220800 rows x 20 columns]"
      ],
      "text/html": "<div>\n<style scoped>\n    .dataframe tbody tr th:only-of-type {\n        vertical-align: middle;\n    }\n\n    .dataframe tbody tr th {\n        vertical-align: top;\n    }\n\n    .dataframe thead th {\n        text-align: right;\n    }\n</style>\n<table border=\"1\" class=\"dataframe\">\n  <thead>\n    <tr style=\"text-align: right;\">\n      <th></th>\n      <th>DateOfDeparture</th>\n      <th>Departure</th>\n      <th>Arrival</th>\n      <th>p_year</th>\n      <th>p_month</th>\n      <th>p_week</th>\n      <th>p_day</th>\n      <th>week</th>\n      <th>day</th>\n      <th>Flight baseline frequentation</th>\n      <th>weekly_volume</th>\n      <th>Holiday</th>\n      <th>population_departure</th>\n      <th>density_departure</th>\n      <th>population_arrival</th>\n      <th>density_arrival</th>\n      <th>distance</th>\n      <th>domestic_dep_month_vol</th>\n      <th>internat_dep_month_vol</th>\n      <th>total_dep_month_vol</th>\n    </tr>\n  </thead>\n  <tbody>\n    <tr>\n      <th>0</th>\n      <td>2011-09-01</td>\n      <td>ATL</td>\n      <td>ATL</td>\n      <td>2011.0</td>\n      <td>6.0</td>\n      <td>23.0</td>\n      <td>11.0</td>\n      <td>35.0</td>\n      <td>1.0</td>\n      <td>10.448246</td>\n      <td>33.0</td>\n      <td>0.0</td>\n      <td>5449398.0</td>\n      <td>1441.0</td>\n      <td>5449398.0</td>\n      <td>1441.0</td>\n      <td>0.000000</td>\n      <td>3233004.0</td>\n      <td>349084.0</td>\n      <td>3582088.0</td>\n    </tr>\n    <tr>\n      <th>1</th>\n      <td>2011-09-01</td>\n      <td>ATL</td>\n      <td>BOS</td>\n      <td>2011.0</td>\n      <td>6.0</td>\n      <td>25.0</td>\n      <td>24.0</td>\n      <td>35.0</td>\n      <td>1.0</td>\n      <td>10.842253</td>\n      <td>0.0</td>\n      <td>0.0</td>\n      <td>5449398.0</td>\n      <td>1441.0</td>\n      <td>4688346.0</td>\n      <td>5532.0</td>\n      <td>1503.307536</td>\n      <td>3233004.0</td>\n      <td>349084.0</td>\n      <td>3582088.0</td>\n    </tr>\n    <tr>\n      <th>2</th>\n      <td>2011-09-01</td>\n      <td>ATL</td>\n      <td>CLT</td>\n      <td>0.0</td>\n      <td>0.0</td>\n      <td>0.0</td>\n      <td>0.0</td>\n      <td>35.0</td>\n      <td>1.0</td>\n      <td>10.465763</td>\n      <td>19.0</td>\n      <td>0.0</td>\n      <td>5449398.0</td>\n      <td>1441.0</td>\n      <td>1512923.0</td>\n      <td>1113.0</td>\n      <td>366.320627</td>\n      <td>3233004.0</td>\n      <td>349084.0</td>\n      <td>3582088.0</td>\n    </tr>\n    <tr>\n      <th>3</th>\n      <td>2011-09-01</td>\n      <td>ATL</td>\n      <td>DEN</td>\n      <td>2011.0</td>\n      <td>6.0</td>\n      <td>24.0</td>\n      <td>14.0</td>\n      <td>35.0</td>\n      <td>1.0</td>\n      <td>10.402453</td>\n      <td>19.0</td>\n      <td>0.0</td>\n      <td>5449398.0</td>\n      <td>1441.0</td>\n      <td>2876625.0</td>\n      <td>1831.0</td>\n      <td>1934.925432</td>\n      <td>3233004.0</td>\n      <td>349084.0</td>\n      <td>3582088.0</td>\n    </tr>\n    <tr>\n      <th>4</th>\n      <td>2011-09-01</td>\n      <td>ATL</td>\n      <td>DFW</td>\n      <td>2011.0</td>\n      <td>6.0</td>\n      <td>25.0</td>\n      <td>20.0</td>\n      <td>35.0</td>\n      <td>1.0</td>\n      <td>11.648248</td>\n      <td>28.0</td>\n      <td>0.0</td>\n      <td>5449398.0</td>\n      <td>1441.0</td>\n      <td>5743938.0</td>\n      <td>1526.0</td>\n      <td>1151.839803</td>\n      <td>3233004.0</td>\n      <td>349084.0</td>\n      <td>3582088.0</td>\n    </tr>\n    <tr>\n      <th>...</th>\n      <td>...</td>\n      <td>...</td>\n      <td>...</td>\n      <td>...</td>\n      <td>...</td>\n      <td>...</td>\n      <td>...</td>\n      <td>...</td>\n      <td>...</td>\n      <td>...</td>\n      <td>...</td>\n      <td>...</td>\n      <td>...</td>\n      <td>...</td>\n      <td>...</td>\n      <td>...</td>\n      <td>...</td>\n      <td>...</td>\n      <td>...</td>\n      <td>...</td>\n    </tr>\n    <tr>\n      <th>220795</th>\n      <td>2013-03-05</td>\n      <td>SFO</td>\n      <td>ORD</td>\n      <td>2013.0</td>\n      <td>2.0</td>\n      <td>5.0</td>\n      <td>1.0</td>\n      <td>10.0</td>\n      <td>5.0</td>\n      <td>11.733258</td>\n      <td>23.0</td>\n      <td>0.0</td>\n      <td>3592294.0</td>\n      <td>7256.0</td>\n      <td>8604203.0</td>\n      <td>4574.0</td>\n      <td>2983.128157</td>\n      <td>1387834.0</td>\n      <td>352459.0</td>\n      <td>1740293.0</td>\n    </tr>\n    <tr>\n      <th>220796</th>\n      <td>2013-03-05</td>\n      <td>SFO</td>\n      <td>PHL</td>\n      <td>2013.0</td>\n      <td>1.0</td>\n      <td>2.0</td>\n      <td>8.0</td>\n      <td>10.0</td>\n      <td>5.0</td>\n      <td>11.905572</td>\n      <td>27.0</td>\n      <td>0.0</td>\n      <td>3592294.0</td>\n      <td>7256.0</td>\n      <td>5649300.0</td>\n      <td>4554.0</td>\n      <td>4054.339226</td>\n      <td>1387834.0</td>\n      <td>352459.0</td>\n      <td>1740293.0</td>\n    </tr>\n    <tr>\n      <th>220797</th>\n      <td>2013-03-05</td>\n      <td>SFO</td>\n      <td>PHX</td>\n      <td>2012.0</td>\n      <td>12.0</td>\n      <td>50.0</td>\n      <td>10.0</td>\n      <td>10.0</td>\n      <td>5.0</td>\n      <td>11.158633</td>\n      <td>14.0</td>\n      <td>0.0</td>\n      <td>3592294.0</td>\n      <td>7256.0</td>\n      <td>4219697.0</td>\n      <td>1253.0</td>\n      <td>1043.823889</td>\n      <td>1387834.0</td>\n      <td>352459.0</td>\n      <td>1740293.0</td>\n    </tr>\n    <tr>\n      <th>220798</th>\n      <td>2013-03-05</td>\n      <td>SFO</td>\n      <td>SEA</td>\n      <td>2012.0</td>\n      <td>12.0</td>\n      <td>50.0</td>\n      <td>10.0</td>\n      <td>10.0</td>\n      <td>5.0</td>\n      <td>11.243991</td>\n      <td>13.0</td>\n      <td>0.0</td>\n      <td>3592294.0</td>\n      <td>7256.0</td>\n      <td>3789215.0</td>\n      <td>3469.0</td>\n      <td>1096.969286</td>\n      <td>1387834.0</td>\n      <td>352459.0</td>\n      <td>1740293.0</td>\n    </tr>\n    <tr>\n      <th>220799</th>\n      <td>2013-03-05</td>\n      <td>SFO</td>\n      <td>SFO</td>\n      <td>2013.0</td>\n      <td>1.0</td>\n      <td>2.0</td>\n      <td>12.0</td>\n      <td>10.0</td>\n      <td>5.0</td>\n      <td>10.578608</td>\n      <td>67.0</td>\n      <td>0.0</td>\n      <td>3592294.0</td>\n      <td>7256.0</td>\n      <td>3592294.0</td>\n      <td>7256.0</td>\n      <td>0.000000</td>\n      <td>1387834.0</td>\n      <td>352459.0</td>\n      <td>1740293.0</td>\n    </tr>\n  </tbody>\n</table>\n<p>220800 rows × 20 columns</p>\n</div>"
     },
     "metadata": {},
     "execution_count": 33
    }
   ],
   "source": [
    "data_merged4"
   ]
  },
  {
   "cell_type": "code",
   "execution_count": 34,
   "metadata": {},
   "outputs": [],
   "source": [
    "#data_merged4 = to_save.merge(data_merged4, how='left', on=['DateOfDeparture', 'Departure', 'Arrival'])"
   ]
  },
  {
   "cell_type": "code",
   "execution_count": 35,
   "metadata": {},
   "outputs": [],
   "source": [
    "#data_merged4.to_csv('data/multi_sources3.csv', index=False)"
   ]
  },
  {
   "source": [
    "## Yahoo - AA"
   ],
   "cell_type": "markdown",
   "metadata": {}
  },
  {
   "cell_type": "code",
   "execution_count": 36,
   "metadata": {},
   "outputs": [],
   "source": [
    "full_df = data_merged4"
   ]
  },
  {
   "cell_type": "code",
   "execution_count": 37,
   "metadata": {},
   "outputs": [
    {
     "output_type": "execute_result",
     "data": {
      "text/plain": [
       "       DateOfDeparture Departure Arrival  p_year  p_month  p_week  p_day  \\\n",
       "0           2011-09-01       ATL     ATL  2011.0      6.0    23.0   11.0   \n",
       "1           2011-09-01       ATL     BOS  2011.0      6.0    25.0   24.0   \n",
       "2           2011-09-01       ATL     CLT     0.0      0.0     0.0    0.0   \n",
       "3           2011-09-01       ATL     DEN  2011.0      6.0    24.0   14.0   \n",
       "4           2011-09-01       ATL     DFW  2011.0      6.0    25.0   20.0   \n",
       "...                ...       ...     ...     ...      ...     ...    ...   \n",
       "220795      2013-03-05       SFO     ORD  2013.0      2.0     5.0    1.0   \n",
       "220796      2013-03-05       SFO     PHL  2013.0      1.0     2.0    8.0   \n",
       "220797      2013-03-05       SFO     PHX  2012.0     12.0    50.0   10.0   \n",
       "220798      2013-03-05       SFO     SEA  2012.0     12.0    50.0   10.0   \n",
       "220799      2013-03-05       SFO     SFO  2013.0      1.0     2.0   12.0   \n",
       "\n",
       "        week  day  Flight baseline frequentation  weekly_volume  Holiday  \\\n",
       "0       35.0  1.0                      10.448246           33.0      0.0   \n",
       "1       35.0  1.0                      10.842253            0.0      0.0   \n",
       "2       35.0  1.0                      10.465763           19.0      0.0   \n",
       "3       35.0  1.0                      10.402453           19.0      0.0   \n",
       "4       35.0  1.0                      11.648248           28.0      0.0   \n",
       "...      ...  ...                            ...            ...      ...   \n",
       "220795  10.0  5.0                      11.733258           23.0      0.0   \n",
       "220796  10.0  5.0                      11.905572           27.0      0.0   \n",
       "220797  10.0  5.0                      11.158633           14.0      0.0   \n",
       "220798  10.0  5.0                      11.243991           13.0      0.0   \n",
       "220799  10.0  5.0                      10.578608           67.0      0.0   \n",
       "\n",
       "        population_departure  density_departure  population_arrival  \\\n",
       "0                  5449398.0             1441.0           5449398.0   \n",
       "1                  5449398.0             1441.0           4688346.0   \n",
       "2                  5449398.0             1441.0           1512923.0   \n",
       "3                  5449398.0             1441.0           2876625.0   \n",
       "4                  5449398.0             1441.0           5743938.0   \n",
       "...                      ...                ...                 ...   \n",
       "220795             3592294.0             7256.0           8604203.0   \n",
       "220796             3592294.0             7256.0           5649300.0   \n",
       "220797             3592294.0             7256.0           4219697.0   \n",
       "220798             3592294.0             7256.0           3789215.0   \n",
       "220799             3592294.0             7256.0           3592294.0   \n",
       "\n",
       "        density_arrival     distance  domestic_dep_month_vol  \\\n",
       "0                1441.0     0.000000               3233004.0   \n",
       "1                5532.0  1503.307536               3233004.0   \n",
       "2                1113.0   366.320627               3233004.0   \n",
       "3                1831.0  1934.925432               3233004.0   \n",
       "4                1526.0  1151.839803               3233004.0   \n",
       "...                 ...          ...                     ...   \n",
       "220795           4574.0  2983.128157               1387834.0   \n",
       "220796           4554.0  4054.339226               1387834.0   \n",
       "220797           1253.0  1043.823889               1387834.0   \n",
       "220798           3469.0  1096.969286               1387834.0   \n",
       "220799           7256.0     0.000000               1387834.0   \n",
       "\n",
       "        internat_dep_month_vol  total_dep_month_vol  \n",
       "0                     349084.0            3582088.0  \n",
       "1                     349084.0            3582088.0  \n",
       "2                     349084.0            3582088.0  \n",
       "3                     349084.0            3582088.0  \n",
       "4                     349084.0            3582088.0  \n",
       "...                        ...                  ...  \n",
       "220795                352459.0            1740293.0  \n",
       "220796                352459.0            1740293.0  \n",
       "220797                352459.0            1740293.0  \n",
       "220798                352459.0            1740293.0  \n",
       "220799                352459.0            1740293.0  \n",
       "\n",
       "[220800 rows x 20 columns]"
      ],
      "text/html": "<div>\n<style scoped>\n    .dataframe tbody tr th:only-of-type {\n        vertical-align: middle;\n    }\n\n    .dataframe tbody tr th {\n        vertical-align: top;\n    }\n\n    .dataframe thead th {\n        text-align: right;\n    }\n</style>\n<table border=\"1\" class=\"dataframe\">\n  <thead>\n    <tr style=\"text-align: right;\">\n      <th></th>\n      <th>DateOfDeparture</th>\n      <th>Departure</th>\n      <th>Arrival</th>\n      <th>p_year</th>\n      <th>p_month</th>\n      <th>p_week</th>\n      <th>p_day</th>\n      <th>week</th>\n      <th>day</th>\n      <th>Flight baseline frequentation</th>\n      <th>weekly_volume</th>\n      <th>Holiday</th>\n      <th>population_departure</th>\n      <th>density_departure</th>\n      <th>population_arrival</th>\n      <th>density_arrival</th>\n      <th>distance</th>\n      <th>domestic_dep_month_vol</th>\n      <th>internat_dep_month_vol</th>\n      <th>total_dep_month_vol</th>\n    </tr>\n  </thead>\n  <tbody>\n    <tr>\n      <th>0</th>\n      <td>2011-09-01</td>\n      <td>ATL</td>\n      <td>ATL</td>\n      <td>2011.0</td>\n      <td>6.0</td>\n      <td>23.0</td>\n      <td>11.0</td>\n      <td>35.0</td>\n      <td>1.0</td>\n      <td>10.448246</td>\n      <td>33.0</td>\n      <td>0.0</td>\n      <td>5449398.0</td>\n      <td>1441.0</td>\n      <td>5449398.0</td>\n      <td>1441.0</td>\n      <td>0.000000</td>\n      <td>3233004.0</td>\n      <td>349084.0</td>\n      <td>3582088.0</td>\n    </tr>\n    <tr>\n      <th>1</th>\n      <td>2011-09-01</td>\n      <td>ATL</td>\n      <td>BOS</td>\n      <td>2011.0</td>\n      <td>6.0</td>\n      <td>25.0</td>\n      <td>24.0</td>\n      <td>35.0</td>\n      <td>1.0</td>\n      <td>10.842253</td>\n      <td>0.0</td>\n      <td>0.0</td>\n      <td>5449398.0</td>\n      <td>1441.0</td>\n      <td>4688346.0</td>\n      <td>5532.0</td>\n      <td>1503.307536</td>\n      <td>3233004.0</td>\n      <td>349084.0</td>\n      <td>3582088.0</td>\n    </tr>\n    <tr>\n      <th>2</th>\n      <td>2011-09-01</td>\n      <td>ATL</td>\n      <td>CLT</td>\n      <td>0.0</td>\n      <td>0.0</td>\n      <td>0.0</td>\n      <td>0.0</td>\n      <td>35.0</td>\n      <td>1.0</td>\n      <td>10.465763</td>\n      <td>19.0</td>\n      <td>0.0</td>\n      <td>5449398.0</td>\n      <td>1441.0</td>\n      <td>1512923.0</td>\n      <td>1113.0</td>\n      <td>366.320627</td>\n      <td>3233004.0</td>\n      <td>349084.0</td>\n      <td>3582088.0</td>\n    </tr>\n    <tr>\n      <th>3</th>\n      <td>2011-09-01</td>\n      <td>ATL</td>\n      <td>DEN</td>\n      <td>2011.0</td>\n      <td>6.0</td>\n      <td>24.0</td>\n      <td>14.0</td>\n      <td>35.0</td>\n      <td>1.0</td>\n      <td>10.402453</td>\n      <td>19.0</td>\n      <td>0.0</td>\n      <td>5449398.0</td>\n      <td>1441.0</td>\n      <td>2876625.0</td>\n      <td>1831.0</td>\n      <td>1934.925432</td>\n      <td>3233004.0</td>\n      <td>349084.0</td>\n      <td>3582088.0</td>\n    </tr>\n    <tr>\n      <th>4</th>\n      <td>2011-09-01</td>\n      <td>ATL</td>\n      <td>DFW</td>\n      <td>2011.0</td>\n      <td>6.0</td>\n      <td>25.0</td>\n      <td>20.0</td>\n      <td>35.0</td>\n      <td>1.0</td>\n      <td>11.648248</td>\n      <td>28.0</td>\n      <td>0.0</td>\n      <td>5449398.0</td>\n      <td>1441.0</td>\n      <td>5743938.0</td>\n      <td>1526.0</td>\n      <td>1151.839803</td>\n      <td>3233004.0</td>\n      <td>349084.0</td>\n      <td>3582088.0</td>\n    </tr>\n    <tr>\n      <th>...</th>\n      <td>...</td>\n      <td>...</td>\n      <td>...</td>\n      <td>...</td>\n      <td>...</td>\n      <td>...</td>\n      <td>...</td>\n      <td>...</td>\n      <td>...</td>\n      <td>...</td>\n      <td>...</td>\n      <td>...</td>\n      <td>...</td>\n      <td>...</td>\n      <td>...</td>\n      <td>...</td>\n      <td>...</td>\n      <td>...</td>\n      <td>...</td>\n      <td>...</td>\n    </tr>\n    <tr>\n      <th>220795</th>\n      <td>2013-03-05</td>\n      <td>SFO</td>\n      <td>ORD</td>\n      <td>2013.0</td>\n      <td>2.0</td>\n      <td>5.0</td>\n      <td>1.0</td>\n      <td>10.0</td>\n      <td>5.0</td>\n      <td>11.733258</td>\n      <td>23.0</td>\n      <td>0.0</td>\n      <td>3592294.0</td>\n      <td>7256.0</td>\n      <td>8604203.0</td>\n      <td>4574.0</td>\n      <td>2983.128157</td>\n      <td>1387834.0</td>\n      <td>352459.0</td>\n      <td>1740293.0</td>\n    </tr>\n    <tr>\n      <th>220796</th>\n      <td>2013-03-05</td>\n      <td>SFO</td>\n      <td>PHL</td>\n      <td>2013.0</td>\n      <td>1.0</td>\n      <td>2.0</td>\n      <td>8.0</td>\n      <td>10.0</td>\n      <td>5.0</td>\n      <td>11.905572</td>\n      <td>27.0</td>\n      <td>0.0</td>\n      <td>3592294.0</td>\n      <td>7256.0</td>\n      <td>5649300.0</td>\n      <td>4554.0</td>\n      <td>4054.339226</td>\n      <td>1387834.0</td>\n      <td>352459.0</td>\n      <td>1740293.0</td>\n    </tr>\n    <tr>\n      <th>220797</th>\n      <td>2013-03-05</td>\n      <td>SFO</td>\n      <td>PHX</td>\n      <td>2012.0</td>\n      <td>12.0</td>\n      <td>50.0</td>\n      <td>10.0</td>\n      <td>10.0</td>\n      <td>5.0</td>\n      <td>11.158633</td>\n      <td>14.0</td>\n      <td>0.0</td>\n      <td>3592294.0</td>\n      <td>7256.0</td>\n      <td>4219697.0</td>\n      <td>1253.0</td>\n      <td>1043.823889</td>\n      <td>1387834.0</td>\n      <td>352459.0</td>\n      <td>1740293.0</td>\n    </tr>\n    <tr>\n      <th>220798</th>\n      <td>2013-03-05</td>\n      <td>SFO</td>\n      <td>SEA</td>\n      <td>2012.0</td>\n      <td>12.0</td>\n      <td>50.0</td>\n      <td>10.0</td>\n      <td>10.0</td>\n      <td>5.0</td>\n      <td>11.243991</td>\n      <td>13.0</td>\n      <td>0.0</td>\n      <td>3592294.0</td>\n      <td>7256.0</td>\n      <td>3789215.0</td>\n      <td>3469.0</td>\n      <td>1096.969286</td>\n      <td>1387834.0</td>\n      <td>352459.0</td>\n      <td>1740293.0</td>\n    </tr>\n    <tr>\n      <th>220799</th>\n      <td>2013-03-05</td>\n      <td>SFO</td>\n      <td>SFO</td>\n      <td>2013.0</td>\n      <td>1.0</td>\n      <td>2.0</td>\n      <td>12.0</td>\n      <td>10.0</td>\n      <td>5.0</td>\n      <td>10.578608</td>\n      <td>67.0</td>\n      <td>0.0</td>\n      <td>3592294.0</td>\n      <td>7256.0</td>\n      <td>3592294.0</td>\n      <td>7256.0</td>\n      <td>0.000000</td>\n      <td>1387834.0</td>\n      <td>352459.0</td>\n      <td>1740293.0</td>\n    </tr>\n  </tbody>\n</table>\n<p>220800 rows × 20 columns</p>\n</div>"
     },
     "metadata": {},
     "execution_count": 37
    }
   ],
   "source": [
    "full_df"
   ]
  },
  {
   "cell_type": "code",
   "execution_count": 38,
   "metadata": {},
   "outputs": [
    {
     "output_type": "execute_result",
     "data": {
      "text/plain": [
       "     Purchase Date\n",
       "0       2011-01-01\n",
       "1       2011-01-02\n",
       "2       2011-01-03\n",
       "3       2011-01-04\n",
       "4       2011-01-05\n",
       "...            ...\n",
       "1091    2013-12-27\n",
       "1092    2013-12-28\n",
       "1093    2013-12-29\n",
       "1094    2013-12-30\n",
       "1095    2013-12-31\n",
       "\n",
       "[1096 rows x 1 columns]"
      ],
      "text/html": "<div>\n<style scoped>\n    .dataframe tbody tr th:only-of-type {\n        vertical-align: middle;\n    }\n\n    .dataframe tbody tr th {\n        vertical-align: top;\n    }\n\n    .dataframe thead th {\n        text-align: right;\n    }\n</style>\n<table border=\"1\" class=\"dataframe\">\n  <thead>\n    <tr style=\"text-align: right;\">\n      <th></th>\n      <th>Purchase Date</th>\n    </tr>\n  </thead>\n  <tbody>\n    <tr>\n      <th>0</th>\n      <td>2011-01-01</td>\n    </tr>\n    <tr>\n      <th>1</th>\n      <td>2011-01-02</td>\n    </tr>\n    <tr>\n      <th>2</th>\n      <td>2011-01-03</td>\n    </tr>\n    <tr>\n      <th>3</th>\n      <td>2011-01-04</td>\n    </tr>\n    <tr>\n      <th>4</th>\n      <td>2011-01-05</td>\n    </tr>\n    <tr>\n      <th>...</th>\n      <td>...</td>\n    </tr>\n    <tr>\n      <th>1091</th>\n      <td>2013-12-27</td>\n    </tr>\n    <tr>\n      <th>1092</th>\n      <td>2013-12-28</td>\n    </tr>\n    <tr>\n      <th>1093</th>\n      <td>2013-12-29</td>\n    </tr>\n    <tr>\n      <th>1094</th>\n      <td>2013-12-30</td>\n    </tr>\n    <tr>\n      <th>1095</th>\n      <td>2013-12-31</td>\n    </tr>\n  </tbody>\n</table>\n<p>1096 rows × 1 columns</p>\n</div>"
     },
     "metadata": {},
     "execution_count": 38
    }
   ],
   "source": [
    "start_date = '2011-01-01'\n",
    "end_date = '2013-12-31'\n",
    "all_dates = pd.date_range(start_date, end_date)\n",
    "dates_df = pd.DataFrame(all_dates, columns=[date_key])\n",
    "dates_df"
   ]
  },
  {
   "cell_type": "code",
   "execution_count": 39,
   "metadata": {},
   "outputs": [
    {
     "output_type": "execute_result",
     "data": {
      "text/plain": [
       "     Purchase Date  a_airlines\n",
       "0       2011-01-01   10.040195\n",
       "1       2011-01-02   10.040195\n",
       "2       2011-01-03   10.040195\n",
       "3       2011-01-04   10.011914\n",
       "4       2011-01-05   10.464431\n",
       "...            ...         ...\n",
       "1091    2013-12-27   23.511972\n",
       "1092    2013-12-28   23.511972\n",
       "1093    2013-12-29   23.511972\n",
       "1094    2013-12-30   23.361134\n",
       "1095    2013-12-31   23.361134\n",
       "\n",
       "[1096 rows x 2 columns]"
      ],
      "text/html": "<div>\n<style scoped>\n    .dataframe tbody tr th:only-of-type {\n        vertical-align: middle;\n    }\n\n    .dataframe tbody tr th {\n        vertical-align: top;\n    }\n\n    .dataframe thead th {\n        text-align: right;\n    }\n</style>\n<table border=\"1\" class=\"dataframe\">\n  <thead>\n    <tr style=\"text-align: right;\">\n      <th></th>\n      <th>Purchase Date</th>\n      <th>a_airlines</th>\n    </tr>\n  </thead>\n  <tbody>\n    <tr>\n      <th>0</th>\n      <td>2011-01-01</td>\n      <td>10.040195</td>\n    </tr>\n    <tr>\n      <th>1</th>\n      <td>2011-01-02</td>\n      <td>10.040195</td>\n    </tr>\n    <tr>\n      <th>2</th>\n      <td>2011-01-03</td>\n      <td>10.040195</td>\n    </tr>\n    <tr>\n      <th>3</th>\n      <td>2011-01-04</td>\n      <td>10.011914</td>\n    </tr>\n    <tr>\n      <th>4</th>\n      <td>2011-01-05</td>\n      <td>10.464431</td>\n    </tr>\n    <tr>\n      <th>...</th>\n      <td>...</td>\n      <td>...</td>\n    </tr>\n    <tr>\n      <th>1091</th>\n      <td>2013-12-27</td>\n      <td>23.511972</td>\n    </tr>\n    <tr>\n      <th>1092</th>\n      <td>2013-12-28</td>\n      <td>23.511972</td>\n    </tr>\n    <tr>\n      <th>1093</th>\n      <td>2013-12-29</td>\n      <td>23.511972</td>\n    </tr>\n    <tr>\n      <th>1094</th>\n      <td>2013-12-30</td>\n      <td>23.361134</td>\n    </tr>\n    <tr>\n      <th>1095</th>\n      <td>2013-12-31</td>\n      <td>23.361134</td>\n    </tr>\n  </tbody>\n</table>\n<p>1096 rows × 2 columns</p>\n</div>"
     },
     "metadata": {},
     "execution_count": 39
    }
   ],
   "source": [
    "data_AA = pd.read_csv('data/yahoo-aairlines.csv')\n",
    "data_AA = data_AA.drop(['Open', 'High', 'Low', 'Close', 'Volume'], axis=1)\n",
    "data_AA = data_AA.rename(columns={'Adj Close' : 'a_airlines', 'Date' : date_key})\n",
    "data_AA.loc[:, date_key] = pd.to_datetime(data_AA.loc[:, date_key])\n",
    "data_AA = dates_df.merge(data_AA, how='left', on=date_key)\n",
    "data_AA.loc[:, 'a_airlines'] = data_AA.loc[:, 'a_airlines'].fillna(method='pad')\n",
    "data_AA.loc[:, 'a_airlines'] = data_AA.loc[:, 'a_airlines'].fillna(method='bfill')\n",
    "data_AA\n",
    "### CELUI LA EST OK, A MERGER"
   ]
  },
  {
   "cell_type": "code",
   "execution_count": 40,
   "metadata": {},
   "outputs": [
    {
     "output_type": "execute_result",
     "data": {
      "text/plain": [
       "     Purchase Date      booking\n",
       "0       2011-01-01   415.989990\n",
       "1       2011-01-02   415.989990\n",
       "2       2011-01-03   415.989990\n",
       "3       2011-01-04   409.380005\n",
       "4       2011-01-05   433.600006\n",
       "...            ...          ...\n",
       "1091    2013-12-27  1170.310059\n",
       "1092    2013-12-28  1170.310059\n",
       "1093    2013-12-29  1170.310059\n",
       "1094    2013-12-30  1152.890015\n",
       "1095    2013-12-31  1152.890015\n",
       "\n",
       "[1096 rows x 2 columns]"
      ],
      "text/html": "<div>\n<style scoped>\n    .dataframe tbody tr th:only-of-type {\n        vertical-align: middle;\n    }\n\n    .dataframe tbody tr th {\n        vertical-align: top;\n    }\n\n    .dataframe thead th {\n        text-align: right;\n    }\n</style>\n<table border=\"1\" class=\"dataframe\">\n  <thead>\n    <tr style=\"text-align: right;\">\n      <th></th>\n      <th>Purchase Date</th>\n      <th>booking</th>\n    </tr>\n  </thead>\n  <tbody>\n    <tr>\n      <th>0</th>\n      <td>2011-01-01</td>\n      <td>415.989990</td>\n    </tr>\n    <tr>\n      <th>1</th>\n      <td>2011-01-02</td>\n      <td>415.989990</td>\n    </tr>\n    <tr>\n      <th>2</th>\n      <td>2011-01-03</td>\n      <td>415.989990</td>\n    </tr>\n    <tr>\n      <th>3</th>\n      <td>2011-01-04</td>\n      <td>409.380005</td>\n    </tr>\n    <tr>\n      <th>4</th>\n      <td>2011-01-05</td>\n      <td>433.600006</td>\n    </tr>\n    <tr>\n      <th>...</th>\n      <td>...</td>\n      <td>...</td>\n    </tr>\n    <tr>\n      <th>1091</th>\n      <td>2013-12-27</td>\n      <td>1170.310059</td>\n    </tr>\n    <tr>\n      <th>1092</th>\n      <td>2013-12-28</td>\n      <td>1170.310059</td>\n    </tr>\n    <tr>\n      <th>1093</th>\n      <td>2013-12-29</td>\n      <td>1170.310059</td>\n    </tr>\n    <tr>\n      <th>1094</th>\n      <td>2013-12-30</td>\n      <td>1152.890015</td>\n    </tr>\n    <tr>\n      <th>1095</th>\n      <td>2013-12-31</td>\n      <td>1152.890015</td>\n    </tr>\n  </tbody>\n</table>\n<p>1096 rows × 2 columns</p>\n</div>"
     },
     "metadata": {},
     "execution_count": 40
    }
   ],
   "source": [
    "data_booking = pd.read_csv('data/yahoo-booking.csv')\n",
    "data_booking = data_booking.drop(['Open', 'High', 'Low', 'Close', 'Volume'], axis=1)\n",
    "data_booking = data_booking.rename(columns={'Adj Close' : 'booking', 'Date' : date_key})\n",
    "data_booking.loc[:, date_key] = pd.to_datetime(data_booking.loc[:, date_key])\n",
    "data_booking = dates_df.merge(data_booking, how='left', on=date_key)\n",
    "data_booking.loc[:, 'booking'] = data_booking.loc[:, 'booking'].fillna(method='pad')\n",
    "data_booking.loc[:, 'booking'] = data_booking.loc[:, 'booking'].fillna(method='bfill')\n",
    "data_booking\n",
    "### CELUI LA EST OK, A MERGER"
   ]
  },
  {
   "cell_type": "code",
   "execution_count": 41,
   "metadata": {},
   "outputs": [
    {
     "output_type": "execute_result",
     "data": {
      "text/plain": [
       "     Purchase Date      delta\n",
       "0       2011-01-01  10.641194\n",
       "1       2011-01-02  10.641194\n",
       "2       2011-01-03  10.641194\n",
       "3       2011-01-04  10.641194\n",
       "4       2011-01-05  10.641194\n",
       "...            ...        ...\n",
       "1091    2013-12-27  24.132402\n",
       "1092    2013-12-28  24.132402\n",
       "1093    2013-12-29  24.132402\n",
       "1094    2013-12-30  24.275255\n",
       "1095    2013-12-31  24.275255\n",
       "\n",
       "[1096 rows x 2 columns]"
      ],
      "text/html": "<div>\n<style scoped>\n    .dataframe tbody tr th:only-of-type {\n        vertical-align: middle;\n    }\n\n    .dataframe tbody tr th {\n        vertical-align: top;\n    }\n\n    .dataframe thead th {\n        text-align: right;\n    }\n</style>\n<table border=\"1\" class=\"dataframe\">\n  <thead>\n    <tr style=\"text-align: right;\">\n      <th></th>\n      <th>Purchase Date</th>\n      <th>delta</th>\n    </tr>\n  </thead>\n  <tbody>\n    <tr>\n      <th>0</th>\n      <td>2011-01-01</td>\n      <td>10.641194</td>\n    </tr>\n    <tr>\n      <th>1</th>\n      <td>2011-01-02</td>\n      <td>10.641194</td>\n    </tr>\n    <tr>\n      <th>2</th>\n      <td>2011-01-03</td>\n      <td>10.641194</td>\n    </tr>\n    <tr>\n      <th>3</th>\n      <td>2011-01-04</td>\n      <td>10.641194</td>\n    </tr>\n    <tr>\n      <th>4</th>\n      <td>2011-01-05</td>\n      <td>10.641194</td>\n    </tr>\n    <tr>\n      <th>...</th>\n      <td>...</td>\n      <td>...</td>\n    </tr>\n    <tr>\n      <th>1091</th>\n      <td>2013-12-27</td>\n      <td>24.132402</td>\n    </tr>\n    <tr>\n      <th>1092</th>\n      <td>2013-12-28</td>\n      <td>24.132402</td>\n    </tr>\n    <tr>\n      <th>1093</th>\n      <td>2013-12-29</td>\n      <td>24.132402</td>\n    </tr>\n    <tr>\n      <th>1094</th>\n      <td>2013-12-30</td>\n      <td>24.275255</td>\n    </tr>\n    <tr>\n      <th>1095</th>\n      <td>2013-12-31</td>\n      <td>24.275255</td>\n    </tr>\n  </tbody>\n</table>\n<p>1096 rows × 2 columns</p>\n</div>"
     },
     "metadata": {},
     "execution_count": 41
    }
   ],
   "source": [
    "data_delta = pd.read_csv('data/yahoo-delta.csv')\n",
    "data_delta = data_delta.drop(['Open', 'High', 'Low', 'Close', 'Volume'], axis=1)\n",
    "data_delta = data_delta.rename(columns={'Adj Close' : 'delta', 'Date' : date_key})\n",
    "data_delta.loc[:, date_key] = pd.to_datetime(data_delta.loc[:, date_key])\n",
    "data_delta = dates_df.merge(data_delta, how='left', on=date_key)\n",
    "data_delta.loc[:, 'delta'] = data_delta.loc[:, 'delta'].fillna(method='pad')\n",
    "data_delta.loc[:, 'delta'] = data_delta.loc[:, 'delta'].fillna(method='bfill')\n",
    "data_delta\n",
    "### CELUI LA EST OK, A MERGER"
   ]
  },
  {
   "cell_type": "code",
   "execution_count": 42,
   "metadata": {},
   "outputs": [
    {
     "output_type": "error",
     "ename": "KeyError",
     "evalue": "'Purchase Date'",
     "traceback": [
      "\u001b[1;31m---------------------------------------------------------------------------\u001b[0m",
      "\u001b[1;31mKeyError\u001b[0m                                  Traceback (most recent call last)",
      "\u001b[1;32m<ipython-input-42-e7d92cc19db5>\u001b[0m in \u001b[0;36m<module>\u001b[1;34m\u001b[0m\n\u001b[1;32m----> 1\u001b[1;33m \u001b[0mfull_df\u001b[0m \u001b[1;33m=\u001b[0m \u001b[0mfull_df\u001b[0m\u001b[1;33m.\u001b[0m\u001b[0mmerge\u001b[0m\u001b[1;33m(\u001b[0m\u001b[0mdata_AA\u001b[0m\u001b[1;33m,\u001b[0m \u001b[0mhow\u001b[0m\u001b[1;33m=\u001b[0m\u001b[1;34m'left'\u001b[0m\u001b[1;33m,\u001b[0m \u001b[0mon\u001b[0m\u001b[1;33m=\u001b[0m\u001b[0mdate_key\u001b[0m\u001b[1;33m)\u001b[0m\u001b[1;33m\u001b[0m\u001b[1;33m\u001b[0m\u001b[0m\n\u001b[0m\u001b[0;32m      2\u001b[0m \u001b[0mfull_df\u001b[0m \u001b[1;33m=\u001b[0m \u001b[0mfull_df\u001b[0m\u001b[1;33m.\u001b[0m\u001b[0mmerge\u001b[0m\u001b[1;33m(\u001b[0m\u001b[0mdata_delta\u001b[0m\u001b[1;33m,\u001b[0m \u001b[0mhow\u001b[0m\u001b[1;33m=\u001b[0m\u001b[1;34m'left'\u001b[0m\u001b[1;33m,\u001b[0m \u001b[0mon\u001b[0m\u001b[1;33m=\u001b[0m\u001b[0mdate_key\u001b[0m\u001b[1;33m)\u001b[0m\u001b[1;33m\u001b[0m\u001b[1;33m\u001b[0m\u001b[0m\n\u001b[0;32m      3\u001b[0m \u001b[0mfull_df\u001b[0m \u001b[1;33m=\u001b[0m \u001b[0mfull_df\u001b[0m\u001b[1;33m.\u001b[0m\u001b[0mmerge\u001b[0m\u001b[1;33m(\u001b[0m\u001b[0mdata_booking\u001b[0m\u001b[1;33m,\u001b[0m \u001b[0mhow\u001b[0m\u001b[1;33m=\u001b[0m\u001b[1;34m'left'\u001b[0m\u001b[1;33m,\u001b[0m \u001b[0mon\u001b[0m\u001b[1;33m=\u001b[0m\u001b[0mdate_key\u001b[0m\u001b[1;33m)\u001b[0m\u001b[1;33m\u001b[0m\u001b[1;33m\u001b[0m\u001b[0m\n\u001b[0;32m      4\u001b[0m \u001b[0mfull_df\u001b[0m\u001b[1;33m\u001b[0m\u001b[1;33m\u001b[0m\u001b[0m\n",
      "\u001b[1;32mC:\\ProgramData\\Anaconda3\\lib\\site-packages\\pandas\\core\\frame.py\u001b[0m in \u001b[0;36mmerge\u001b[1;34m(self, right, how, on, left_on, right_on, left_index, right_index, sort, suffixes, copy, indicator, validate)\u001b[0m\n\u001b[0;32m   7944\u001b[0m         \u001b[1;32mfrom\u001b[0m \u001b[0mpandas\u001b[0m\u001b[1;33m.\u001b[0m\u001b[0mcore\u001b[0m\u001b[1;33m.\u001b[0m\u001b[0mreshape\u001b[0m\u001b[1;33m.\u001b[0m\u001b[0mmerge\u001b[0m \u001b[1;32mimport\u001b[0m \u001b[0mmerge\u001b[0m\u001b[1;33m\u001b[0m\u001b[1;33m\u001b[0m\u001b[0m\n\u001b[0;32m   7945\u001b[0m \u001b[1;33m\u001b[0m\u001b[0m\n\u001b[1;32m-> 7946\u001b[1;33m         return merge(\n\u001b[0m\u001b[0;32m   7947\u001b[0m             \u001b[0mself\u001b[0m\u001b[1;33m,\u001b[0m\u001b[1;33m\u001b[0m\u001b[1;33m\u001b[0m\u001b[0m\n\u001b[0;32m   7948\u001b[0m             \u001b[0mright\u001b[0m\u001b[1;33m,\u001b[0m\u001b[1;33m\u001b[0m\u001b[1;33m\u001b[0m\u001b[0m\n",
      "\u001b[1;32mC:\\ProgramData\\Anaconda3\\lib\\site-packages\\pandas\\core\\reshape\\merge.py\u001b[0m in \u001b[0;36mmerge\u001b[1;34m(left, right, how, on, left_on, right_on, left_index, right_index, sort, suffixes, copy, indicator, validate)\u001b[0m\n\u001b[0;32m     72\u001b[0m     \u001b[0mvalidate\u001b[0m\u001b[1;33m=\u001b[0m\u001b[1;32mNone\u001b[0m\u001b[1;33m,\u001b[0m\u001b[1;33m\u001b[0m\u001b[1;33m\u001b[0m\u001b[0m\n\u001b[0;32m     73\u001b[0m ) -> \"DataFrame\":\n\u001b[1;32m---> 74\u001b[1;33m     op = _MergeOperation(\n\u001b[0m\u001b[0;32m     75\u001b[0m         \u001b[0mleft\u001b[0m\u001b[1;33m,\u001b[0m\u001b[1;33m\u001b[0m\u001b[1;33m\u001b[0m\u001b[0m\n\u001b[0;32m     76\u001b[0m         \u001b[0mright\u001b[0m\u001b[1;33m,\u001b[0m\u001b[1;33m\u001b[0m\u001b[1;33m\u001b[0m\u001b[0m\n",
      "\u001b[1;32mC:\\ProgramData\\Anaconda3\\lib\\site-packages\\pandas\\core\\reshape\\merge.py\u001b[0m in \u001b[0;36m__init__\u001b[1;34m(self, left, right, how, on, left_on, right_on, axis, left_index, right_index, sort, suffixes, copy, indicator, validate)\u001b[0m\n\u001b[0;32m    650\u001b[0m             \u001b[0mself\u001b[0m\u001b[1;33m.\u001b[0m\u001b[0mright_join_keys\u001b[0m\u001b[1;33m,\u001b[0m\u001b[1;33m\u001b[0m\u001b[1;33m\u001b[0m\u001b[0m\n\u001b[0;32m    651\u001b[0m             \u001b[0mself\u001b[0m\u001b[1;33m.\u001b[0m\u001b[0mjoin_names\u001b[0m\u001b[1;33m,\u001b[0m\u001b[1;33m\u001b[0m\u001b[1;33m\u001b[0m\u001b[0m\n\u001b[1;32m--> 652\u001b[1;33m         ) = self._get_merge_keys()\n\u001b[0m\u001b[0;32m    653\u001b[0m \u001b[1;33m\u001b[0m\u001b[0m\n\u001b[0;32m    654\u001b[0m         \u001b[1;31m# validate the merge keys dtypes. We may need to coerce\u001b[0m\u001b[1;33m\u001b[0m\u001b[1;33m\u001b[0m\u001b[1;33m\u001b[0m\u001b[0m\n",
      "\u001b[1;32mC:\\ProgramData\\Anaconda3\\lib\\site-packages\\pandas\\core\\reshape\\merge.py\u001b[0m in \u001b[0;36m_get_merge_keys\u001b[1;34m(self)\u001b[0m\n\u001b[0;32m   1016\u001b[0m                         \u001b[0mright_keys\u001b[0m\u001b[1;33m.\u001b[0m\u001b[0mappend\u001b[0m\u001b[1;33m(\u001b[0m\u001b[0mrk\u001b[0m\u001b[1;33m)\u001b[0m\u001b[1;33m\u001b[0m\u001b[1;33m\u001b[0m\u001b[0m\n\u001b[0;32m   1017\u001b[0m                     \u001b[1;32mif\u001b[0m \u001b[0mlk\u001b[0m \u001b[1;32mis\u001b[0m \u001b[1;32mnot\u001b[0m \u001b[1;32mNone\u001b[0m\u001b[1;33m:\u001b[0m\u001b[1;33m\u001b[0m\u001b[1;33m\u001b[0m\u001b[0m\n\u001b[1;32m-> 1018\u001b[1;33m                         \u001b[0mleft_keys\u001b[0m\u001b[1;33m.\u001b[0m\u001b[0mappend\u001b[0m\u001b[1;33m(\u001b[0m\u001b[0mleft\u001b[0m\u001b[1;33m.\u001b[0m\u001b[0m_get_label_or_level_values\u001b[0m\u001b[1;33m(\u001b[0m\u001b[0mlk\u001b[0m\u001b[1;33m)\u001b[0m\u001b[1;33m)\u001b[0m\u001b[1;33m\u001b[0m\u001b[1;33m\u001b[0m\u001b[0m\n\u001b[0m\u001b[0;32m   1019\u001b[0m                         \u001b[0mjoin_names\u001b[0m\u001b[1;33m.\u001b[0m\u001b[0mappend\u001b[0m\u001b[1;33m(\u001b[0m\u001b[0mlk\u001b[0m\u001b[1;33m)\u001b[0m\u001b[1;33m\u001b[0m\u001b[1;33m\u001b[0m\u001b[0m\n\u001b[0;32m   1020\u001b[0m                     \u001b[1;32melse\u001b[0m\u001b[1;33m:\u001b[0m\u001b[1;33m\u001b[0m\u001b[1;33m\u001b[0m\u001b[0m\n",
      "\u001b[1;32mC:\\ProgramData\\Anaconda3\\lib\\site-packages\\pandas\\core\\generic.py\u001b[0m in \u001b[0;36m_get_label_or_level_values\u001b[1;34m(self, key, axis)\u001b[0m\n\u001b[0;32m   1561\u001b[0m             \u001b[0mvalues\u001b[0m \u001b[1;33m=\u001b[0m \u001b[0mself\u001b[0m\u001b[1;33m.\u001b[0m\u001b[0maxes\u001b[0m\u001b[1;33m[\u001b[0m\u001b[0maxis\u001b[0m\u001b[1;33m]\u001b[0m\u001b[1;33m.\u001b[0m\u001b[0mget_level_values\u001b[0m\u001b[1;33m(\u001b[0m\u001b[0mkey\u001b[0m\u001b[1;33m)\u001b[0m\u001b[1;33m.\u001b[0m\u001b[0m_values\u001b[0m\u001b[1;33m\u001b[0m\u001b[1;33m\u001b[0m\u001b[0m\n\u001b[0;32m   1562\u001b[0m         \u001b[1;32melse\u001b[0m\u001b[1;33m:\u001b[0m\u001b[1;33m\u001b[0m\u001b[1;33m\u001b[0m\u001b[0m\n\u001b[1;32m-> 1563\u001b[1;33m             \u001b[1;32mraise\u001b[0m \u001b[0mKeyError\u001b[0m\u001b[1;33m(\u001b[0m\u001b[0mkey\u001b[0m\u001b[1;33m)\u001b[0m\u001b[1;33m\u001b[0m\u001b[1;33m\u001b[0m\u001b[0m\n\u001b[0m\u001b[0;32m   1564\u001b[0m \u001b[1;33m\u001b[0m\u001b[0m\n\u001b[0;32m   1565\u001b[0m         \u001b[1;31m# Check for duplicates\u001b[0m\u001b[1;33m\u001b[0m\u001b[1;33m\u001b[0m\u001b[1;33m\u001b[0m\u001b[0m\n",
      "\u001b[1;31mKeyError\u001b[0m: 'Purchase Date'"
     ]
    }
   ],
   "source": [
    "full_df = full_df.merge(data_AA, how='left', on=date_key)\n",
    "full_df = full_df.merge(data_delta, how='left', on=date_key)\n",
    "full_df = full_df.merge(data_booking, how='left', on=date_key)\n",
    "full_df"
   ]
  },
  {
   "cell_type": "code",
   "execution_count": 42,
   "metadata": {},
   "outputs": [],
   "source": [
    "full_df['domestic_dep_month_vol'] = full_df['domestic_dep_month_vol'].fillna(full_df['domestic_dep_month_vol'].mean())\n",
    "full_df['internat_dep_month_vol'] = full_df['internat_dep_month_vol'].fillna(full_df['internat_dep_month_vol'].mean())\n",
    "full_df['total_dep_month_vol'] = full_df['total_dep_month_vol'].fillna(full_df['total_dep_month_vol'].mean())\n",
    "full_df['weekday'] = full_df['DateOfDeparture'].dt.weekday"
   ]
  },
  {
   "cell_type": "code",
   "execution_count": 43,
   "metadata": {},
   "outputs": [],
   "source": [
    "full_df = full_df.drop(columns=[\"week\", \"day\"])\n",
    "\n",
    "if lag:\n",
    "    full_df = full_df.drop(columns=[\"Purchase Date\", \"p_year\", \"p_month\", \"p_week\", \"p_day\"])"
   ]
  },
  {
   "cell_type": "code",
   "execution_count": 44,
   "metadata": {},
   "outputs": [
    {
     "output_type": "stream",
     "name": "stdout",
     "text": [
      "<class 'pandas.core.frame.DataFrame'>\nInt64Index: 220800 entries, 0 to 220799\nData columns (total 18 columns):\n #   Column                         Non-Null Count   Dtype         \n---  ------                         --------------   -----         \n 0   DateOfDeparture                220800 non-null  datetime64[ns]\n 1   Departure                      220800 non-null  object        \n 2   Arrival                        220800 non-null  object        \n 3   Flight baseline frequentation  220800 non-null  float64       \n 4   weekly_volume                  220800 non-null  float64       \n 5   Holiday                        220800 non-null  float64       \n 6   population_departure           220800 non-null  float64       \n 7   density_departure              220800 non-null  float64       \n 8   population_arrival             220800 non-null  float64       \n 9   density_arrival                220800 non-null  float64       \n 10  distance                       220800 non-null  float64       \n 11  domestic_dep_month_vol         220800 non-null  float64       \n 12  internat_dep_month_vol         220800 non-null  float64       \n 13  total_dep_month_vol            220800 non-null  float64       \n 14  a_airlines                     220800 non-null  float64       \n 15  delta                          220800 non-null  float64       \n 16  booking                        220800 non-null  float64       \n 17  weekday                        220800 non-null  int64         \ndtypes: datetime64[ns](1), float64(14), int64(1), object(2)\nmemory usage: 32.0+ MB\n"
     ]
    }
   ],
   "source": [
    "full_df.info()"
   ]
  },
  {
   "cell_type": "code",
   "execution_count": 45,
   "metadata": {},
   "outputs": [],
   "source": [
    "full_df.to_csv('data/multi_sources6.csv', index=False)\n",
    "full_df.to_csv('external_data.csv', index=False)"
   ]
  },
  {
   "cell_type": "code",
   "execution_count": 46,
   "metadata": {},
   "outputs": [
    {
     "output_type": "stream",
     "name": "stdout",
     "text": [
      "Index(['DateOfDeparture', 'Departure', 'Arrival',\n       'Flight baseline frequentation', 'weekly_volume', 'Holiday',\n       'population_departure', 'density_departure', 'population_arrival',\n       'density_arrival', 'distance', 'domestic_dep_month_vol',\n       'internat_dep_month_vol', 'total_dep_month_vol', 'a_airlines', 'delta',\n       'booking', 'weekday'],\n      dtype='object')\n"
     ]
    }
   ],
   "source": [
    "print(full_df.columns)"
   ]
  },
  {
   "cell_type": "code",
   "execution_count": null,
   "metadata": {},
   "outputs": [],
   "source": []
  }
 ]
}