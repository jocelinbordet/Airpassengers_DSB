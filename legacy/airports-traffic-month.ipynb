{
 "metadata": {
  "language_info": {
   "codemirror_mode": {
    "name": "ipython",
    "version": 3
   },
   "file_extension": ".py",
   "mimetype": "text/x-python",
   "name": "python",
   "nbconvert_exporter": "python",
   "pygments_lexer": "ipython3",
   "version": "3.8.3-final"
  },
  "orig_nbformat": 2,
  "kernelspec": {
   "name": "python3",
   "display_name": "Python 3"
  }
 },
 "nbformat": 4,
 "nbformat_minor": 2,
 "cells": [
  {
   "cell_type": "code",
   "execution_count": 15,
   "metadata": {},
   "outputs": [],
   "source": [
    "import pandas as pd"
   ]
  },
  {
   "cell_type": "code",
   "execution_count": 1,
   "metadata": {},
   "outputs": [],
   "source": [
    "cities = ['Atlanta', 'Boston', 'Chicago', 'Charlotte', 'Dallas-Fort Worth', 'Denver', 'Detroit', 'Houston', 'Las Vegas', 'Los Angeles', 'Miami', 'Minneapolis', 'Orlando', 'Philadelphia', 'Phoenix', 'San Francisco', 'New York', 'Seattle', 'Newark']"
   ]
  },
  {
   "cell_type": "code",
   "execution_count": 24,
   "metadata": {},
   "outputs": [],
   "source": [
    "df = pd.read_csv('data/airports-passengers-month.csv', sep=';')"
   ]
  },
  {
   "cell_type": "code",
   "execution_count": 25,
   "metadata": {},
   "outputs": [
    {
     "output_type": "execute_result",
     "data": {
      "text/plain": [
       "     City_departure  Year  Month  DOMESTIC  INTERNATIONAL    TOTAL\n",
       "0           Atlanta  2007      1   2744136         332738  3076874\n",
       "1           Atlanta  2007      2   2642977         302883  2945860\n",
       "2           Atlanta  2007      3   3347887         393886  3741773\n",
       "3           Atlanta  2007      4   3222845          34874  3571585\n",
       "4           Atlanta  2007      5   3318869         387551  3706420\n",
       "...             ...   ...    ...       ...            ...      ...\n",
       "2275        Seattle  2016      8   2057429         240776  2298205\n",
       "2276        Seattle  2016      9   1679948         209161  1889109\n",
       "2277        Seattle  2016     10   1586543         190751  1777294\n",
       "2278        Seattle  2016     11   1510143         170829  1680972\n",
       "2279        Seattle  2016     12   1574435         211415  1785850\n",
       "\n",
       "[2280 rows x 6 columns]"
      ],
      "text/html": "<div>\n<style scoped>\n    .dataframe tbody tr th:only-of-type {\n        vertical-align: middle;\n    }\n\n    .dataframe tbody tr th {\n        vertical-align: top;\n    }\n\n    .dataframe thead th {\n        text-align: right;\n    }\n</style>\n<table border=\"1\" class=\"dataframe\">\n  <thead>\n    <tr style=\"text-align: right;\">\n      <th></th>\n      <th>City_departure</th>\n      <th>Year</th>\n      <th>Month</th>\n      <th>DOMESTIC</th>\n      <th>INTERNATIONAL</th>\n      <th>TOTAL</th>\n    </tr>\n  </thead>\n  <tbody>\n    <tr>\n      <th>0</th>\n      <td>Atlanta</td>\n      <td>2007</td>\n      <td>1</td>\n      <td>2744136</td>\n      <td>332738</td>\n      <td>3076874</td>\n    </tr>\n    <tr>\n      <th>1</th>\n      <td>Atlanta</td>\n      <td>2007</td>\n      <td>2</td>\n      <td>2642977</td>\n      <td>302883</td>\n      <td>2945860</td>\n    </tr>\n    <tr>\n      <th>2</th>\n      <td>Atlanta</td>\n      <td>2007</td>\n      <td>3</td>\n      <td>3347887</td>\n      <td>393886</td>\n      <td>3741773</td>\n    </tr>\n    <tr>\n      <th>3</th>\n      <td>Atlanta</td>\n      <td>2007</td>\n      <td>4</td>\n      <td>3222845</td>\n      <td>34874</td>\n      <td>3571585</td>\n    </tr>\n    <tr>\n      <th>4</th>\n      <td>Atlanta</td>\n      <td>2007</td>\n      <td>5</td>\n      <td>3318869</td>\n      <td>387551</td>\n      <td>3706420</td>\n    </tr>\n    <tr>\n      <th>...</th>\n      <td>...</td>\n      <td>...</td>\n      <td>...</td>\n      <td>...</td>\n      <td>...</td>\n      <td>...</td>\n    </tr>\n    <tr>\n      <th>2275</th>\n      <td>Seattle</td>\n      <td>2016</td>\n      <td>8</td>\n      <td>2057429</td>\n      <td>240776</td>\n      <td>2298205</td>\n    </tr>\n    <tr>\n      <th>2276</th>\n      <td>Seattle</td>\n      <td>2016</td>\n      <td>9</td>\n      <td>1679948</td>\n      <td>209161</td>\n      <td>1889109</td>\n    </tr>\n    <tr>\n      <th>2277</th>\n      <td>Seattle</td>\n      <td>2016</td>\n      <td>10</td>\n      <td>1586543</td>\n      <td>190751</td>\n      <td>1777294</td>\n    </tr>\n    <tr>\n      <th>2278</th>\n      <td>Seattle</td>\n      <td>2016</td>\n      <td>11</td>\n      <td>1510143</td>\n      <td>170829</td>\n      <td>1680972</td>\n    </tr>\n    <tr>\n      <th>2279</th>\n      <td>Seattle</td>\n      <td>2016</td>\n      <td>12</td>\n      <td>1574435</td>\n      <td>211415</td>\n      <td>1785850</td>\n    </tr>\n  </tbody>\n</table>\n<p>2280 rows × 6 columns</p>\n</div>"
     },
     "metadata": {},
     "execution_count": 25
    }
   ],
   "source": [
    "df"
   ]
  },
  {
   "cell_type": "code",
   "execution_count": null,
   "metadata": {},
   "outputs": [],
   "source": []
  }
 ]
}