{
 "metadata": {
  "language_info": {
   "codemirror_mode": {
    "name": "ipython",
    "version": 3
   },
   "file_extension": ".py",
   "mimetype": "text/x-python",
   "name": "python",
   "nbconvert_exporter": "python",
   "pygments_lexer": "ipython3",
   "version": "3.8.3-final"
  },
  "orig_nbformat": 2,
  "kernelspec": {
   "name": "python3",
   "display_name": "Python 3"
  }
 },
 "nbformat": 4,
 "nbformat_minor": 2,
 "cells": [
  {
   "cell_type": "code",
   "execution_count": 1,
   "metadata": {},
   "outputs": [],
   "source": [
    "import pandas as pd"
   ]
  },
  {
   "cell_type": "code",
   "execution_count": 2,
   "metadata": {},
   "outputs": [],
   "source": [
    "df = pd.read_csv('data/usholidays.csv')"
   ]
  },
  {
   "cell_type": "code",
   "execution_count": 8,
   "metadata": {},
   "outputs": [],
   "source": [
    "df['Date'] = pd.to_datetime(df['Date'])\n",
    "df['year'] = df['Date'].dt.year\n",
    "df['month'] = df['Date'].dt.month\n",
    "df['weekday'] = df['Date'].dt.weekday\n",
    "df['day'] = df['Date'].dt.day"
   ]
  },
  {
   "cell_type": "code",
   "execution_count": 15,
   "metadata": {},
   "outputs": [],
   "source": [
    "df['is_holiday'] = 1"
   ]
  },
  {
   "cell_type": "code",
   "execution_count": 16,
   "metadata": {},
   "outputs": [
    {
     "output_type": "execute_result",
     "data": {
      "text/plain": [
       "     Unnamed: 0       Date                              Holiday  year  month  \\\n",
       "0             0 2010-12-31                       New Year's Day  2010     12   \n",
       "1             1 2011-01-17  Birthday of Martin Luther King, Jr.  2011      1   \n",
       "2             2 2011-02-21                Washington's Birthday  2011      2   \n",
       "3             3 2011-05-30                         Memorial Day  2011      5   \n",
       "4             4 2011-07-04                     Independence Day  2011      7   \n",
       "..          ...        ...                                  ...   ...    ...   \n",
       "480         480 1966-09-05                            Labor Day  1966      9   \n",
       "481         481 1966-10-12                         Columbus Day  1966     10   \n",
       "482         482 1966-11-11                         Veterans Day  1966     11   \n",
       "483         483 1966-11-24                     Thanksgiving Day  1966     11   \n",
       "484         484 1966-12-25                        Christmas Day  1966     12   \n",
       "\n",
       "     weekday  day  is_holiday  \n",
       "0          4   31           1  \n",
       "1          0   17           1  \n",
       "2          0   21           1  \n",
       "3          0   30           1  \n",
       "4          0    4           1  \n",
       "..       ...  ...         ...  \n",
       "480        0    5           1  \n",
       "481        2   12           1  \n",
       "482        4   11           1  \n",
       "483        3   24           1  \n",
       "484        6   25           1  \n",
       "\n",
       "[485 rows x 8 columns]"
      ],
      "text/html": "<div>\n<style scoped>\n    .dataframe tbody tr th:only-of-type {\n        vertical-align: middle;\n    }\n\n    .dataframe tbody tr th {\n        vertical-align: top;\n    }\n\n    .dataframe thead th {\n        text-align: right;\n    }\n</style>\n<table border=\"1\" class=\"dataframe\">\n  <thead>\n    <tr style=\"text-align: right;\">\n      <th></th>\n      <th>Unnamed: 0</th>\n      <th>Date</th>\n      <th>Holiday</th>\n      <th>year</th>\n      <th>month</th>\n      <th>weekday</th>\n      <th>day</th>\n      <th>is_holiday</th>\n    </tr>\n  </thead>\n  <tbody>\n    <tr>\n      <th>0</th>\n      <td>0</td>\n      <td>2010-12-31</td>\n      <td>New Year's Day</td>\n      <td>2010</td>\n      <td>12</td>\n      <td>4</td>\n      <td>31</td>\n      <td>1</td>\n    </tr>\n    <tr>\n      <th>1</th>\n      <td>1</td>\n      <td>2011-01-17</td>\n      <td>Birthday of Martin Luther King, Jr.</td>\n      <td>2011</td>\n      <td>1</td>\n      <td>0</td>\n      <td>17</td>\n      <td>1</td>\n    </tr>\n    <tr>\n      <th>2</th>\n      <td>2</td>\n      <td>2011-02-21</td>\n      <td>Washington's Birthday</td>\n      <td>2011</td>\n      <td>2</td>\n      <td>0</td>\n      <td>21</td>\n      <td>1</td>\n    </tr>\n    <tr>\n      <th>3</th>\n      <td>3</td>\n      <td>2011-05-30</td>\n      <td>Memorial Day</td>\n      <td>2011</td>\n      <td>5</td>\n      <td>0</td>\n      <td>30</td>\n      <td>1</td>\n    </tr>\n    <tr>\n      <th>4</th>\n      <td>4</td>\n      <td>2011-07-04</td>\n      <td>Independence Day</td>\n      <td>2011</td>\n      <td>7</td>\n      <td>0</td>\n      <td>4</td>\n      <td>1</td>\n    </tr>\n    <tr>\n      <th>...</th>\n      <td>...</td>\n      <td>...</td>\n      <td>...</td>\n      <td>...</td>\n      <td>...</td>\n      <td>...</td>\n      <td>...</td>\n      <td>...</td>\n    </tr>\n    <tr>\n      <th>480</th>\n      <td>480</td>\n      <td>1966-09-05</td>\n      <td>Labor Day</td>\n      <td>1966</td>\n      <td>9</td>\n      <td>0</td>\n      <td>5</td>\n      <td>1</td>\n    </tr>\n    <tr>\n      <th>481</th>\n      <td>481</td>\n      <td>1966-10-12</td>\n      <td>Columbus Day</td>\n      <td>1966</td>\n      <td>10</td>\n      <td>2</td>\n      <td>12</td>\n      <td>1</td>\n    </tr>\n    <tr>\n      <th>482</th>\n      <td>482</td>\n      <td>1966-11-11</td>\n      <td>Veterans Day</td>\n      <td>1966</td>\n      <td>11</td>\n      <td>4</td>\n      <td>11</td>\n      <td>1</td>\n    </tr>\n    <tr>\n      <th>483</th>\n      <td>483</td>\n      <td>1966-11-24</td>\n      <td>Thanksgiving Day</td>\n      <td>1966</td>\n      <td>11</td>\n      <td>3</td>\n      <td>24</td>\n      <td>1</td>\n    </tr>\n    <tr>\n      <th>484</th>\n      <td>484</td>\n      <td>1966-12-25</td>\n      <td>Christmas Day</td>\n      <td>1966</td>\n      <td>12</td>\n      <td>6</td>\n      <td>25</td>\n      <td>1</td>\n    </tr>\n  </tbody>\n</table>\n<p>485 rows × 8 columns</p>\n</div>"
     },
     "metadata": {},
     "execution_count": 16
    }
   ],
   "source": [
    "df"
   ]
  },
  {
   "cell_type": "code",
   "execution_count": 21,
   "metadata": {},
   "outputs": [],
   "source": [
    "df = df[df.year >= 2009]\n",
    "df = df[df.year <= 2015]"
   ]
  },
  {
   "cell_type": "code",
   "execution_count": 24,
   "metadata": {},
   "outputs": [],
   "source": [
    "df = df.drop(['Holiday', 'Unnamed: 0'], axis=1)"
   ]
  },
  {
   "cell_type": "code",
   "execution_count": 25,
   "metadata": {},
   "outputs": [
    {
     "output_type": "execute_result",
     "data": {
      "text/plain": [
       "          Date  year  month  weekday  day  is_holiday\n",
       "0   2010-12-31  2010     12        4   31           1\n",
       "1   2011-01-17  2011      1        0   17           1\n",
       "2   2011-02-21  2011      2        0   21           1\n",
       "3   2011-05-30  2011      5        0   30           1\n",
       "4   2011-07-04  2011      7        0    4           1\n",
       "5   2011-09-05  2011      9        0    5           1\n",
       "6   2011-10-10  2011     10        0   10           1\n",
       "7   2011-11-11  2011     11        4   11           1\n",
       "8   2011-11-24  2011     11        3   24           1\n",
       "9   2011-12-26  2011     12        0   26           1\n",
       "10  2012-01-02  2012      1        0    2           1\n",
       "11  2012-01-16  2012      1        0   16           1\n",
       "12  2012-02-20  2012      2        0   20           1\n",
       "13  2012-05-28  2012      5        0   28           1\n",
       "14  2012-07-04  2012      7        2    4           1\n",
       "15  2012-09-03  2012      9        0    3           1\n",
       "16  2012-10-08  2012     10        0    8           1\n",
       "17  2012-11-12  2012     11        0   12           1\n",
       "18  2012-11-22  2012     11        3   22           1\n",
       "19  2012-12-25  2012     12        1   25           1\n",
       "20  2013-01-01  2013      1        1    1           1\n",
       "21  2013-01-21  2013      1        0   21           1\n",
       "22  2013-02-18  2013      2        0   18           1\n",
       "23  2013-05-27  2013      5        0   27           1\n",
       "24  2013-07-04  2013      7        3    4           1\n",
       "25  2013-09-02  2013      9        0    2           1\n",
       "26  2013-10-14  2013     10        0   14           1\n",
       "27  2013-11-11  2013     11        0   11           1\n",
       "28  2013-11-28  2013     11        3   28           1\n",
       "29  2013-12-25  2013     12        2   25           1\n",
       "30  2014-01-01  2014      1        2    1           1\n",
       "31  2014-01-20  2014      1        0   20           1\n",
       "32  2014-02-17  2014      2        0   17           1\n",
       "33  2014-05-26  2014      5        0   26           1\n",
       "34  2014-07-04  2014      7        4    4           1\n",
       "35  2014-09-01  2014      9        0    1           1\n",
       "36  2014-10-13  2014     10        0   13           1\n",
       "37  2014-11-11  2014     11        1   11           1\n",
       "38  2014-11-27  2014     11        3   27           1\n",
       "39  2014-12-25  2014     12        3   25           1\n",
       "40  2015-01-01  2015      1        3    1           1\n",
       "41  2015-01-19  2015      1        0   19           1\n",
       "42  2015-02-16  2015      2        0   16           1\n",
       "43  2015-05-25  2015      5        0   25           1\n",
       "44  2015-07-03  2015      7        4    3           1\n",
       "45  2015-09-07  2015      9        0    7           1\n",
       "46  2015-10-12  2015     10        0   12           1\n",
       "47  2015-11-11  2015     11        2   11           1\n",
       "48  2015-11-26  2015     11        3   26           1\n",
       "49  2015-12-25  2015     12        4   25           1\n",
       "100 2010-01-01  2010      1        4    1           1\n",
       "101 2010-01-18  2010      1        0   18           1\n",
       "102 2010-02-15  2010      2        0   15           1\n",
       "103 2010-05-31  2010      5        0   31           1\n",
       "104 2010-07-05  2010      7        0    5           1\n",
       "105 2010-09-06  2010      9        0    6           1\n",
       "106 2010-10-11  2010     10        0   11           1\n",
       "107 2010-11-11  2010     11        3   11           1\n",
       "108 2010-11-25  2010     11        3   25           1\n",
       "109 2010-12-25  2010     12        5   25           1"
      ],
      "text/html": "<div>\n<style scoped>\n    .dataframe tbody tr th:only-of-type {\n        vertical-align: middle;\n    }\n\n    .dataframe tbody tr th {\n        vertical-align: top;\n    }\n\n    .dataframe thead th {\n        text-align: right;\n    }\n</style>\n<table border=\"1\" class=\"dataframe\">\n  <thead>\n    <tr style=\"text-align: right;\">\n      <th></th>\n      <th>Date</th>\n      <th>year</th>\n      <th>month</th>\n      <th>weekday</th>\n      <th>day</th>\n      <th>is_holiday</th>\n    </tr>\n  </thead>\n  <tbody>\n    <tr>\n      <th>0</th>\n      <td>2010-12-31</td>\n      <td>2010</td>\n      <td>12</td>\n      <td>4</td>\n      <td>31</td>\n      <td>1</td>\n    </tr>\n    <tr>\n      <th>1</th>\n      <td>2011-01-17</td>\n      <td>2011</td>\n      <td>1</td>\n      <td>0</td>\n      <td>17</td>\n      <td>1</td>\n    </tr>\n    <tr>\n      <th>2</th>\n      <td>2011-02-21</td>\n      <td>2011</td>\n      <td>2</td>\n      <td>0</td>\n      <td>21</td>\n      <td>1</td>\n    </tr>\n    <tr>\n      <th>3</th>\n      <td>2011-05-30</td>\n      <td>2011</td>\n      <td>5</td>\n      <td>0</td>\n      <td>30</td>\n      <td>1</td>\n    </tr>\n    <tr>\n      <th>4</th>\n      <td>2011-07-04</td>\n      <td>2011</td>\n      <td>7</td>\n      <td>0</td>\n      <td>4</td>\n      <td>1</td>\n    </tr>\n    <tr>\n      <th>5</th>\n      <td>2011-09-05</td>\n      <td>2011</td>\n      <td>9</td>\n      <td>0</td>\n      <td>5</td>\n      <td>1</td>\n    </tr>\n    <tr>\n      <th>6</th>\n      <td>2011-10-10</td>\n      <td>2011</td>\n      <td>10</td>\n      <td>0</td>\n      <td>10</td>\n      <td>1</td>\n    </tr>\n    <tr>\n      <th>7</th>\n      <td>2011-11-11</td>\n      <td>2011</td>\n      <td>11</td>\n      <td>4</td>\n      <td>11</td>\n      <td>1</td>\n    </tr>\n    <tr>\n      <th>8</th>\n      <td>2011-11-24</td>\n      <td>2011</td>\n      <td>11</td>\n      <td>3</td>\n      <td>24</td>\n      <td>1</td>\n    </tr>\n    <tr>\n      <th>9</th>\n      <td>2011-12-26</td>\n      <td>2011</td>\n      <td>12</td>\n      <td>0</td>\n      <td>26</td>\n      <td>1</td>\n    </tr>\n    <tr>\n      <th>10</th>\n      <td>2012-01-02</td>\n      <td>2012</td>\n      <td>1</td>\n      <td>0</td>\n      <td>2</td>\n      <td>1</td>\n    </tr>\n    <tr>\n      <th>11</th>\n      <td>2012-01-16</td>\n      <td>2012</td>\n      <td>1</td>\n      <td>0</td>\n      <td>16</td>\n      <td>1</td>\n    </tr>\n    <tr>\n      <th>12</th>\n      <td>2012-02-20</td>\n      <td>2012</td>\n      <td>2</td>\n      <td>0</td>\n      <td>20</td>\n      <td>1</td>\n    </tr>\n    <tr>\n      <th>13</th>\n      <td>2012-05-28</td>\n      <td>2012</td>\n      <td>5</td>\n      <td>0</td>\n      <td>28</td>\n      <td>1</td>\n    </tr>\n    <tr>\n      <th>14</th>\n      <td>2012-07-04</td>\n      <td>2012</td>\n      <td>7</td>\n      <td>2</td>\n      <td>4</td>\n      <td>1</td>\n    </tr>\n    <tr>\n      <th>15</th>\n      <td>2012-09-03</td>\n      <td>2012</td>\n      <td>9</td>\n      <td>0</td>\n      <td>3</td>\n      <td>1</td>\n    </tr>\n    <tr>\n      <th>16</th>\n      <td>2012-10-08</td>\n      <td>2012</td>\n      <td>10</td>\n      <td>0</td>\n      <td>8</td>\n      <td>1</td>\n    </tr>\n    <tr>\n      <th>17</th>\n      <td>2012-11-12</td>\n      <td>2012</td>\n      <td>11</td>\n      <td>0</td>\n      <td>12</td>\n      <td>1</td>\n    </tr>\n    <tr>\n      <th>18</th>\n      <td>2012-11-22</td>\n      <td>2012</td>\n      <td>11</td>\n      <td>3</td>\n      <td>22</td>\n      <td>1</td>\n    </tr>\n    <tr>\n      <th>19</th>\n      <td>2012-12-25</td>\n      <td>2012</td>\n      <td>12</td>\n      <td>1</td>\n      <td>25</td>\n      <td>1</td>\n    </tr>\n    <tr>\n      <th>20</th>\n      <td>2013-01-01</td>\n      <td>2013</td>\n      <td>1</td>\n      <td>1</td>\n      <td>1</td>\n      <td>1</td>\n    </tr>\n    <tr>\n      <th>21</th>\n      <td>2013-01-21</td>\n      <td>2013</td>\n      <td>1</td>\n      <td>0</td>\n      <td>21</td>\n      <td>1</td>\n    </tr>\n    <tr>\n      <th>22</th>\n      <td>2013-02-18</td>\n      <td>2013</td>\n      <td>2</td>\n      <td>0</td>\n      <td>18</td>\n      <td>1</td>\n    </tr>\n    <tr>\n      <th>23</th>\n      <td>2013-05-27</td>\n      <td>2013</td>\n      <td>5</td>\n      <td>0</td>\n      <td>27</td>\n      <td>1</td>\n    </tr>\n    <tr>\n      <th>24</th>\n      <td>2013-07-04</td>\n      <td>2013</td>\n      <td>7</td>\n      <td>3</td>\n      <td>4</td>\n      <td>1</td>\n    </tr>\n    <tr>\n      <th>25</th>\n      <td>2013-09-02</td>\n      <td>2013</td>\n      <td>9</td>\n      <td>0</td>\n      <td>2</td>\n      <td>1</td>\n    </tr>\n    <tr>\n      <th>26</th>\n      <td>2013-10-14</td>\n      <td>2013</td>\n      <td>10</td>\n      <td>0</td>\n      <td>14</td>\n      <td>1</td>\n    </tr>\n    <tr>\n      <th>27</th>\n      <td>2013-11-11</td>\n      <td>2013</td>\n      <td>11</td>\n      <td>0</td>\n      <td>11</td>\n      <td>1</td>\n    </tr>\n    <tr>\n      <th>28</th>\n      <td>2013-11-28</td>\n      <td>2013</td>\n      <td>11</td>\n      <td>3</td>\n      <td>28</td>\n      <td>1</td>\n    </tr>\n    <tr>\n      <th>29</th>\n      <td>2013-12-25</td>\n      <td>2013</td>\n      <td>12</td>\n      <td>2</td>\n      <td>25</td>\n      <td>1</td>\n    </tr>\n    <tr>\n      <th>30</th>\n      <td>2014-01-01</td>\n      <td>2014</td>\n      <td>1</td>\n      <td>2</td>\n      <td>1</td>\n      <td>1</td>\n    </tr>\n    <tr>\n      <th>31</th>\n      <td>2014-01-20</td>\n      <td>2014</td>\n      <td>1</td>\n      <td>0</td>\n      <td>20</td>\n      <td>1</td>\n    </tr>\n    <tr>\n      <th>32</th>\n      <td>2014-02-17</td>\n      <td>2014</td>\n      <td>2</td>\n      <td>0</td>\n      <td>17</td>\n      <td>1</td>\n    </tr>\n    <tr>\n      <th>33</th>\n      <td>2014-05-26</td>\n      <td>2014</td>\n      <td>5</td>\n      <td>0</td>\n      <td>26</td>\n      <td>1</td>\n    </tr>\n    <tr>\n      <th>34</th>\n      <td>2014-07-04</td>\n      <td>2014</td>\n      <td>7</td>\n      <td>4</td>\n      <td>4</td>\n      <td>1</td>\n    </tr>\n    <tr>\n      <th>35</th>\n      <td>2014-09-01</td>\n      <td>2014</td>\n      <td>9</td>\n      <td>0</td>\n      <td>1</td>\n      <td>1</td>\n    </tr>\n    <tr>\n      <th>36</th>\n      <td>2014-10-13</td>\n      <td>2014</td>\n      <td>10</td>\n      <td>0</td>\n      <td>13</td>\n      <td>1</td>\n    </tr>\n    <tr>\n      <th>37</th>\n      <td>2014-11-11</td>\n      <td>2014</td>\n      <td>11</td>\n      <td>1</td>\n      <td>11</td>\n      <td>1</td>\n    </tr>\n    <tr>\n      <th>38</th>\n      <td>2014-11-27</td>\n      <td>2014</td>\n      <td>11</td>\n      <td>3</td>\n      <td>27</td>\n      <td>1</td>\n    </tr>\n    <tr>\n      <th>39</th>\n      <td>2014-12-25</td>\n      <td>2014</td>\n      <td>12</td>\n      <td>3</td>\n      <td>25</td>\n      <td>1</td>\n    </tr>\n    <tr>\n      <th>40</th>\n      <td>2015-01-01</td>\n      <td>2015</td>\n      <td>1</td>\n      <td>3</td>\n      <td>1</td>\n      <td>1</td>\n    </tr>\n    <tr>\n      <th>41</th>\n      <td>2015-01-19</td>\n      <td>2015</td>\n      <td>1</td>\n      <td>0</td>\n      <td>19</td>\n      <td>1</td>\n    </tr>\n    <tr>\n      <th>42</th>\n      <td>2015-02-16</td>\n      <td>2015</td>\n      <td>2</td>\n      <td>0</td>\n      <td>16</td>\n      <td>1</td>\n    </tr>\n    <tr>\n      <th>43</th>\n      <td>2015-05-25</td>\n      <td>2015</td>\n      <td>5</td>\n      <td>0</td>\n      <td>25</td>\n      <td>1</td>\n    </tr>\n    <tr>\n      <th>44</th>\n      <td>2015-07-03</td>\n      <td>2015</td>\n      <td>7</td>\n      <td>4</td>\n      <td>3</td>\n      <td>1</td>\n    </tr>\n    <tr>\n      <th>45</th>\n      <td>2015-09-07</td>\n      <td>2015</td>\n      <td>9</td>\n      <td>0</td>\n      <td>7</td>\n      <td>1</td>\n    </tr>\n    <tr>\n      <th>46</th>\n      <td>2015-10-12</td>\n      <td>2015</td>\n      <td>10</td>\n      <td>0</td>\n      <td>12</td>\n      <td>1</td>\n    </tr>\n    <tr>\n      <th>47</th>\n      <td>2015-11-11</td>\n      <td>2015</td>\n      <td>11</td>\n      <td>2</td>\n      <td>11</td>\n      <td>1</td>\n    </tr>\n    <tr>\n      <th>48</th>\n      <td>2015-11-26</td>\n      <td>2015</td>\n      <td>11</td>\n      <td>3</td>\n      <td>26</td>\n      <td>1</td>\n    </tr>\n    <tr>\n      <th>49</th>\n      <td>2015-12-25</td>\n      <td>2015</td>\n      <td>12</td>\n      <td>4</td>\n      <td>25</td>\n      <td>1</td>\n    </tr>\n    <tr>\n      <th>100</th>\n      <td>2010-01-01</td>\n      <td>2010</td>\n      <td>1</td>\n      <td>4</td>\n      <td>1</td>\n      <td>1</td>\n    </tr>\n    <tr>\n      <th>101</th>\n      <td>2010-01-18</td>\n      <td>2010</td>\n      <td>1</td>\n      <td>0</td>\n      <td>18</td>\n      <td>1</td>\n    </tr>\n    <tr>\n      <th>102</th>\n      <td>2010-02-15</td>\n      <td>2010</td>\n      <td>2</td>\n      <td>0</td>\n      <td>15</td>\n      <td>1</td>\n    </tr>\n    <tr>\n      <th>103</th>\n      <td>2010-05-31</td>\n      <td>2010</td>\n      <td>5</td>\n      <td>0</td>\n      <td>31</td>\n      <td>1</td>\n    </tr>\n    <tr>\n      <th>104</th>\n      <td>2010-07-05</td>\n      <td>2010</td>\n      <td>7</td>\n      <td>0</td>\n      <td>5</td>\n      <td>1</td>\n    </tr>\n    <tr>\n      <th>105</th>\n      <td>2010-09-06</td>\n      <td>2010</td>\n      <td>9</td>\n      <td>0</td>\n      <td>6</td>\n      <td>1</td>\n    </tr>\n    <tr>\n      <th>106</th>\n      <td>2010-10-11</td>\n      <td>2010</td>\n      <td>10</td>\n      <td>0</td>\n      <td>11</td>\n      <td>1</td>\n    </tr>\n    <tr>\n      <th>107</th>\n      <td>2010-11-11</td>\n      <td>2010</td>\n      <td>11</td>\n      <td>3</td>\n      <td>11</td>\n      <td>1</td>\n    </tr>\n    <tr>\n      <th>108</th>\n      <td>2010-11-25</td>\n      <td>2010</td>\n      <td>11</td>\n      <td>3</td>\n      <td>25</td>\n      <td>1</td>\n    </tr>\n    <tr>\n      <th>109</th>\n      <td>2010-12-25</td>\n      <td>2010</td>\n      <td>12</td>\n      <td>5</td>\n      <td>25</td>\n      <td>1</td>\n    </tr>\n  </tbody>\n</table>\n</div>"
     },
     "metadata": {},
     "execution_count": 25
    }
   ],
   "source": [
    "df"
   ]
  },
  {
   "cell_type": "code",
   "execution_count": null,
   "metadata": {},
   "outputs": [],
   "source": []
  }
 ]
}